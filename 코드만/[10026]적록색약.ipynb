{
 "cells": [
  {
   "cell_type": "code",
   "execution_count": 75,
   "id": "a32a7697",
   "metadata": {},
   "outputs": [
    {
     "name": "stdout",
     "output_type": "stream",
     "text": [
      "5\n",
      "RRRBB\n",
      "GGBBB\n",
      "BBBRR\n",
      "BBRRR\n",
      "RRRRR\n",
      "4 3\n"
     ]
    }
   ],
   "source": [
    "from collections import deque\n",
    "import sys\n",
    "input = sys.stdin.readline\n",
    "def bfs(graph,visited,i,j):\n",
    "    queue=deque([[i,j]])\n",
    "    while queue:\n",
    "        x,y=queue.popleft()\n",
    "        if visited[x][y]==0:\n",
    "            visited[x][y]=1\n",
    "            for k in range(4):\n",
    "                dx=x+d[k][0]\n",
    "                dy=y+d[k][1]\n",
    "                if 0<=dx<n and 0<=dy<n and visited[dx][dy]==0 and graph[x][y]==graph[dx][dy]:\n",
    "                    queue.append([dx,dy])\n",
    "n=int(input())\n",
    "graph=[list(input()) for _ in range(n)]\n",
    "count1=0\n",
    "count2=0\n",
    "d=[(1,0),(-1,0),(0,1),(0,-1)]\n",
    "visited=[[0]*n for _ in range(n)]\n",
    "for i in range(n):\n",
    "    for j in range(n):\n",
    "        if visited[i][j]==0:\n",
    "            bfs(graph,visited,i,j)\n",
    "            count1+=1\n",
    "for i in range(n):\n",
    "    for j in range(n):\n",
    "        if graph[i][j]==\"G\":graph[i][j]=\"R\"\n",
    "visited=[[0]*n for _ in range(n)]           \n",
    "for i in range(n):\n",
    "    for j in range(n):\n",
    "        if visited[i][j]==0:\n",
    "            bfs(graph,visited,i,j)\n",
    "            count2+=1\n",
    "print(count1,count2)"
   ]
  },
  {
   "cell_type": "code",
   "execution_count": 73,
   "id": "e4c672a6",
   "metadata": {},
   "outputs": [
    {
     "name": "stdout",
     "output_type": "stream",
     "text": [
      "5\n",
      "RRRBB\n",
      "GGBBB\n",
      "BBBRR\n",
      "BBRRR\n",
      "RRRRR\n",
      "4 3\n"
     ]
    }
   ],
   "source": [
    "from collections import deque\n",
    "import sys\n",
    "input = sys.stdin.readline\n",
    "def bfs1(graph,visited,i,j):\n",
    "    queue=deque([[i,j]])\n",
    "    while queue:\n",
    "        x,y=queue.popleft()\n",
    "        if visited[x][y]==0:\n",
    "            visited[x][y]=1\n",
    "            for k in range(4):\n",
    "                dx=x+d[k][0]\n",
    "                dy=y+d[k][1]\n",
    "                if 0<=dx<n and 0<=dy<n and visited[dx][dy]==0 and graph[x][y]==graph[dx][dy]:\n",
    "                    queue.append([dx,dy])\n",
    "def bfs2(graph,visited,i,j):\n",
    "    queue=deque([[i,j]])\n",
    "    while queue:\n",
    "        x,y=queue.popleft()\n",
    "        if visited[x][y]==0:\n",
    "            visited[x][y]=1\n",
    "            for k in range(4):\n",
    "                dx=x+d[k][0]\n",
    "                dy=y+d[k][1]\n",
    "                if 0<=dx<n and 0<=dy<n and visited[dx][dy]==0:\n",
    "                    if (graph[x][y]==graph[dx][dy]\n",
    "                    or (graph[x][y]==\"G\"and graph[dx][dy]==\"R\")\n",
    "                    or (graph[x][y]==\"R\"and graph[dx][dy]==\"G\")):\n",
    "                        queue.append([dx,dy])\n",
    "n=int(input())\n",
    "graph=[list(input()) for _ in range(n)]\n",
    "count1=0\n",
    "count2=0\n",
    "d=[(1,0),(-1,0),(0,1),(0,-1)]\n",
    "visited1=[[0]*n for _ in range(n)]\n",
    "visited2=[[0]*n for _ in range(n)]\n",
    "for i in range(n):\n",
    "    for j in range(n):\n",
    "        if visited1[i][j]==0:\n",
    "            bfs1(graph,visited1,i,j)\n",
    "            count1+=1\n",
    "        if visited2[i][j]==0:\n",
    "            bfs2(graph,visited2,i,j)\n",
    "            count2+=1\n",
    "print(count1,count2)"
   ]
  }
 ],
 "metadata": {
  "kernelspec": {
   "display_name": "Python 3",
   "language": "python",
   "name": "python3"
  },
  "language_info": {
   "codemirror_mode": {
    "name": "ipython",
    "version": 3
   },
   "file_extension": ".py",
   "mimetype": "text/x-python",
   "name": "python",
   "nbconvert_exporter": "python",
   "pygments_lexer": "ipython3",
   "version": "3.8.8"
  }
 },
 "nbformat": 4,
 "nbformat_minor": 5
}
