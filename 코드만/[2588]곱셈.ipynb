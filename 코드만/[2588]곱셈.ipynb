{
 "cells": [
  {
   "cell_type": "code",
   "execution_count": 15,
   "id": "787ad51d",
   "metadata": {},
   "outputs": [
    {
     "name": "stdout",
     "output_type": "stream",
     "text": [
      "385\n",
      "472\n",
      "770\n",
      "2695\n",
      "1540\n",
      "181720\n"
     ]
    }
   ],
   "source": [
    "n,m=list(input() for _ in range(2))\n",
    "for i in reversed(list(m)):\n",
    "    print(int(n)*int(i))\n",
    "print(int(n)*int(m))"
   ]
  },
  {
   "cell_type": "code",
   "execution_count": null,
   "id": "f95e2076",
   "metadata": {},
   "outputs": [],
   "source": []
  }
 ],
 "metadata": {
  "kernelspec": {
   "display_name": "Python 3",
   "language": "python",
   "name": "python3"
  },
  "language_info": {
   "codemirror_mode": {
    "name": "ipython",
    "version": 3
   },
   "file_extension": ".py",
   "mimetype": "text/x-python",
   "name": "python",
   "nbconvert_exporter": "python",
   "pygments_lexer": "ipython3",
   "version": "3.8.8"
  }
 },
 "nbformat": 4,
 "nbformat_minor": 5
}
