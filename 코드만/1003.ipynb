{
 "cells": [
  {
   "cell_type": "code",
   "execution_count": 34,
   "id": "36a3b944",
   "metadata": {},
   "outputs": [
    {
     "name": "stdout",
     "output_type": "stream",
     "text": [
      "2\n",
      "6\n",
      "22\n",
      "5 8\n",
      "10946 17711\n"
     ]
    }
   ],
   "source": [
    "n = int(input())\n",
    "numbers = [int(input()) for _ in range(n)]\n",
    "f = [[0,0] for _ in range(max(numbers)+1)]\n",
    "for i in range(max(numbers)+1):\n",
    "    if i == 0:\n",
    "        f[i][0] = 1\n",
    "    elif i == 1:\n",
    "        f[i][1] = 1\n",
    "    else:\n",
    "        f[i][0] = (f[i-2][0] + f[i-1][0])\n",
    "        f[i][1] = (f[i-2][1] + f[i-1][1])\n",
    "for i in numbers:\n",
    "    print(f[i][0], f[i][1])"
   ]
  },
  {
   "cell_type": "code",
   "execution_count": 56,
   "id": "2e815337",
   "metadata": {},
   "outputs": [
    {
     "name": "stdout",
     "output_type": "stream",
     "text": [
      "6\n",
      "21\n"
     ]
    }
   ],
   "source": [
    "n = int(input())\n",
    "print(sum(i for i in range(1,n+1)))"
   ]
  },
  {
   "cell_type": "code",
   "execution_count": null,
   "id": "dfcff289",
   "metadata": {},
   "outputs": [],
   "source": []
  }
 ],
 "metadata": {
  "kernelspec": {
   "display_name": "Python 3",
   "language": "python",
   "name": "python3"
  },
  "language_info": {
   "codemirror_mode": {
    "name": "ipython",
    "version": 3
   },
   "file_extension": ".py",
   "mimetype": "text/x-python",
   "name": "python",
   "nbconvert_exporter": "python",
   "pygments_lexer": "ipython3",
   "version": "3.8.8"
  }
 },
 "nbformat": 4,
 "nbformat_minor": 5
}
