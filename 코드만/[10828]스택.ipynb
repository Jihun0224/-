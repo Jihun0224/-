{
 "cells": [
  {
   "cell_type": "code",
   "execution_count": null,
   "id": "edf78338",
   "metadata": {},
   "outputs": [],
   "source": [
    "import sys\n",
    "input = sys.stdin.readline\n",
    "n=int(input())\n",
    "stack=[]\n",
    "for _ in range(n):\n",
    "    word=input().split()\n",
    "    if word[0]==\"push\":\n",
    "        stack.append(word[1])\n",
    "    elif word[0]==\"pop\":\n",
    "        if len(stack)==0:\n",
    "            print(-1)\n",
    "        else:\n",
    "            print(stack.pop())\n",
    "    elif word[0]==\"size\":\n",
    "        print(len(stack))\n",
    "    elif word[0]==\"empty\":\n",
    "        if len(stack)==0:print(1)\n",
    "        else:print(0)\n",
    "    else:\n",
    "        if(len(stack)==0):\n",
    "            print(-1)\n",
    "        else:print(stack[-1])\n",
    "    \n",
    "        \n",
    "        "
   ]
  },
  {
   "cell_type": "code",
   "execution_count": null,
   "id": "260a621f",
   "metadata": {},
   "outputs": [],
   "source": []
  }
 ],
 "metadata": {
  "kernelspec": {
   "display_name": "Python 3",
   "language": "python",
   "name": "python3"
  },
  "language_info": {
   "codemirror_mode": {
    "name": "ipython",
    "version": 3
   },
   "file_extension": ".py",
   "mimetype": "text/x-python",
   "name": "python",
   "nbconvert_exporter": "python",
   "pygments_lexer": "ipython3",
   "version": "3.8.8"
  }
 },
 "nbformat": 4,
 "nbformat_minor": 5
}
