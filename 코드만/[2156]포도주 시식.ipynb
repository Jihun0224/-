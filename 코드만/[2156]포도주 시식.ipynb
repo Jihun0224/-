{
 "cells": [
  {
   "cell_type": "code",
   "execution_count": 7,
   "id": "cb68e2bb",
   "metadata": {},
   "outputs": [
    {
     "name": "stdout",
     "output_type": "stream",
     "text": [
      "6\n",
      "6\n",
      "10\n",
      "13\n",
      "9\n",
      "8\n",
      "1\n",
      "33\n"
     ]
    }
   ],
   "source": [
    "import sys\n",
    "input = sys.stdin.readline\n",
    "n=int(input())\n",
    "wine=[int(input()) for _ in range(n)]\n",
    "if n<3:\n",
    "    if n==1:print(wine[0])\n",
    "    elif n==2:print(wine[1]+wine[0])\n",
    "    elif n==3:print(max(wine[0]+wine[2],wine[1]+wine[2],wine[0]+wine[1]))\n",
    "else:\n",
    "    memo=[0 for i in range(n)]\n",
    "    memo[0] = wine[0]\n",
    "    memo[1] = wine[1]+wine[0]\n",
    "    memo[2] = max(wine[0]+wine[2],wine[1]+wine[2],wine[0]+wine[1])\n",
    "\n",
    "    for i in range(3,n):\n",
    "        memo[i] = max(memo[i-2]+wine[i],wine[i-1]+wine[i]+memo[i-3])\n",
    "        memo[i]=max(memo[i-1],memo[i])\n",
    "    print(max(memo))"
   ]
  },
  {
   "cell_type": "code",
   "execution_count": null,
   "id": "e9be2156",
   "metadata": {},
   "outputs": [],
   "source": []
  }
 ],
 "metadata": {
  "kernelspec": {
   "display_name": "Python 3",
   "language": "python",
   "name": "python3"
  },
  "language_info": {
   "codemirror_mode": {
    "name": "ipython",
    "version": 3
   },
   "file_extension": ".py",
   "mimetype": "text/x-python",
   "name": "python",
   "nbconvert_exporter": "python",
   "pygments_lexer": "ipython3",
   "version": "3.8.8"
  }
 },
 "nbformat": 4,
 "nbformat_minor": 5
}
