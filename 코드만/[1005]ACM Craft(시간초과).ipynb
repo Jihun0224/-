{
 "cells": [
  {
   "cell_type": "code",
   "execution_count": 55,
   "id": "6c078c52",
   "metadata": {},
   "outputs": [
    {
     "name": "stdout",
     "output_type": "stream",
     "text": [
      "2\n",
      "4 3\n",
      "5 5 5 5\n",
      "1 2\n",
      "1 3\n",
      "2 3\n",
      "4\n",
      "5\n",
      "7 8\n",
      "0 0 0 0 0 0 0\n",
      "1 2\n",
      "1 3\n",
      "2 4\n",
      "3 4\n",
      "4 5\n",
      "4 6\n",
      "5 7\n",
      "6 7\n",
      "7\n",
      "0\n"
     ]
    }
   ],
   "source": [
    "import sys\n",
    "t = int(sys.stdin.readline())\n",
    "for _ in range(t):\n",
    "    n,k = map(int,sys.stdin.readline().split())\n",
    "    time = list(map(int,sys.stdin.readline().split()))\n",
    "    route = []\n",
    "    for _ in range(k):\n",
    "        route.append(list(map(int,sys.stdin.readline().split())))\n",
    "    w = int(sys.stdin.readline())\n",
    "    answer = [[w]]\n",
    "    tmp = [0]\n",
    "    i = 0\n",
    "    while tmp:\n",
    "        tmp = []\n",
    "        for value in route[:]:\n",
    "            if value[1] in answer[i]:\n",
    "                tmp.append(value[0])\n",
    "                route.remove(value)\n",
    "        if tmp != []:\n",
    "            answer.append(list(set(tmp)))\n",
    "        i += 1\n",
    "    sum_ = 0\n",
    "    for ns in answer:\n",
    "        sum_+=max([time[j-1] for j in ns])\n",
    "    print(sum_)"
   ]
  },
  {
   "cell_type": "code",
   "execution_count": 2,
   "id": "ca6eca4c",
   "metadata": {},
   "outputs": [
    {
     "name": "stdout",
     "output_type": "stream",
     "text": [
      "1\n",
      "4 4\n",
      "10 1 100 10\n",
      "1 2\n",
      "1 3\n",
      "2 4\n",
      "3 4\n",
      "4\n",
      "120\n"
     ]
    }
   ],
   "source": [
    "import sys\n",
    "t = int(input())\n",
    "for _ in range(t):\n",
    "    n,k = map(int,input().split())\n",
    "    time = list(map(int,input().split()))\n",
    "    route = []\n",
    "    for _ in range(k):\n",
    "        route.append(list(map(int,input().split())))\n",
    "    w = int(input())\n",
    "    answer = [[w]]\n",
    "    memo = [[route.index(w)]]\n",
    "    i = 0\n",
    "    while memo[i]:\n",
    "        tmp = []\n",
    "        for value in route:\n",
    "            if value[1] in answer[i]:\n",
    "                tmp.append(value[0])\n",
    "                route.remove(value)\n",
    "        if tmp != []:\n",
    "            answer.append(list(set(tmp)))\n",
    "        i += 1\n",
    "    sum_ = 0\n",
    "    for ns in answer:\n",
    "        sum_+=max([time[j-1] for j in ns])\n",
    "    print(sum_)"
   ]
  },
  {
   "cell_type": "code",
   "execution_count": 3,
   "id": "dbe8092e",
   "metadata": {},
   "outputs": [],
   "source": [
    "s = '''占쏙이옙占쏙옙占쏙옙占쏙옙占쏙문옙占쏙옙占쏙옙占쏙옙占쏙제옙占쏙옙占쏙옙占쏙옙占쏙옙占쏙는옙占쏙옙占쏙옙占쏙옙占쏙옙占쏙옙예占쏙옙占제쏙옙占쏙옙占쏙옙占쏙옙占쏙옙占쏙를옙占쏙옙占쏙옙占쏙옙占쏙옙채占쏙옙占쏙옙占쏙옙占쏙옙占쏙옙占쏙옙占쏙옙점占쏙옙占쏙옙占쏙옙占쏙옙占쏙하옙占지쏙옙占쏙옙占쏙옙占쏙옙占쏙옙占쏙않옙占쏙옙占쏙옙占쏙옙占쏙옙占쏙습옙占쏙옙占쏙옙占쏙니옙占쏙옙占쏙옙占쏙옙占쏙옙占쏙옙占쏙옙占쏙옙다占쏙옙占쏙옙占쏙옙占쏙옙占쏙옙占쏙옙占쏙옙占쏙옙占쏙옙占쏙옙占쏙옙占쏙옙占쏙옙占쏙옙.\n",
    "\n",
    "占쏙옙데占쏙옙占쏙옙占쏙옙占쏙옙占쏙이옙占쏙옙占쏙터옙占쏙옙占는쏙옙占쏙옙占쏙옙占쏙옙占쏙옙占쏙옙占쏙옙占쏙옙占쏙옙占쏙옙占쏙옙占쏙옙占쏙옙占쏙옙占쏙옙占쏙옙占쏙옙占쏙옙占쏙옙占쏙옙占쏙옙占쏙옙占쏙옙한占쏙옙占쏙옙占쏙옙占쏙옙占쏙옙占쏙개옙占쏙옙占쏙옙占쏙옙占쏙옙占쏙옙占쏙옙占쏙옙占쏙옙占쏙옙占쏙옙占쏙옙占쏙옙占쏙옙占쏙옙占쏙옙占쏙옙占쏙옙占쏙옙占쏙옙占쏙옙占쏙옙占쏙옙占쏙옙占쏙옙占쏙옙占쏙옙占쏙옙占쏙옙占쏙옙占쏙옙占쏙옙占쏙옙占쏙옙占쏙옙占쏙옙占쏙옙占쏙옙占쏙옙占쏙옙占쏙옙占쏙옙占쏙옙占쏙옙占쏙옙占쏙옙占쏙옙占쏙옙占쏙옙占쏙옙占쏙옙占쏙옙占쏙옙占쏙옙占쏙옙占쏙옙占쏙옙占쏙옙占쏙옙占쏙옙占쏙옙占쏙옙占쏙옙占쏙옙占쏙옙占쏙옙占쏙옙占쏙옙占쏙옙占쏙옙占쏙옙입占쏙옙占쏙옙占쏙옙占쏙옙占쏙옙占쏙옙占쏙옙니占쏙옙占쏙옙占쏙옙占쏙옙占쏙옙占쏙옙占쏙옙占쏙옙占쏙옙占쏙옙占쏙다옙\n",
    "\n",
    "占쏙옙占쏙옙占쏙옙입占쏙옙占쏙옙占쏙옙占쏙옙占쏙옙占쏙옙占쏙옙占쏙옙占쏙옙占쏙옙占쏙옙占쏙옙占쏙옙占쏙옙占쏙옙력占쏙옙占쏙옙占쏙옙占쏙옙을占쏙옙占쏙옙占쏙옙占쏙옙占쏙받옙占쏙옙占쏙옙占쏙옙占쏙옙占쏙옙占쏙옙占을쏙옙占쏙옙占쏙옙占쏙옙占쏙옙占쏙옙占쏙옙占쏙옙占쏙옙占쏙옙占쏙옙占쏙옙占쏙옙占쏙옙占쏙옙占쏙옙占쏙옙占쏙옙占쏙옙占쏙옙필占쏙옙占쏙옙占쏙옙占쏙옙占쏙옙占쏙옙占쏙옙占쏙옙占쏙옙占쏙옙占쏙옙占쏙옙占쏙옙占쏙옙占쏙옙占쏙옙占쏙옙占쏙옙占쏙옙占쏙옙占쏙옙占쏙옙占쏙옙占쏙옙占쏙옙요占쏙옙占쏙옙占쏙옙占쏙옙占쏙옙占쏙옙占쏙옙占쏙옙占쏙옙占쏙옙占쏙옙占쏙옙占쏙는옙占쏙옙占쏙옙占쏙옙占쏙옙占쏙옙占쏙옙占쏙옙占쏙옙占쏙옙占쏙옙占쏙옙占쏙옙占쏙옙占쏙옙占쏙옙없占쏙옙占쏙옙占쏙옙占쏙옙占쏙옙占쏙옙占쏙옙占쏙옙占쏙옙占쏙옙占쏙옙占쏙옙占쏙옙占쏙옙占쏙옙占쏙옙占쏙옙占쏙옙占쏙옙占쏙옙占쏙옙占쏙옙占쏙옙占쏙옙占다쏙옙占쏙옙'''"
   ]
  },
  {
   "cell_type": "code",
   "execution_count": 12,
   "id": "0aa42656",
   "metadata": {},
   "outputs": [],
   "source": [
    "s = s.replace('쏙',\"\")"
   ]
  },
  {
   "cell_type": "code",
   "execution_count": 13,
   "id": "48adb695",
   "metadata": {},
   "outputs": [
    {
     "data": {
      "text/plain": [
       "'이문제는예제를채점하지않습니다.\\n\\n데이터는한개입니다\\n\\n입력을받을필요는없다'"
      ]
     },
     "execution_count": 13,
     "metadata": {},
     "output_type": "execute_result"
    }
   ],
   "source": [
    "s"
   ]
  },
  {
   "cell_type": "code",
   "execution_count": null,
   "id": "64efd1f7",
   "metadata": {},
   "outputs": [],
   "source": []
  }
 ],
 "metadata": {
  "kernelspec": {
   "display_name": "Python 3",
   "language": "python",
   "name": "python3"
  },
  "language_info": {
   "codemirror_mode": {
    "name": "ipython",
    "version": 3
   },
   "file_extension": ".py",
   "mimetype": "text/x-python",
   "name": "python",
   "nbconvert_exporter": "python",
   "pygments_lexer": "ipython3",
   "version": "3.8.8"
  }
 },
 "nbformat": 4,
 "nbformat_minor": 5
}
