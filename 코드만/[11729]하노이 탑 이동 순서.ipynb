{
 "cells": [
  {
   "cell_type": "code",
   "execution_count": 30,
   "id": "0865d154",
   "metadata": {},
   "outputs": [
    {
     "name": "stdout",
     "output_type": "stream",
     "text": [
      "3\n",
      "7\n",
      "1 3\n",
      "1 2\n",
      "3 2\n",
      "1 3\n",
      "2 1\n",
      "2 3\n",
      "1 3\n"
     ]
    }
   ],
   "source": [
    "def hanoi(N, start, to, via, moves):\n",
    "    if N == 1:\n",
    "        moves.append(start+\" \"+to)\n",
    "    else:\n",
    "        hanoi(N-1, start, via, to, moves)\n",
    "        moves.append(start+\" \"+to)\n",
    "        hanoi(N-1, via, to, start, moves)\n",
    "n = int(input())\n",
    "moves = []\n",
    "hanoi(n,\"1\",\"3\",\"2\",moves)\n",
    "print(len(moves))\n",
    "for move in moves:\n",
    "    print(move)"
   ]
  },
  {
   "cell_type": "code",
   "execution_count": null,
   "id": "7aeaa1d0",
   "metadata": {},
   "outputs": [],
   "source": []
  }
 ],
 "metadata": {
  "kernelspec": {
   "display_name": "Python 3",
   "language": "python",
   "name": "python3"
  },
  "language_info": {
   "codemirror_mode": {
    "name": "ipython",
    "version": 3
   },
   "file_extension": ".py",
   "mimetype": "text/x-python",
   "name": "python",
   "nbconvert_exporter": "python",
   "pygments_lexer": "ipython3",
   "version": "3.8.8"
  }
 },
 "nbformat": 4,
 "nbformat_minor": 5
}
