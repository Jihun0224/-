{
 "cells": [
  {
   "cell_type": "code",
   "execution_count": 8,
   "id": "79d1306a",
   "metadata": {},
   "outputs": [
    {
     "name": "stdout",
     "output_type": "stream",
     "text": [
      "500\n",
      "166699\n"
     ]
    }
   ],
   "source": [
    "n=int(input())\n",
    "i=0\n",
    "num=666\n",
    "while i!=n:\n",
    "    if \"666\"in str(num):\n",
    "        i+=1\n",
    "    num+=1\n",
    "print(num-1)"
   ]
  },
  {
   "cell_type": "code",
   "execution_count": null,
   "id": "b8ea153c",
   "metadata": {},
   "outputs": [],
   "source": []
  }
 ],
 "metadata": {
  "kernelspec": {
   "display_name": "Python 3",
   "language": "python",
   "name": "python3"
  },
  "language_info": {
   "codemirror_mode": {
    "name": "ipython",
    "version": 3
   },
   "file_extension": ".py",
   "mimetype": "text/x-python",
   "name": "python",
   "nbconvert_exporter": "python",
   "pygments_lexer": "ipython3",
   "version": "3.8.8"
  }
 },
 "nbformat": 4,
 "nbformat_minor": 5
}
