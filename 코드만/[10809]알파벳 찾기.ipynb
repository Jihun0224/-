{
 "cells": [
  {
   "cell_type": "code",
   "execution_count": 7,
   "id": "493d95f5",
   "metadata": {},
   "outputs": [
    {
     "name": "stdout",
     "output_type": "stream",
     "text": [
      "fasdfasfsdfaesf\n",
      "1 -1 -1 3 12 0 -1 -1 -1 -1 -1 -1 -1 -1 -1 -1 -1 -1 2 -1 -1 -1 -1 -1 -1 -1 "
     ]
    }
   ],
   "source": [
    "word = input()\n",
    "for alpha in [chr(c) for c in range(ord('a'), ord('z')+1)]:\n",
    "    print(word.find(alpha),end=' ')"
   ]
  }
 ],
 "metadata": {
  "kernelspec": {
   "display_name": "Python 3",
   "language": "python",
   "name": "python3"
  },
  "language_info": {
   "codemirror_mode": {
    "name": "ipython",
    "version": 3
   },
   "file_extension": ".py",
   "mimetype": "text/x-python",
   "name": "python",
   "nbconvert_exporter": "python",
   "pygments_lexer": "ipython3",
   "version": "3.8.8"
  }
 },
 "nbformat": 4,
 "nbformat_minor": 5
}
