{
 "cells": [
  {
   "cell_type": "code",
   "execution_count": 15,
   "id": "78da9685",
   "metadata": {},
   "outputs": [
    {
     "name": "stdout",
     "output_type": "stream",
     "text": [
      "5 3 10\n",
      "10 10 20 20 30\n",
      "1 3\n",
      "2 4\n",
      "4 2\n",
      "Oh no\n"
     ]
    }
   ],
   "source": [
    "graph={}\n",
    "node,edge,money = map(int,input().split())\n",
    "cost=list(map(int,input().split()))\n",
    "for i in range(edge):\n",
    "    n1, n2 = map(int,input().split())\n",
    "    if n1 not in graph:\n",
    "        graph[n1] = [n2]\n",
    "    elif n2 not in graph[n1]:\n",
    "        graph[n1].append(n2)\n",
    "    if n2 not in graph:\n",
    "        graph[n2] = [n1]\n",
    "    elif n1 not in graph[n2]:\n",
    "        graph[n2].append(n1)\n",
    "def dfs(graph, root):\n",
    "    visited = []\n",
    "    stack = [root]\n",
    "    while stack:\n",
    "        n = stack.pop()\n",
    "        if n not in visited:\n",
    "            visited.append(n)\n",
    "            if n in graph:\n",
    "                temp = list(set(graph[n]) - set(visited))\n",
    "                stack += temp\n",
    "    return visited\n",
    "\n",
    "group=[]\n",
    "member=[]\n",
    "for i in range(1,node+1):\n",
    "    if i not in member:\n",
    "        result=dfs(graph,i)\n",
    "        group.append(result)\n",
    "        member+=result\n",
    "\n",
    "groupM=[]\n",
    "for g in group:\n",
    "    temp=money+1\n",
    "    for i in g:\n",
    "        temp=min(temp,cost[i-1])\n",
    "    groupM.append(temp)\n",
    "\n",
    "if sum(groupM)>money:\n",
    "    print(\"Oh no\")\n",
    "else:\n",
    "    print(sum(groupM))"
   ]
  },
  {
   "cell_type": "code",
   "execution_count": 16,
   "id": "d69e61b4",
   "metadata": {},
   "outputs": [
    {
     "data": {
      "text/plain": [
       "[[1, 3], [2, 4], [5]]"
      ]
     },
     "execution_count": 16,
     "metadata": {},
     "output_type": "execute_result"
    }
   ],
   "source": [
    "group"
   ]
  },
  {
   "cell_type": "code",
   "execution_count": 8,
   "id": "267b2354",
   "metadata": {},
   "outputs": [
    {
     "data": {
      "text/plain": [
       "[10, 10, 10]"
      ]
     },
     "execution_count": 8,
     "metadata": {},
     "output_type": "execute_result"
    }
   ],
   "source": [
    "templ"
   ]
  },
  {
   "cell_type": "code",
   "execution_count": null,
   "id": "4bde045b",
   "metadata": {},
   "outputs": [],
   "source": []
  }
 ],
 "metadata": {
  "kernelspec": {
   "display_name": "Python 3",
   "language": "python",
   "name": "python3"
  },
  "language_info": {
   "codemirror_mode": {
    "name": "ipython",
    "version": 3
   },
   "file_extension": ".py",
   "mimetype": "text/x-python",
   "name": "python",
   "nbconvert_exporter": "python",
   "pygments_lexer": "ipython3",
   "version": "3.8.8"
  }
 },
 "nbformat": 4,
 "nbformat_minor": 5
}
