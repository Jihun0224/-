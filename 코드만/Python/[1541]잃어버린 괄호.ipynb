{
 "cells": [
  {
   "cell_type": "code",
   "execution_count": 29,
   "id": "1e2e0922",
   "metadata": {},
   "outputs": [
    {
     "name": "stdout",
     "output_type": "stream",
     "text": [
      "9-4606+4-2-44-3-5442+2453+9-55\n",
      "-12609\n"
     ]
    }
   ],
   "source": [
    "cmd=input().split(\"-\")\n",
    "a=0\n",
    "for i in cmd[0].split('+'):a+=int(i)\n",
    "for i in cmd[1:]:\n",
    "    for j in i.split('+'):a-=int(j)\n",
    "print(a)"
   ]
  }
 ],
 "metadata": {
  "kernelspec": {
   "display_name": "Python 3",
   "language": "python",
   "name": "python3"
  },
  "language_info": {
   "codemirror_mode": {
    "name": "ipython",
    "version": 3
   },
   "file_extension": ".py",
   "mimetype": "text/x-python",
   "name": "python",
   "nbconvert_exporter": "python",
   "pygments_lexer": "ipython3",
   "version": "3.8.8"
  }
 },
 "nbformat": 4,
 "nbformat_minor": 5
}
