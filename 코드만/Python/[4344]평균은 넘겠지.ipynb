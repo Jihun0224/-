{
 "cells": [
  {
   "cell_type": "code",
   "execution_count": 13,
   "id": "c63accc0",
   "metadata": {},
   "outputs": [
    {
     "name": "stdout",
     "output_type": "stream",
     "text": [
      "1\n",
      "5 50 50 70 80 100\n",
      "40.000%\n"
     ]
    }
   ],
   "source": [
    "c = int(input())\n",
    "for _ in range(c):\n",
    "    tmp = list(map(int,input().split()))\n",
    "    n, score = (tmp[0], tmp[1:])\n",
    "    avg = sum(score)/n\n",
    "    count = sum([1 if i > avg else 0 for i in score ])\n",
    "    print(format(round(count/n*100,3),\".3f\")+\"%\")"
   ]
  }
 ],
 "metadata": {
  "kernelspec": {
   "display_name": "Python 3",
   "language": "python",
   "name": "python3"
  },
  "language_info": {
   "codemirror_mode": {
    "name": "ipython",
    "version": 3
   },
   "file_extension": ".py",
   "mimetype": "text/x-python",
   "name": "python",
   "nbconvert_exporter": "python",
   "pygments_lexer": "ipython3",
   "version": "3.8.8"
  }
 },
 "nbformat": 4,
 "nbformat_minor": 5
}
