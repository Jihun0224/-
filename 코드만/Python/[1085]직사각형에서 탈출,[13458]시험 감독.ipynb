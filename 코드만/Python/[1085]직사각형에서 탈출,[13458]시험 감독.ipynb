{
 "cells": [
  {
   "cell_type": "code",
   "execution_count": 5,
   "id": "d09fb098",
   "metadata": {},
   "outputs": [
    {
     "name": "stdout",
     "output_type": "stream",
     "text": [
      "161 181 762 375\n",
      "161\n"
     ]
    }
   ],
   "source": [
    "x,y,w,h=map(int,input().split())\n",
    "print(min(x,y,w-x,h-y))"
   ]
  },
  {
   "cell_type": "code",
   "execution_count": 26,
   "id": "21d6cea7",
   "metadata": {},
   "outputs": [
    {
     "name": "stdout",
     "output_type": "stream",
     "text": [
      "5\n",
      "10 9 10 9 10\n",
      "7 2\n",
      "13\n"
     ]
    }
   ],
   "source": [
    "input()\n",
    "a=list(map(int,input().split()))\n",
    "b,c=map(int,input().split())\n",
    "answer=0\n",
    "v=True\n",
    "if b<c:False\n",
    "for i in a:\n",
    "    if v:\n",
    "        i-=b\n",
    "        answer+=1\n",
    "    answer+=i//c\n",
    "    if i%c!=0:answer+=1\n",
    "print(answer)"
   ]
  },
  {
   "cell_type": "code",
   "execution_count": 27,
   "id": "8395fc2b",
   "metadata": {},
   "outputs": [
    {
     "name": "stdout",
     "output_type": "stream",
     "text": [
      "4\n",
      "500 500 500 500\n",
      "1 4 3 -2\n",
      "-2 1 4 3\n",
      "3 -2 1 4\n",
      "4 3 -2 1\n",
      "1\n"
     ]
    }
   ],
   "source": [
    "n=int(input())\n",
    "person=list(map(int,input().split()))\n",
    "arr=[list(map(int,input().split()))for _ in range(n)]\n",
    "i=int(input())"
   ]
  },
  {
   "cell_type": "code",
   "execution_count": 29,
   "id": "38849328",
   "metadata": {},
   "outputs": [
    {
     "data": {
      "text/plain": [
       "[False, False, False, False]"
      ]
     },
     "execution_count": 29,
     "metadata": {},
     "output_type": "execute_result"
    }
   ],
   "source": [
    "answer=0\n",
    "die=[False]*n\n",
    "def perm():\n",
    "    for a in range(n):\n",
    "        "
   ]
  },
  {
   "cell_type": "code",
   "execution_count": null,
   "id": "c6ae65b3",
   "metadata": {},
   "outputs": [],
   "source": [
    "input()\n",
    "a=list(map(int,input().split()))\n",
    "b,c=map(int,input().split())\n",
    "answer=len(a)\n",
    "for i in a:\n",
    "    i-=b\n",
    "    if i>0:\n",
    "        answer+=i//c\n",
    "        if i%c!=0:answer+=1\n",
    "print(answer)"
   ]
  }
 ],
 "metadata": {
  "kernelspec": {
   "display_name": "Python 3",
   "language": "python",
   "name": "python3"
  },
  "language_info": {
   "codemirror_mode": {
    "name": "ipython",
    "version": 3
   },
   "file_extension": ".py",
   "mimetype": "text/x-python",
   "name": "python",
   "nbconvert_exporter": "python",
   "pygments_lexer": "ipython3",
   "version": "3.8.8"
  }
 },
 "nbformat": 4,
 "nbformat_minor": 5
}
