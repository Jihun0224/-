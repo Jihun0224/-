{
 "cells": [
  {
   "cell_type": "code",
   "execution_count": null,
   "id": "7a588a0d",
   "metadata": {},
   "outputs": [],
   "source": [
    "def pow(a,b,c):\n",
    "    if b==1:\n",
    "        return a%c\n",
    "    temp = pow(a,b//2,c)\n",
    "    if(b%2==1):\n",
    "        return (temp*temp %c)*a%c\n",
    "    return (temp*temp)%c\n",
    "a,b,c = map(int,input().split())\n",
    "\n",
    "print(pow(a,b,c))"
   ]
  }
 ],
 "metadata": {
  "kernelspec": {
   "display_name": "Python 3",
   "language": "python",
   "name": "python3"
  },
  "language_info": {
   "codemirror_mode": {
    "name": "ipython",
    "version": 3
   },
   "file_extension": ".py",
   "mimetype": "text/x-python",
   "name": "python",
   "nbconvert_exporter": "python",
   "pygments_lexer": "ipython3",
   "version": "3.8.8"
  }
 },
 "nbformat": 4,
 "nbformat_minor": 5
}
