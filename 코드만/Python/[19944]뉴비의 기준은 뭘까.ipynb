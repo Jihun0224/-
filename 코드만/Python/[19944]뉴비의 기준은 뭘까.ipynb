{
 "cells": [
  {
   "cell_type": "code",
   "execution_count": 3,
   "id": "1a465d99",
   "metadata": {},
   "outputs": [
    {
     "name": "stdout",
     "output_type": "stream",
     "text": [
      "3 3\n",
      "OLDBIE!\n"
     ]
    }
   ],
   "source": [
    "N,M=map(int,input().split())\n",
    "if M<=2:print(\"NEWBIE!\")\n",
    "elif M<=N:print(\"OLDBIE!\")\n",
    "else:print(\"TLE!\")"
   ]
  }
 ],
 "metadata": {
  "kernelspec": {
   "display_name": "Python 3",
   "language": "python",
   "name": "python3"
  },
  "language_info": {
   "codemirror_mode": {
    "name": "ipython",
    "version": 3
   },
   "file_extension": ".py",
   "mimetype": "text/x-python",
   "name": "python",
   "nbconvert_exporter": "python",
   "pygments_lexer": "ipython3",
   "version": "3.8.8"
  }
 },
 "nbformat": 4,
 "nbformat_minor": 5
}
