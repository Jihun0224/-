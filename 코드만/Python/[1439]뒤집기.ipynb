{
 "cells": [
  {
   "cell_type": "code",
   "execution_count": 73,
   "id": "d79593a7",
   "metadata": {},
   "outputs": [
    {
     "name": "stdout",
     "output_type": "stream",
     "text": [
      "11101101\n",
      "2\n"
     ]
    }
   ],
   "source": [
    "s=input()\n",
    "to,l=[0,0],len(s)\n",
    "for i in range(1,l):\n",
    "    if s[i]!=s[i-1]:\n",
    "        if s[i]=='1':to[0]+=1\n",
    "        else:to[1]+=1\n",
    "print(max(to))"
   ]
  }
 ],
 "metadata": {
  "kernelspec": {
   "display_name": "Python 3",
   "language": "python",
   "name": "python3"
  },
  "language_info": {
   "codemirror_mode": {
    "name": "ipython",
    "version": 3
   },
   "file_extension": ".py",
   "mimetype": "text/x-python",
   "name": "python",
   "nbconvert_exporter": "python",
   "pygments_lexer": "ipython3",
   "version": "3.8.8"
  }
 },
 "nbformat": 4,
 "nbformat_minor": 5
}
