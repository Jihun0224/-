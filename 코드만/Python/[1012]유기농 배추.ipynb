{
 "cells": [
  {
   "cell_type": "code",
   "execution_count": 7,
   "id": "262f2afd",
   "metadata": {},
   "outputs": [
    {
     "name": "stdout",
     "output_type": "stream",
     "text": [
      "1\n",
      "5 3 6\n",
      "0 2\n",
      "1 2\n",
      "2 2\n",
      "3 2\n",
      "4 2\n",
      "4 0\n",
      "2\n"
     ]
    }
   ],
   "source": [
    "import sys \n",
    "#백준 재귀함수 제한으로 인한 에러 해결을 위해\n",
    "sys.setrecursionlimit(10**6)\n",
    "input = sys.stdin.readline\n",
    "def search(data,x,y):\n",
    "    d=[[1,0],[-1,0],[0,1],[0,-1]]\n",
    "    for i in range(4):\n",
    "        dx=x+d[i][0]\n",
    "        dy=y+d[i][1]\n",
    "        if 0<=dx<n and 0<=dy<m and data[dx][dy]:\n",
    "            data[dx][dy]=False\n",
    "            search(data,dx,dy)\n",
    "for _ in range(int(input())):\n",
    "    n,m,k=map(int,input().split())\n",
    "    data=[[False]*m for _ in range(n)]\n",
    "    answer=0\n",
    "    for _ in range(k):\n",
    "        i,j=map(int,input().split())\n",
    "        data[i][j]=True\n",
    "    for i in range(n):\n",
    "        for j in range(m):\n",
    "            if data[i][j]==True:\n",
    "                search(data,i,j)\n",
    "                answer+=1\n",
    "    print(answer)"
   ]
  }
 ],
 "metadata": {
  "kernelspec": {
   "display_name": "Python 3",
   "language": "python",
   "name": "python3"
  },
  "language_info": {
   "codemirror_mode": {
    "name": "ipython",
    "version": 3
   },
   "file_extension": ".py",
   "mimetype": "text/x-python",
   "name": "python",
   "nbconvert_exporter": "python",
   "pygments_lexer": "ipython3",
   "version": "3.8.8"
  }
 },
 "nbformat": 4,
 "nbformat_minor": 5
}
