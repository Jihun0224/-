{
 "cells": [
  {
   "cell_type": "code",
   "execution_count": 21,
   "id": "91459ef9",
   "metadata": {},
   "outputs": [
    {
     "name": "stdout",
     "output_type": "stream",
     "text": [
      "32442\n",
      "99\n",
      "72\n"
     ]
    }
   ],
   "source": [
    "N = int(input())\n",
    "F = int(input())\n",
    "for i in range(100):\n",
    "    tmp = str(N//100)+str(i).zfill(2)\n",
    "    if int(tmp) % F == 0:\n",
    "        print(str(i).zfill(2))\n",
    "        break"
   ]
  },
  {
   "cell_type": "code",
   "execution_count": null,
   "id": "4f89f32a",
   "metadata": {},
   "outputs": [],
   "source": []
  }
 ],
 "metadata": {
  "kernelspec": {
   "display_name": "Python 3",
   "language": "python",
   "name": "python3"
  },
  "language_info": {
   "codemirror_mode": {
    "name": "ipython",
    "version": 3
   },
   "file_extension": ".py",
   "mimetype": "text/x-python",
   "name": "python",
   "nbconvert_exporter": "python",
   "pygments_lexer": "ipython3",
   "version": "3.8.8"
  }
 },
 "nbformat": 4,
 "nbformat_minor": 5
}
