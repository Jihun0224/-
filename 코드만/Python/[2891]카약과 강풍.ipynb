{
 "cells": [
  {
   "cell_type": "code",
   "execution_count": 73,
   "id": "76d4f0ab",
   "metadata": {},
   "outputs": [
    {
     "name": "stdout",
     "output_type": "stream",
     "text": [
      "5 2 3\n",
      "2 4\n",
      "1 3 5\n",
      "0\n"
     ]
    }
   ],
   "source": [
    "I=lambda:list(map(int,input().split()))\n",
    "I();a,b,c=I(),I(),0\n",
    "com=set(a)&set(b)\n",
    "for i in sorted(a):\n",
    "    if i in b:\n",
    "        c+=1\n",
    "        continue\n",
    "    for j in [i-1,i+1]:\n",
    "        if j in b and j not in com:\n",
    "            b.remove(j)\n",
    "            c+=1\n",
    "            break\n",
    "print(len(a)-c)"
   ]
  }
 ],
 "metadata": {
  "kernelspec": {
   "display_name": "Python 3",
   "language": "python",
   "name": "python3"
  },
  "language_info": {
   "codemirror_mode": {
    "name": "ipython",
    "version": 3
   },
   "file_extension": ".py",
   "mimetype": "text/x-python",
   "name": "python",
   "nbconvert_exporter": "python",
   "pygments_lexer": "ipython3",
   "version": "3.8.8"
  }
 },
 "nbformat": 4,
 "nbformat_minor": 5
}
