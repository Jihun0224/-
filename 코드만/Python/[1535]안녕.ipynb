{
 "cells": [
  {
   "cell_type": "code",
   "execution_count": 10,
   "id": "6585da73",
   "metadata": {},
   "outputs": [
    {
     "name": "stdout",
     "output_type": "stream",
     "text": [
      "8\n",
      "100 26 13 17 24 33 100 99\n",
      "34 56 21 1 24 34 100 99\n",
      "135\n"
     ]
    }
   ],
   "source": [
    "n=int(input())\n",
    "L=list(map(int,input().split()))\n",
    "j=list(map(int,input().split()))\n",
    "m=99\n",
    "dp=[0]*(m+1)\n",
    "for i in range(n):\n",
    "    for k in range(m,L[i]-1,-1):\n",
    "        dp[k]=max(dp[k],dp[k-L[i]]+j[i])\n",
    "print(dp[m])"
   ]
  }
 ],
 "metadata": {
  "kernelspec": {
   "display_name": "Python 3",
   "language": "python",
   "name": "python3"
  },
  "language_info": {
   "codemirror_mode": {
    "name": "ipython",
    "version": 3
   },
   "file_extension": ".py",
   "mimetype": "text/x-python",
   "name": "python",
   "nbconvert_exporter": "python",
   "pygments_lexer": "ipython3",
   "version": "3.8.8"
  }
 },
 "nbformat": 4,
 "nbformat_minor": 5
}
