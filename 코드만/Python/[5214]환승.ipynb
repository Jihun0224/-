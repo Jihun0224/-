{
 "cells": [
  {
   "cell_type": "code",
   "execution_count": null,
   "id": "9dbfab9e",
   "metadata": {},
   "outputs": [],
   "source": [
    "from collections import deque\n",
    "import sys \n",
    "input = sys.stdin.readline\n",
    "\n",
    "t = int(input())\n",
    "for _ in range(t):\n",
    "    n,k = map(int,input().split())\n",
    "    time = [0]+list(map(int,input().split()))\n",
    "    graph = [[] for i in range(n + 1)]\n",
    "    indegree = [0] * (n + 1)\n",
    "    memo=[0 for i in range(n + 1)]\n",
    "    for _ in range(k):\n",
    "        a, b = map(int,input().split())\n",
    "        graph[a].append(b)\n",
    "        indegree[b] += 1\n",
    "    w = int(input())\n",
    "    queue = deque()\n",
    "    for i in range(1,n+1):\n",
    "        if indegree[i]==0:\n",
    "            queue.append(i)\n",
    "            memo[i]=time[i]\n",
    "    while queue:\n",
    "        cur=queue.popleft()\n",
    "        for i in graph[cur]:\n",
    "            indegree[i]-=1\n",
    "            memo[i]=max(memo[cur]+time[i],memo[i])\n",
    "            if indegree[i]==0:\n",
    "                queue.append(i)\n",
    "    print(memo[w])"
   ]
  },
  {
   "cell_type": "code",
   "execution_count": null,
   "id": "e2c29683",
   "metadata": {},
   "outputs": [],
   "source": [
    "n,k,m=map(int,input().split())\n",
    "graph = [[] for i in range(n + 1)]\n",
    "memo=[0 for i in range(n + 1)]\n",
    "for m in ragen(m):\n",
    "    temp=list(map(int,input().split()))\n",
    "    "
   ]
  }
 ],
 "metadata": {
  "kernelspec": {
   "display_name": "Python 3",
   "language": "python",
   "name": "python3"
  },
  "language_info": {
   "codemirror_mode": {
    "name": "ipython",
    "version": 3
   },
   "file_extension": ".py",
   "mimetype": "text/x-python",
   "name": "python",
   "nbconvert_exporter": "python",
   "pygments_lexer": "ipython3",
   "version": "3.8.8"
  }
 },
 "nbformat": 4,
 "nbformat_minor": 5
}
