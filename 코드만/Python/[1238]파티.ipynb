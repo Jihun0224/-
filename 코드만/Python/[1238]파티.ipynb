{
 "cells": [
  {
   "cell_type": "code",
   "execution_count": null,
   "id": "c79b3c55",
   "metadata": {},
   "outputs": [],
   "source": [
    "import heapq\n",
    "import sys\n",
    "from math import inf\n",
    "input = sys.stdin.readline \n",
    "n,m,start=map(int,input().split())\n",
    "distance=[0]+[inf]*(n)\n",
    "graph=[[]for i in range(n+1)]\n",
    "\n",
    "for _ in range(m):\n",
    "    s,e,w = map(int,input().split())\n",
    "    graph[s].append((e,w))\n",
    "def dijkstra(start,distance):\n",
    "    q=[]\n",
    "    heapq.heappush(q, (0,start))\n",
    "    distance[start] = 0\n",
    "    while q:\n",
    "        dist,now=heapq.heappop(q)\n",
    "        if distance[now]<dist:continue\n",
    "        for node in graph[now]:\n",
    "            cost = dist + node[1]\n",
    "            if cost < distance[node[0]]:\n",
    "                distance[node[0]] = cost\n",
    "                heapq.heappush(q, (cost,node[0]))\n",
    "dijkstra(start,distance)\n",
    "answer=0\n",
    "for i in range(1,n+1):\n",
    "    temp=[0]+[inf]*(n)\n",
    "    dijkstra(i,temp)\n",
    "    answer=max(answer,distance[i]+temp[start])\n",
    "print(answer)"
   ]
  }
 ],
 "metadata": {
  "kernelspec": {
   "display_name": "Python 3",
   "language": "python",
   "name": "python3"
  },
  "language_info": {
   "codemirror_mode": {
    "name": "ipython",
    "version": 3
   },
   "file_extension": ".py",
   "mimetype": "text/x-python",
   "name": "python",
   "nbconvert_exporter": "python",
   "pygments_lexer": "ipython3",
   "version": "3.8.8"
  }
 },
 "nbformat": 4,
 "nbformat_minor": 5
}
