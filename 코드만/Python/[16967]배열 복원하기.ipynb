{
 "cells": [
  {
   "cell_type": "code",
   "execution_count": null,
   "id": "fb5c2476",
   "metadata": {},
   "outputs": [],
   "source": [
    "h,w,x,y=map(int,input().split())\n",
    "arr=[list(map(int,input().split()))for _ in range(h+x)]\n",
    "answer=[[0]*w for _ in range(h)]\n",
    "for i in range(h):\n",
    "    for j in range(w):\n",
    "        if i-x>=0and j-y>=0:\n",
    "            answer[i][j]=arr[i][j]-answer[i-x][j-y]\n",
    "        else:answer[i][j]=arr[i][j]\n",
    "for a in answer:\n",
    "    print(\" \".join([str(c)for c in a]))"
   ]
  }
 ],
 "metadata": {
  "kernelspec": {
   "display_name": "Python 3",
   "language": "python",
   "name": "python3"
  },
  "language_info": {
   "codemirror_mode": {
    "name": "ipython",
    "version": 3
   },
   "file_extension": ".py",
   "mimetype": "text/x-python",
   "name": "python",
   "nbconvert_exporter": "python",
   "pygments_lexer": "ipython3",
   "version": "3.8.8"
  }
 },
 "nbformat": 4,
 "nbformat_minor": 5
}
