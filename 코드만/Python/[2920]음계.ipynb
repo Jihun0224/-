{
 "cells": [
  {
   "cell_type": "code",
   "execution_count": 26,
   "id": "06adf19f",
   "metadata": {},
   "outputs": [
    {
     "name": "stdout",
     "output_type": "stream",
     "text": [
      "1 2 3 4 5 6 7 8\n",
      "ascending\n"
     ]
    }
   ],
   "source": [
    "arr=list(map(int,input().split()))\n",
    "arr1=sorted(arr)\n",
    "a=True\n",
    "d=True\n",
    "for i in range(len(arr)):\n",
    "    if arr1[i]!=arr[i]:a=False\n",
    "    if arr1[i]!=arr[len(arr)-1-i]:d=False\n",
    "if a:print('ascending')\n",
    "elif d:print('descending')\n",
    "else:print('mixed')"
   ]
  },
  {
   "cell_type": "code",
   "execution_count": null,
   "id": "e6372b62",
   "metadata": {},
   "outputs": [],
   "source": [
    "a=input()[2::2]\n",
    "print({a:\"mixed\",\"2345678\":\"ascending\",\"7654321\":\"descending\"}[a])"
   ]
  }
 ],
 "metadata": {
  "kernelspec": {
   "display_name": "Python 3",
   "language": "python",
   "name": "python3"
  },
  "language_info": {
   "codemirror_mode": {
    "name": "ipython",
    "version": 3
   },
   "file_extension": ".py",
   "mimetype": "text/x-python",
   "name": "python",
   "nbconvert_exporter": "python",
   "pygments_lexer": "ipython3",
   "version": "3.8.8"
  }
 },
 "nbformat": 4,
 "nbformat_minor": 5
}
