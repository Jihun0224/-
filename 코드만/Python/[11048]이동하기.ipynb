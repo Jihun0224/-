{
 "cells": [
  {
   "cell_type": "code",
   "execution_count": 27,
   "id": "0733525e",
   "metadata": {},
   "outputs": [
    {
     "name": "stdout",
     "output_type": "stream",
     "text": [
      "4 3\n",
      "1 2 3\n",
      "6 5 4\n",
      "7 8 9\n",
      "12 11 10\n",
      "47\n"
     ]
    }
   ],
   "source": [
    "I=lambda:map(int,input().split())\n",
    "N,M=I()\n",
    "arr=[list(I())for _ in range(N)]\n",
    "dp=[[0]*M for _ in range(N)]\n",
    "d=[[1,0],[0,1],[1,1]]\n",
    "dp[N-1][M-1]=arr[N-1][M-1]\n",
    "for i in reversed(range(N)):\n",
    "    for j in reversed(range(M)):\n",
    "        for dx,dy in d:\n",
    "            nx=i-dx\n",
    "            ny=j-dy\n",
    "            if nx<0 or ny<0:continue\n",
    "            dp[nx][ny]=max(dp[nx][ny],dp[i][j]+arr[nx][ny])\n",
    "print(dp[0][0])"
   ]
  },
  {
   "cell_type": "code",
   "execution_count": null,
   "id": "6986a6c9",
   "metadata": {},
   "outputs": [],
   "source": []
  }
 ],
 "metadata": {
  "kernelspec": {
   "display_name": "Python 3",
   "language": "python",
   "name": "python3"
  },
  "language_info": {
   "codemirror_mode": {
    "name": "ipython",
    "version": 3
   },
   "file_extension": ".py",
   "mimetype": "text/x-python",
   "name": "python",
   "nbconvert_exporter": "python",
   "pygments_lexer": "ipython3",
   "version": "3.8.8"
  }
 },
 "nbformat": 4,
 "nbformat_minor": 5
}
