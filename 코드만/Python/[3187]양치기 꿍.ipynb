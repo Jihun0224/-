{
 "cells": [
  {
   "cell_type": "code",
   "execution_count": 36,
   "id": "193ce6e6",
   "metadata": {},
   "outputs": [
    {
     "name": "stdout",
     "output_type": "stream",
     "text": [
      "9 12\n",
      ".###.#####..\n",
      "#.kk#...#v#.\n",
      "#..k#.#.#.#.\n",
      "#..##k#...#.\n",
      "#.#v#k###.#.\n",
      "#..#v#....#.\n",
      "#...v#v####.\n",
      ".####.#vv.k#\n",
      ".......####.\n",
      "3 5\n"
     ]
    }
   ],
   "source": [
    "from collections import deque\n",
    "import sys \n",
    "input = sys.stdin.readline\n",
    "h,w=map(int,input().split())\n",
    "map_=[input()for _ in range(h)]\n",
    "visited=[[0]*w for _ in range(h)]\n",
    "d=[(1,0),(-1,0),(0,1),(0,-1)]\n",
    "def bfs(i,j):\n",
    "    queue=deque([[i,j]])\n",
    "    vc=0\n",
    "    kc=0\n",
    "    while queue:\n",
    "        x,y=queue.popleft()\n",
    "        if map_[x][y]==\"k\":kc+=1\n",
    "        elif map_[x][y]==\"v\":vc+=1\n",
    "        for k in range(4):\n",
    "            dx=x+d[k][0]\n",
    "            dy=y+d[k][1]\n",
    "            if 0<=dx<h and 0<=dy<w and visited[dx][dy]==0and map_[dx][dy]!=\"#\":\n",
    "                queue.append([dx,dy])\n",
    "                visited[dx][dy]=1\n",
    "    return [kc,vc]\n",
    "vCount,kCount=0,0\n",
    "for i in range(h):\n",
    "    for j in range(w):\n",
    "        if visited[i][j]==0 and map_[i][j]!=\"#\":\n",
    "            visited[i][j]=1\n",
    "            k,v=bfs(i,j)\n",
    "            if k>v:kCount+=k\n",
    "            else:vCount+=v\n",
    "print(kCount,vCount)"
   ]
  }
 ],
 "metadata": {
  "kernelspec": {
   "display_name": "Python 3",
   "language": "python",
   "name": "python3"
  },
  "language_info": {
   "codemirror_mode": {
    "name": "ipython",
    "version": 3
   },
   "file_extension": ".py",
   "mimetype": "text/x-python",
   "name": "python",
   "nbconvert_exporter": "python",
   "pygments_lexer": "ipython3",
   "version": "3.8.8"
  }
 },
 "nbformat": 4,
 "nbformat_minor": 5
}
