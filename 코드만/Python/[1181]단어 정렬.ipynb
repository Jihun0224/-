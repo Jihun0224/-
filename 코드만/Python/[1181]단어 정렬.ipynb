{
 "cells": [
  {
   "cell_type": "code",
   "execution_count": 26,
   "id": "3eec4c5e",
   "metadata": {},
   "outputs": [
    {
     "name": "stdout",
     "output_type": "stream",
     "text": [
      "3\n",
      "a\n",
      "a\n",
      "aa\n",
      "a\n",
      "aa\n"
     ]
    }
   ],
   "source": [
    "for w in sorted(set([input()for _ in range(int(input()))]),key=lambda w:(len(w),w)):print(w)"
   ]
  },
  {
   "cell_type": "code",
   "execution_count": 25,
   "id": "e5ed2589",
   "metadata": {},
   "outputs": [
    {
     "name": "stdout",
     "output_type": "stream",
     "text": [
      "n\n",
      "n\n",
      "n\n",
      "nn\n",
      "n\n"
     ]
    },
    {
     "data": {
      "text/plain": [
       "{'n', 'nn'}"
      ]
     },
     "execution_count": 25,
     "metadata": {},
     "output_type": "execute_result"
    }
   ],
   "source": [
    "words=set([input() for _ in range(5)])\n",
    "words"
   ]
  },
  {
   "cell_type": "code",
   "execution_count": null,
   "id": "bb62246d",
   "metadata": {},
   "outputs": [],
   "source": []
  }
 ],
 "metadata": {
  "kernelspec": {
   "display_name": "Python 3",
   "language": "python",
   "name": "python3"
  },
  "language_info": {
   "codemirror_mode": {
    "name": "ipython",
    "version": 3
   },
   "file_extension": ".py",
   "mimetype": "text/x-python",
   "name": "python",
   "nbconvert_exporter": "python",
   "pygments_lexer": "ipython3",
   "version": "3.8.8"
  }
 },
 "nbformat": 4,
 "nbformat_minor": 5
}
