{
 "cells": [
  {
   "cell_type": "code",
   "execution_count": 3,
   "id": "10b30b2f",
   "metadata": {},
   "outputs": [
    {
     "name": "stdout",
     "output_type": "stream",
     "text": [
      "1\n",
      "3 5 7 9 6 4 2 8 1\n",
      "4 6 8 1 2 3 5 7 9\n",
      "9 1 2 5 8 7 4 6 3\n",
      "6 3 1 7 9 5 8 4 2\n",
      "7 2 4 3 1 8 6 9 5\n",
      "8 9 5 2 4 6 1 3 7\n",
      "1 7 6 4 5 9 3 2 8\n",
      "5 8 3 6 7 2 9 1 4\n",
      "2 4 9 8 3 1 7 5 6\n",
      "[1, 2, 3, 4, 5, 6, 7, 8, 9]\n",
      "[1, 2, 3, 4, 5, 6, 7, 8, 9]\n",
      "[1, 2, 3, 4, 5, 6, 7, 8, 9]\n",
      "Case 1: CORRECT\n",
      "\n"
     ]
    }
   ],
   "source": [
    "\n",
    "case = int(input())\n",
    "sudoku = [[]for _ in range(9)]\n",
    "list_ = list(range(1,10))\n",
    "for c in range(case):\n",
    "    correct=True\n",
    "    for i in range(9):\n",
    "        sudoku[i] = list(map(int,input().split()))\n",
    "    for row in range(9):\n",
    "        if sorted(sudoku[row]) != list_ or sorted(sudoku[i][row] for i in range(9)) != list_:\n",
    "            print(\"Case \"+str(c+1)+\": INCORRECT\")\n",
    "            correct=False\n",
    "            break\n",
    "    if correct:\n",
    "        for j in range(3):\n",
    "            if correct:\n",
    "                for k in range(3):\n",
    "                    temp = []\n",
    "                    for l in range(3):\n",
    "                        temp.append(sudoku[j*3][k*3+l])\n",
    "                        temp.append(sudoku[j*3+1][k*3+l])\n",
    "                        temp.append(sudoku[j*3+2][k*3+l])\n",
    "                if sorted(temp) != list_:\n",
    "                    print(\"Case \"+str(c+1)+\": INCORRECT\")\n",
    "                    correct=False\n",
    "                    break\n",
    "    if correct:\n",
    "        print(\"Case \"+str(c+1)+\": CORRECT\")\n",
    "    input()"
   ]
  }
 ],
 "metadata": {
  "kernelspec": {
   "display_name": "Python 3",
   "language": "python",
   "name": "python3"
  },
  "language_info": {
   "codemirror_mode": {
    "name": "ipython",
    "version": 3
   },
   "file_extension": ".py",
   "mimetype": "text/x-python",
   "name": "python",
   "nbconvert_exporter": "python",
   "pygments_lexer": "ipython3",
   "version": "3.8.8"
  }
 },
 "nbformat": 4,
 "nbformat_minor": 5
}
