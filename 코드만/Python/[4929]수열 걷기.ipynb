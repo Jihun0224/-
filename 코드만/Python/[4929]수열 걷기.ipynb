{
 "cells": [
  {
   "cell_type": "code",
   "execution_count": 127,
   "id": "a2897a69",
   "metadata": {},
   "outputs": [
    {
     "name": "stdout",
     "output_type": "stream",
     "text": [
      "3 1 2 1\n",
      "5 3 3 1 2 5\n",
      "7 0 0 0 2\n",
      "9 1 1 3 3\n",
      "9 2 1 4 3\n",
      "14\n",
      "13 3 5 7 9 20 25 30 40 55 56 57 60 62\n",
      "13 1 4 7 11 14 25 44 47 55 57 100 22 1\n",
      "15 0 2 0 2\n",
      "69 3 5 3 5\n",
      "215 6 8 6 8\n",
      "328 9 10 9 9\n",
      "328 11 10 10 9\n",
      "451\n",
      "5 1 2 3 4 5\n",
      "5 10 10 2 5 20\n",
      "22 0 1 0 2\n",
      "34 2 4 3 3\n",
      "34 5 4 4 3\n",
      "54\n",
      "4 -5 100 1000 1005\n",
      "3 -12 1000 1001\n",
      "1095 0 2 0 1\n",
      "1095 3 2 2 1\n",
      "2100\n",
      "5\n",
      "1\n",
      "0 0 0 0 0\n",
      "0\n",
      "4 1 1 2 2\n",
      "4 5 1 2 3\n",
      "6 0 0 0 1\n",
      "9 1 2 2 2\n",
      "9 3 2 3 2\n",
      "12\n",
      "0\n"
     ]
    }
   ],
   "source": [
    "I=lambda:list(map(int,input().split()))\n",
    "while 1:\n",
    "    a=I()\n",
    "    if a[0]==0:break\n",
    "    a=a[1:]\n",
    "    b=I()[1:]\n",
    "    answer,sa,sb,ea,eb=0,0,0,0,0\n",
    "    for i,num in enumerate(a):\n",
    "        if num in b[sb:]:\n",
    "            ea=i\n",
    "            eb=b[sb:].index(num)+sb\n",
    "            answer+=max(sum(a[sa:ea]),sum(b[sb:eb]))+num\n",
    "            sa,sb=ea+1,eb+1\n",
    "    answer+=max(sum(a[sa:]),sum(b[sb:]))\n",
    "    print(answer)"
   ]
  }
 ],
 "metadata": {
  "kernelspec": {
   "display_name": "Python 3",
   "language": "python",
   "name": "python3"
  },
  "language_info": {
   "codemirror_mode": {
    "name": "ipython",
    "version": 3
   },
   "file_extension": ".py",
   "mimetype": "text/x-python",
   "name": "python",
   "nbconvert_exporter": "python",
   "pygments_lexer": "ipython3",
   "version": "3.8.8"
  }
 },
 "nbformat": 4,
 "nbformat_minor": 5
}
