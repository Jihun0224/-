{
 "cells": [
  {
   "cell_type": "code",
   "execution_count": 1,
   "id": "7531309f",
   "metadata": {},
   "outputs": [
    {
     "name": "stdout",
     "output_type": "stream",
     "text": [
      "2\n",
      "2\n",
      "0 0\n",
      "1000 0\n",
      "1000 1000\n",
      "2000 1000\n",
      "happy\n",
      "2\n",
      "0 0\n",
      "1000 0\n",
      "2000 1000\n",
      "2000 2000\n",
      "sad\n"
     ]
    }
   ],
   "source": [
    "from collections import deque\n",
    "# import sys\n",
    "# input=sys.stdin.readline\n",
    "def bfs():\n",
    "    q=deque([home])\n",
    "    visited=[False]*n\n",
    "    while q:\n",
    "        x,y=q.popleft()\n",
    "        if abs(x-fes[0])+abs(y-fes[1])<=1000:return True\n",
    "        for i in range(n):\n",
    "            if not visited[i]:\n",
    "                nx,ny=store[i]\n",
    "                if abs(x-nx)+abs(y-ny)<=1000:\n",
    "                    q.append([nx,ny])\n",
    "                    visited[i]=True\n",
    "    return False\n",
    "t=int(input())\n",
    "for _ in range(t):\n",
    "    n=int(input())\n",
    "    home=list(map(int,input().split()))\n",
    "    store=[list(map(int,input().split())) for _ in range(n)]\n",
    "    fes=list(map(int,input().split()))\n",
    "    if(bfs()):print(\"happy\")\n",
    "    else: print(\"sad\")\n",
    "    "
   ]
  }
 ],
 "metadata": {
  "kernelspec": {
   "display_name": "Python 3",
   "language": "python",
   "name": "python3"
  },
  "language_info": {
   "codemirror_mode": {
    "name": "ipython",
    "version": 3
   },
   "file_extension": ".py",
   "mimetype": "text/x-python",
   "name": "python",
   "nbconvert_exporter": "python",
   "pygments_lexer": "ipython3",
   "version": "3.8.8"
  }
 },
 "nbformat": 4,
 "nbformat_minor": 5
}
