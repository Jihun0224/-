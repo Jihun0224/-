{
 "cells": [
  {
   "cell_type": "code",
   "execution_count": null,
   "id": "889a6f3c",
   "metadata": {},
   "outputs": [],
   "source": [
    "from collections import deque\n",
    "import sys \n",
    "input=sys.stdin.readline\n",
    "n=int(input())\n",
    "arr=[list(map(int,input().split())) for _ in range(n)]\n",
    "maxDepth=max(sum(arr,[]))\n",
    "d=[(1,0),(-1,0),(0,1),(0,-1)]\n",
    "def bfs(i,j,depth,visited):\n",
    "    queue=deque([[i,j]])\n",
    "    while queue:\n",
    "        x,y=queue.popleft()\n",
    "        for k in range(4):\n",
    "            dx=x+d[k][0]\n",
    "            dy=y+d[k][1]\n",
    "            if 0<=dx<n and 0<=dy<n and not visited[dx][dy]and arr[dx][dy]>=depth:\n",
    "                queue.append([dx,dy])\n",
    "                visited[dx][dy]=1\n",
    "answer=0\n",
    "for depth in range(1,maxDepth+1):\n",
    "    visited=[[0]*n for _ in range(n)]\n",
    "    count=0\n",
    "    for i in range(n):\n",
    "        for j in range(n):\n",
    "            if not visited[i][j] and arr[i][j]>=depth:\n",
    "                visited[i][j]=1\n",
    "                bfs(i,j,depth,visited)\n",
    "                count+=1\n",
    "    if answer<count:answer=count\n",
    "print(answer)"
   ]
  }
 ],
 "metadata": {
  "kernelspec": {
   "display_name": "Python 3",
   "language": "python",
   "name": "python3"
  },
  "language_info": {
   "codemirror_mode": {
    "name": "ipython",
    "version": 3
   },
   "file_extension": ".py",
   "mimetype": "text/x-python",
   "name": "python",
   "nbconvert_exporter": "python",
   "pygments_lexer": "ipython3",
   "version": "3.8.8"
  }
 },
 "nbformat": 4,
 "nbformat_minor": 5
}
