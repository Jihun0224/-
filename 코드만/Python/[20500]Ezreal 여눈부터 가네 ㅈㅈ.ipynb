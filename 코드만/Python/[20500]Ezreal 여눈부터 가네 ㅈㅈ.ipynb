{
 "cells": [
  {
   "cell_type": "code",
   "execution_count": 14,
   "id": "167b8fae",
   "metadata": {},
   "outputs": [
    {
     "name": "stdout",
     "output_type": "stream",
     "text": [
      "1515\n",
      "939178250\n"
     ]
    }
   ],
   "source": [
    "n=int(input())\n",
    "dp=[[0]*(3)for _ in range(1516)]\n",
    "dp[2][0]=1;dp[2][1]=1\n",
    "for i in range(n+1):\n",
    "    dp[i][0]+=dp[i-1][1]+dp[i-1][2]\n",
    "    dp[i][1]+=dp[i-1][0]+dp[i-1][2]\n",
    "    dp[i][2]+=dp[i-1][0]+dp[i-1][1]\n",
    "print(dp[n][0]%1000000007)"
   ]
  }
 ],
 "metadata": {
  "kernelspec": {
   "display_name": "Python 3",
   "language": "python",
   "name": "python3"
  },
  "language_info": {
   "codemirror_mode": {
    "name": "ipython",
    "version": 3
   },
   "file_extension": ".py",
   "mimetype": "text/x-python",
   "name": "python",
   "nbconvert_exporter": "python",
   "pygments_lexer": "ipython3",
   "version": "3.8.8"
  }
 },
 "nbformat": 4,
 "nbformat_minor": 5
}
