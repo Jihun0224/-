{
 "cells": [
  {
   "cell_type": "markdown",
   "id": "d962b205",
   "metadata": {},
   "source": [
    "# [백준 1002]터렛"
   ]
  },
  {
   "cell_type": "code",
   "execution_count": 51,
   "id": "a1f65bf6",
   "metadata": {},
   "outputs": [
    {
     "name": "stdout",
     "output_type": "stream",
     "text": [
      "1\n",
      "0 0 13 40 0 37\n",
      "2\n"
     ]
    }
   ],
   "source": [
    "n = int(input())\n",
    "coordinates = [list(map(int,input().split()))for i in range(n)]\n",
    "for coordinate in coordinates:\n",
    "    x1,y1,r1,x2,y2,r2 = coordinate\n",
    "    dis = (x1-x2)**2 + (y1-y2)**2\n",
    "    if dis == 0 and r1 == r2:\n",
    "        print(\"-1\")\n",
    "    elif dis > (r1+r2)**2 or dis < (r1-r2)**2:\n",
    "        print(\"0\")\n",
    "    elif dis == (r1+r2)**2 or dis == (r1-r2)**2:\n",
    "        print(\"1\")\n",
    "    else:\n",
    "        print(\"2\")"
   ]
  }
 ],
 "metadata": {
  "kernelspec": {
   "display_name": "Python 3",
   "language": "python",
   "name": "python3"
  },
  "language_info": {
   "codemirror_mode": {
    "name": "ipython",
    "version": 3
   },
   "file_extension": ".py",
   "mimetype": "text/x-python",
   "name": "python",
   "nbconvert_exporter": "python",
   "pygments_lexer": "ipython3",
   "version": "3.8.8"
  }
 },
 "nbformat": 4,
 "nbformat_minor": 5
}
