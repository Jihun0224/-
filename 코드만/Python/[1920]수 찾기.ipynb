{
 "cells": [
  {
   "cell_type": "code",
   "execution_count": 57,
   "id": "59fe140d",
   "metadata": {},
   "outputs": [
    {
     "name": "stdout",
     "output_type": "stream",
     "text": [
      "5\n",
      "4 1 5 2 3\n",
      "5\n",
      "1 3 7 9 5\n",
      "1\n",
      "1\n",
      "0\n",
      "0\n",
      "1\n"
     ]
    }
   ],
   "source": [
    "def search(array,left,right,target):\n",
    "    \n",
    "    if left>right:\n",
    "        print(0)\n",
    "        return\n",
    "    mid=(left+right)//2\n",
    "    if target==array[mid]:\n",
    "        print(1)\n",
    "        return\n",
    "    elif target>array[mid]:\n",
    "        search(array,mid+1,right,target)\n",
    "    else:\n",
    "        search(array,left,mid-1,target)\n",
    "input()\n",
    "N=sorted(list(map(int,input().split())))\n",
    "input()\n",
    "M=list(map(int,input().split()))\n",
    "for m in M:\n",
    "    search(N,0,len(N)-1,m)"
   ]
  }
 ],
 "metadata": {
  "kernelspec": {
   "display_name": "Python 3",
   "language": "python",
   "name": "python3"
  },
  "language_info": {
   "codemirror_mode": {
    "name": "ipython",
    "version": 3
   },
   "file_extension": ".py",
   "mimetype": "text/x-python",
   "name": "python",
   "nbconvert_exporter": "python",
   "pygments_lexer": "ipython3",
   "version": "3.8.8"
  }
 },
 "nbformat": 4,
 "nbformat_minor": 5
}
