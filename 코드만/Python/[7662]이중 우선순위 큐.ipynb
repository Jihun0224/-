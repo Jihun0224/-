{
 "cells": [
  {
   "cell_type": "code",
   "execution_count": 9,
   "id": "8af3c92e",
   "metadata": {},
   "outputs": [
    {
     "name": "stdout",
     "output_type": "stream",
     "text": [
      "2\n",
      "7\n",
      "I 16\n",
      "I -5643\n",
      "D -1\n",
      "D 1\n",
      "D 1\n",
      "I 123\n",
      "D -1\n",
      "EMPTY\n",
      "9\n",
      "I -45\n",
      "I 653\n",
      "D 1\n",
      "I -642\n",
      "I 45\n",
      "I 97\n",
      "D 1\n",
      "D -1\n",
      "I 333\n",
      "333 -45\n"
     ]
    }
   ],
   "source": [
    "import heapq\n",
    "for _ in range(int(input())):\n",
    "    # 동기화를 위해\n",
    "    visited=[False]*1000001\n",
    "    minH=[]\n",
    "    maxH=[]\n",
    "    for i in range(int(input())):\n",
    "        operation=input().split()\n",
    "        if operation[0]==\"I\":\n",
    "            heapq.heappush(minH,(int(operation[1]),i))\n",
    "            heapq.heappush(maxH,(-int(operation[1]),i))\n",
    "            visited[i]=True\n",
    "        elif int(operation[1])==1:\n",
    "            while maxH and not visited[maxH[0][1]]:heapq.heappop(maxH)\n",
    "            if maxH:\n",
    "                    visited[maxH[0][1]]=False\n",
    "                    heapq.heappop(maxH)\n",
    "        else:\n",
    "            while minH and not visited[minH[0][1]]:heapq.heappop(minH)\n",
    "            if minH:\n",
    "                    visited[minH[0][1]]=False\n",
    "                    heapq.heappop(minH)\n",
    "    while maxH and not visited[maxH[0][1]]:heapq.heappop(maxH)\n",
    "    while minH and not visited[minH[0][1]]:heapq.heappop(minH)               \n",
    "    if minH:print(-maxH[0][0],minH[0][0])\n",
    "    else:print(\"EMPTY\")"
   ]
  },
  {
   "cell_type": "code",
   "execution_count": null,
   "id": "410cc4ea",
   "metadata": {},
   "outputs": [],
   "source": []
  }
 ],
 "metadata": {
  "kernelspec": {
   "display_name": "Python 3",
   "language": "python",
   "name": "python3"
  },
  "language_info": {
   "codemirror_mode": {
    "name": "ipython",
    "version": 3
   },
   "file_extension": ".py",
   "mimetype": "text/x-python",
   "name": "python",
   "nbconvert_exporter": "python",
   "pygments_lexer": "ipython3",
   "version": "3.8.8"
  }
 },
 "nbformat": 4,
 "nbformat_minor": 5
}
