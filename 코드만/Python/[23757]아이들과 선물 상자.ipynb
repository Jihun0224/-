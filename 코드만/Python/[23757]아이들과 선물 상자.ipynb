{
 "cells": [
  {
   "cell_type": "code",
   "execution_count": 19,
   "id": "fbd2b3b8",
   "metadata": {},
   "outputs": [
    {
     "name": "stdout",
     "output_type": "stream",
     "text": [
      "4 4\n",
      "3 2 1 3\n",
      "4 4 3 3\n",
      "0\n"
     ]
    }
   ],
   "source": [
    "import heapq\n",
    "I=lambda:list(map(int,input().split()))\n",
    "input()\n",
    "P=[];a=1\n",
    "for p in I():heapq.heappush(P,-p)\n",
    "for c in I():\n",
    "    tmp=-heapq.heappop(P)\n",
    "    if tmp<c:\n",
    "        a=0\n",
    "        break\n",
    "    heapq.heappush(P,-(tmp-c))\n",
    "print(a)"
   ]
  },
  {
   "cell_type": "code",
   "execution_count": null,
   "id": "134131e3",
   "metadata": {},
   "outputs": [],
   "source": []
  }
 ],
 "metadata": {
  "kernelspec": {
   "display_name": "Python 3",
   "language": "python",
   "name": "python3"
  },
  "language_info": {
   "codemirror_mode": {
    "name": "ipython",
    "version": 3
   },
   "file_extension": ".py",
   "mimetype": "text/x-python",
   "name": "python",
   "nbconvert_exporter": "python",
   "pygments_lexer": "ipython3",
   "version": "3.8.8"
  }
 },
 "nbformat": 4,
 "nbformat_minor": 5
}
