{
 "cells": [
  {
   "cell_type": "code",
   "execution_count": 1,
   "id": "9bdb2138",
   "metadata": {},
   "outputs": [
    {
     "name": "stdout",
     "output_type": "stream",
     "text": [
      "5 60\n",
      "30 10 20 35 40\n",
      "3 0 3 5 4\n",
      "6\n"
     ]
    }
   ],
   "source": [
    "N,M=map(int,input().split())\n",
    "memory=list(map(int,input().split()))\n",
    "cost=list(map(int,input().split()))\n",
    "m=sum(cost)\n",
    "dp=[0]*(m+1)\n",
    "for i in range(N):\n",
    "    for j in range(m,cost[i]-1,-1):\n",
    "        dp[j]=max(dp[j],dp[j-cost[i]]+memory[i])\n",
    "for i,v in enumerate(dp):\n",
    "    if v>=M:\n",
    "        print(i)\n",
    "        break"
   ]
  }
 ],
 "metadata": {
  "kernelspec": {
   "display_name": "Python 3",
   "language": "python",
   "name": "python3"
  },
  "language_info": {
   "codemirror_mode": {
    "name": "ipython",
    "version": 3
   },
   "file_extension": ".py",
   "mimetype": "text/x-python",
   "name": "python",
   "nbconvert_exporter": "python",
   "pygments_lexer": "ipython3",
   "version": "3.8.8"
  }
 },
 "nbformat": 4,
 "nbformat_minor": 5
}
