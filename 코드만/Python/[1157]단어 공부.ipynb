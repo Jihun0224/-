{
 "cells": [
  {
   "cell_type": "code",
   "execution_count": 15,
   "id": "1a53825b",
   "metadata": {},
   "outputs": [
    {
     "name": "stdout",
     "output_type": "stream",
     "text": [
      "z\n",
      "Z\n"
     ]
    }
   ],
   "source": [
    "word = input().lower()\n",
    "dic = {}\n",
    "for c in word:\n",
    "    if c not in dic.keys():\n",
    "        dic[c] = 1\n",
    "    else:\n",
    "        dic[c] += 1\n",
    "dic = sorted(dic.items(),key=(lambda x:x[1]),reverse=True)\n",
    "if len(dic) == 1:\n",
    "    print(dic[0][0].upper())\n",
    "elif dic[0][1] != dic[1][1]:\n",
    "    print(dic[0][0].upper())\n",
    "else:\n",
    "    print('?')"
   ]
  }
 ],
 "metadata": {
  "kernelspec": {
   "display_name": "Python 3",
   "language": "python",
   "name": "python3"
  },
  "language_info": {
   "codemirror_mode": {
    "name": "ipython",
    "version": 3
   },
   "file_extension": ".py",
   "mimetype": "text/x-python",
   "name": "python",
   "nbconvert_exporter": "python",
   "pygments_lexer": "ipython3",
   "version": "3.8.8"
  }
 },
 "nbformat": 4,
 "nbformat_minor": 5
}
