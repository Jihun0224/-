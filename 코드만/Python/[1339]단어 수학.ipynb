{
 "cells": [
  {
   "cell_type": "code",
   "execution_count": 70,
   "id": "ec609ecc",
   "metadata": {},
   "outputs": [
    {
     "name": "stdout",
     "output_type": "stream",
     "text": [
      "2\n",
      "AB\n",
      "BA\n",
      "187\n"
     ]
    }
   ],
   "source": [
    "arr=[input()for _ in range(int(input()))]\n",
    "dic=dict()\n",
    "for word in arr:\n",
    "    l=len(word)\n",
    "    for i in range(l):\n",
    "        if word[i] not in dic:\n",
    "            dic[word[i]]=(pow(10,l-i-1))\n",
    "        else:dic[word[i]]+=pow(10,l-i-1)\n",
    "num=sorted(dic.values(),reverse=True)\n",
    "a=0\n",
    "n=9\n",
    "for i in num:\n",
    "    a+=(i*n)\n",
    "    n-=1\n",
    "print(a)"
   ]
  }
 ],
 "metadata": {
  "kernelspec": {
   "display_name": "Python 3",
   "language": "python",
   "name": "python3"
  },
  "language_info": {
   "codemirror_mode": {
    "name": "ipython",
    "version": 3
   },
   "file_extension": ".py",
   "mimetype": "text/x-python",
   "name": "python",
   "nbconvert_exporter": "python",
   "pygments_lexer": "ipython3",
   "version": "3.8.8"
  }
 },
 "nbformat": 4,
 "nbformat_minor": 5
}
