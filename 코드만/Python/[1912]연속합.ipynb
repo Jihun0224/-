{
 "cells": [
  {
   "cell_type": "code",
   "execution_count": 10,
   "id": "31c03cf7",
   "metadata": {},
   "outputs": [
    {
     "name": "stdout",
     "output_type": "stream",
     "text": [
      "5\n",
      "-1 -2 -3 -4 -5\n",
      "-1\n"
     ]
    }
   ],
   "source": [
    "# import sys\n",
    "# input = sys.stdin.readline\n",
    "n = int(input())\n",
    "array  = list(map(int,input().split()))\n",
    "memo = [0 for _ in range(n)]\n",
    "for i in range(n):\n",
    "    if i == 0:\n",
    "        memo[i] = array[i]\n",
    "    else:\n",
    "        if memo[i-1] > 0:\n",
    "            memo[i] = memo[i-1] + array[i]\n",
    "        else:\n",
    "            memo[i] = array[i]\n",
    "print(max(memo))"
   ]
  },
  {
   "cell_type": "code",
   "execution_count": null,
   "id": "618fd504",
   "metadata": {},
   "outputs": [],
   "source": []
  }
 ],
 "metadata": {
  "kernelspec": {
   "display_name": "Python 3",
   "language": "python",
   "name": "python3"
  },
  "language_info": {
   "codemirror_mode": {
    "name": "ipython",
    "version": 3
   },
   "file_extension": ".py",
   "mimetype": "text/x-python",
   "name": "python",
   "nbconvert_exporter": "python",
   "pygments_lexer": "ipython3",
   "version": "3.8.8"
  }
 },
 "nbformat": 4,
 "nbformat_minor": 5
}
