{
 "cells": [
  {
   "cell_type": "code",
   "execution_count": 3,
   "id": "25fa9e5c",
   "metadata": {},
   "outputs": [
    {
     "name": "stdout",
     "output_type": "stream",
     "text": [
      "4\n",
      "3 * 2 = 6\n",
      "correct\n",
      "11 + 11 = 11\n",
      "wrong answer\n",
      "7 - 9 = -2\n",
      "correct\n",
      "1-2=-1\n",
      "correct\n"
     ]
    }
   ],
   "source": [
    "for _ in range(int(input())):\n",
    "    s=input().replace(\"=\",\"==\")\n",
    "    if eval(s):print(\"correct\")\n",
    "    else:print(\"wrong answer\")"
   ]
  }
 ],
 "metadata": {
  "kernelspec": {
   "display_name": "Python 3",
   "language": "python",
   "name": "python3"
  },
  "language_info": {
   "codemirror_mode": {
    "name": "ipython",
    "version": 3
   },
   "file_extension": ".py",
   "mimetype": "text/x-python",
   "name": "python",
   "nbconvert_exporter": "python",
   "pygments_lexer": "ipython3",
   "version": "3.8.8"
  }
 },
 "nbformat": 4,
 "nbformat_minor": 5
}
