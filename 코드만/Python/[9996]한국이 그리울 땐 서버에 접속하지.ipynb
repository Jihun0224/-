{
 "cells": [
  {
   "cell_type": "code",
   "execution_count": 4,
   "id": "3870d39a",
   "metadata": {},
   "outputs": [
    {
     "name": "stdout",
     "output_type": "stream",
     "text": [
      "6\n",
      "h*n\n",
      "asdasd\n",
      "NE\n",
      "NE\n",
      "awdasdasd\n",
      "NE\n",
      "NE\n",
      "qwdasd\n",
      "NE\n",
      "NE\n",
      "wqdsad\n",
      "NE\n",
      "NE\n",
      "awdas\n",
      "NE\n",
      "NE\n",
      "das\n",
      "NE\n",
      "NE\n"
     ]
    }
   ],
   "source": [
    "n=int(input())\n",
    "a=input()\n",
    "s=a.find(\"*\")\n",
    "l=len(a[s+1:])\n",
    "for _ in range(n):\n",
    "    tmp=input()\n",
    "    if len(tmp)>=len(a)-1and tmp[0:s]==a[0:s]and tmp[-l:]==a[s+1:]:print(\"DA\")\n",
    "    else:print(\"NE\")"
   ]
  }
 ],
 "metadata": {
  "kernelspec": {
   "display_name": "Python 3",
   "language": "python",
   "name": "python3"
  },
  "language_info": {
   "codemirror_mode": {
    "name": "ipython",
    "version": 3
   },
   "file_extension": ".py",
   "mimetype": "text/x-python",
   "name": "python",
   "nbconvert_exporter": "python",
   "pygments_lexer": "ipython3",
   "version": "3.8.8"
  }
 },
 "nbformat": 4,
 "nbformat_minor": 5
}
