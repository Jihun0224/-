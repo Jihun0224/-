{
 "cells": [
  {
   "cell_type": "code",
   "execution_count": 16,
   "id": "97ce3985",
   "metadata": {},
   "outputs": [
    {
     "name": "stdout",
     "output_type": "stream",
     "text": [
      "4\n",
      "4 0 0 0 0\n",
      "2 0 0 0 0\n",
      "1 0 0 0 0\n",
      "3 0 0 0 0\n",
      "1 2 3 4 "
     ]
    }
   ],
   "source": [
    "dic={}\n",
    "for _ in range(int(input())):\n",
    "    arr=list(map(int,input().split()))\n",
    "    dic[arr[0]]=arr[1:]\n",
    "answer=[[-1,-1]for _ in range(4)]\n",
    "for i in range(4):\n",
    "    for key in dic:\n",
    "        if dic[key][i]>answer[i][1]:\n",
    "            answer[i][0]=key\n",
    "            answer[i][1]=dic[key][i]\n",
    "        if dic[key][i]==answer[i][1]:\n",
    "            answer[i][0]=min(answer[i][0],key)\n",
    "    del dic[answer[i][0]]\n",
    "for i in answer:print(i[0],end=\" \")"
   ]
  }
 ],
 "metadata": {
  "kernelspec": {
   "display_name": "Python 3",
   "language": "python",
   "name": "python3"
  },
  "language_info": {
   "codemirror_mode": {
    "name": "ipython",
    "version": 3
   },
   "file_extension": ".py",
   "mimetype": "text/x-python",
   "name": "python",
   "nbconvert_exporter": "python",
   "pygments_lexer": "ipython3",
   "version": "3.8.8"
  }
 },
 "nbformat": 4,
 "nbformat_minor": 5
}
