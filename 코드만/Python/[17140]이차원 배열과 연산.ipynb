{
 "cells": [
  {
   "cell_type": "code",
   "execution_count": 4,
   "id": "f34ca522",
   "metadata": {},
   "outputs": [
    {
     "ename": "ValueError",
     "evalue": "not enough values to unpack (expected 3, got 0)",
     "output_type": "error",
     "traceback": [
      "\u001b[1;31m---------------------------------------------------------------------------\u001b[0m",
      "\u001b[1;31mValueError\u001b[0m                                Traceback (most recent call last)",
      "\u001b[1;32m<ipython-input-4-15027a034e48>\u001b[0m in \u001b[0;36m<module>\u001b[1;34m\u001b[0m\n\u001b[0;32m      3\u001b[0m \u001b[0minput\u001b[0m\u001b[1;33m=\u001b[0m\u001b[0msys\u001b[0m\u001b[1;33m.\u001b[0m\u001b[0mstdin\u001b[0m\u001b[1;33m.\u001b[0m\u001b[0mreadline\u001b[0m\u001b[1;33m\u001b[0m\u001b[1;33m\u001b[0m\u001b[0m\n\u001b[0;32m      4\u001b[0m \u001b[0mI\u001b[0m\u001b[1;33m=\u001b[0m\u001b[1;32mlambda\u001b[0m\u001b[1;33m:\u001b[0m\u001b[0mmap\u001b[0m\u001b[1;33m(\u001b[0m\u001b[0mint\u001b[0m\u001b[1;33m,\u001b[0m\u001b[0minput\u001b[0m\u001b[1;33m(\u001b[0m\u001b[1;33m)\u001b[0m\u001b[1;33m.\u001b[0m\u001b[0msplit\u001b[0m\u001b[1;33m(\u001b[0m\u001b[1;33m)\u001b[0m\u001b[1;33m)\u001b[0m\u001b[1;33m\u001b[0m\u001b[1;33m\u001b[0m\u001b[0m\n\u001b[1;32m----> 5\u001b[1;33m \u001b[0mr\u001b[0m\u001b[1;33m,\u001b[0m\u001b[0mc\u001b[0m\u001b[1;33m,\u001b[0m\u001b[0mk\u001b[0m\u001b[1;33m=\u001b[0m\u001b[0mI\u001b[0m\u001b[1;33m(\u001b[0m\u001b[1;33m)\u001b[0m\u001b[1;33m\u001b[0m\u001b[1;33m\u001b[0m\u001b[0m\n\u001b[0m\u001b[0;32m      6\u001b[0m \u001b[0mr\u001b[0m\u001b[1;33m-=\u001b[0m\u001b[1;36m1\u001b[0m\u001b[1;33m;\u001b[0m\u001b[0mc\u001b[0m\u001b[1;33m-=\u001b[0m\u001b[1;36m1\u001b[0m\u001b[1;33m\u001b[0m\u001b[1;33m\u001b[0m\u001b[0m\n\u001b[0;32m      7\u001b[0m \u001b[0manswer\u001b[0m\u001b[1;33m=\u001b[0m\u001b[1;36m0\u001b[0m\u001b[1;33m\u001b[0m\u001b[1;33m\u001b[0m\u001b[0m\n",
      "\u001b[1;31mValueError\u001b[0m: not enough values to unpack (expected 3, got 0)"
     ]
    }
   ],
   "source": [
    "import collections\n",
    "import sys\n",
    "input=sys.stdin.readline\n",
    "I=lambda:map(int,input().split())\n",
    "r,c,k=I()\n",
    "r-=1;c-=1\n",
    "answer=0\n",
    "nowR=nowC=3\n",
    "arr = [list(I())for _ in range(3)]\n",
    "def cal():\n",
    "    global r,c,k,answer,nowR,nowC,arr\n",
    "    if nowR<r or nowC<c or arr[r][c]!=k:\n",
    "        if nowR>=nowC:getCountArr(0)\n",
    "        else:\n",
    "            arr=list(zip(*arr))\n",
    "            getCountArr(1)\n",
    "            arr=list(zip(*arr))\n",
    "        answer+=1\n",
    "        return False\n",
    "    return True\n",
    "def getCountArr(mode):\n",
    "    global nowR,nowC,arr\n",
    "    result=[]\n",
    "    maxL=0\n",
    "    for row in arr:\n",
    "        dic=collections.Counter(row)\n",
    "        tmp=[]\n",
    "        if 0 in dic:del dic[0]\n",
    "        for i in sorted(list(dic.items()),key=lambda x:(x[1],x[0])):\n",
    "            for j in i:tmp.append(j)\n",
    "        if len(tmp)>100:tmp=tmp[:100]\n",
    "        result.append(tmp)\n",
    "        maxL=max(maxL,len(tmp)-1)\n",
    "    for row in result:\n",
    "        for i in range(len(row),maxL+1):\n",
    "            row.append(0)\n",
    "    arr=result\n",
    "    if mode==0:nowC=maxL\n",
    "    else:nowR=maxL\n",
    "        \n",
    "while answer<=100:\n",
    "    if(cal()):break\n",
    "print(answer if answer<=100 else -1)"
   ]
  }
 ],
 "metadata": {
  "kernelspec": {
   "display_name": "Python 3",
   "language": "python",
   "name": "python3"
  },
  "language_info": {
   "codemirror_mode": {
    "name": "ipython",
    "version": 3
   },
   "file_extension": ".py",
   "mimetype": "text/x-python",
   "name": "python",
   "nbconvert_exporter": "python",
   "pygments_lexer": "ipython3",
   "version": "3.8.8"
  }
 },
 "nbformat": 4,
 "nbformat_minor": 5
}
