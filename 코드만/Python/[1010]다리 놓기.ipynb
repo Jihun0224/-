{
 "cells": [
  {
   "cell_type": "code",
   "execution_count": 7,
   "id": "79d3d946",
   "metadata": {},
   "outputs": [
    {
     "name": "stdout",
     "output_type": "stream",
     "text": [
      "3\n",
      "2 2\n",
      "1\n",
      "1 5\n",
      "5\n",
      "13 29\n",
      "67863915\n"
     ]
    }
   ],
   "source": [
    "dp=[[0]*30 for _ in range(30)]\n",
    "def com(n,r):\n",
    "    if dp[n][r]>0:return dp[n][r]\n",
    "    if n==r or r==0:return 1\n",
    "    dp[n][r]=com(n-1,r-1)+com(n-1,r)\n",
    "    return dp[n][r]\n",
    "for _ in range(int(input())):\n",
    "    N,M=map(int,input().split())\n",
    "    print(com(M,N))"
   ]
  },
  {
   "cell_type": "code",
   "execution_count": null,
   "id": "653d219e",
   "metadata": {},
   "outputs": [],
   "source": []
  }
 ],
 "metadata": {
  "kernelspec": {
   "display_name": "Python 3",
   "language": "python",
   "name": "python3"
  },
  "language_info": {
   "codemirror_mode": {
    "name": "ipython",
    "version": 3
   },
   "file_extension": ".py",
   "mimetype": "text/x-python",
   "name": "python",
   "nbconvert_exporter": "python",
   "pygments_lexer": "ipython3",
   "version": "3.8.8"
  }
 },
 "nbformat": 4,
 "nbformat_minor": 5
}
