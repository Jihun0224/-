{
 "cells": [
  {
   "cell_type": "code",
   "execution_count": 42,
   "id": "bc100ce1",
   "metadata": {},
   "outputs": [
    {
     "name": "stdout",
     "output_type": "stream",
     "text": [
      "10 57\n",
      "5\n"
     ]
    }
   ],
   "source": [
    "from collections import deque\n",
    "n,k=map(int,input().split())\n",
    "MAX=500000\n",
    "visited=[[-1]*(MAX+1)for _ in range(2)]\n",
    "visited[0][n]=0\n",
    "q=deque([(n,0)])\n",
    "while q:\n",
    "    now,t=q.popleft()\n",
    "    for i in [2*now,now+1,now-1]:\n",
    "        if 0<=i<=MAX and visited[(t+1)%2][i]==-1:\n",
    "            visited[(t+1)%2][i]=t+1\n",
    "            q.append((i,t+1))\n",
    "a=-1\n",
    "flag=0\n",
    "t=0\n",
    "while k<=MAX:\n",
    "    if visited[flag][k]!=-1:\n",
    "        if visited[flag][k]<=t:\n",
    "            a=t\n",
    "            break\n",
    "    flag=1-flag\n",
    "    t+=1\n",
    "    k+=t\n",
    "print(a)"
   ]
  },
  {
   "cell_type": "code",
   "execution_count": null,
   "id": "c392ad45",
   "metadata": {},
   "outputs": [],
   "source": []
  }
 ],
 "metadata": {
  "kernelspec": {
   "display_name": "Python 3",
   "language": "python",
   "name": "python3"
  },
  "language_info": {
   "codemirror_mode": {
    "name": "ipython",
    "version": 3
   },
   "file_extension": ".py",
   "mimetype": "text/x-python",
   "name": "python",
   "nbconvert_exporter": "python",
   "pygments_lexer": "ipython3",
   "version": "3.8.8"
  }
 },
 "nbformat": 4,
 "nbformat_minor": 5
}
