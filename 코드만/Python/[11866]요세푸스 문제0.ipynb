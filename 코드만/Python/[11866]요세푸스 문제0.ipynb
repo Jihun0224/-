{
 "cells": [
  {
   "cell_type": "code",
   "execution_count": 4,
   "id": "f99702a8",
   "metadata": {},
   "outputs": [
    {
     "name": "stdout",
     "output_type": "stream",
     "text": [
      "7 3\n"
     ]
    }
   ],
   "source": [
    "from collections import deque\n",
    "n,k=map(int,input().split())\n",
    "queue=deque(list(range(1,n+1)))\n",
    "order=[]\n",
    "while queue:\n",
    "    for i in range(k-1):\n",
    "        queue.append(queue.popleft())\n",
    "    order.append(queue.popleft())\n",
    "\n",
    "print(\"<\",end='')\n",
    "for i,o in enumerate(order):\n",
    "    if i==len(order)-1:print(f\"{o}>\",end=\"\")\n",
    "    else:print(f\"{o}, \",end=\"\")"
   ]
  }
 ],
 "metadata": {
  "kernelspec": {
   "display_name": "Python 3",
   "language": "python",
   "name": "python3"
  },
  "language_info": {
   "codemirror_mode": {
    "name": "ipython",
    "version": 3
   },
   "file_extension": ".py",
   "mimetype": "text/x-python",
   "name": "python",
   "nbconvert_exporter": "python",
   "pygments_lexer": "ipython3",
   "version": "3.8.8"
  }
 },
 "nbformat": 4,
 "nbformat_minor": 5
}
