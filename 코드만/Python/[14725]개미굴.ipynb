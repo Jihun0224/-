{
 "cells": [
  {
   "cell_type": "code",
   "execution_count": 1,
   "id": "6a58c8c6",
   "metadata": {},
   "outputs": [
    {
     "name": "stdout",
     "output_type": "stream",
     "text": [
      "3\n",
      "2 B A\n",
      "4 A B C D\n",
      "2 A C\n",
      "A\n",
      "--B\n",
      "----C\n",
      "------D\n",
      "--C\n",
      "B\n",
      "--A\n"
     ]
    }
   ],
   "source": [
    "import sys\n",
    "input=sys.stdin.readline\n",
    "root={}\n",
    "for _ in range(int(input())):\n",
    "    now=root\n",
    "    for i,s in enumerate(input().rstrip().split()):\n",
    "        if i==0:continue\n",
    "        if s not in now:now[s]={}\n",
    "        now=now[s]\n",
    "def print_(now,depth):\n",
    "    for s in sorted(now.keys()):\n",
    "        print('--'*depth+s)\n",
    "        print_(now[s],depth+1)\n",
    "print_(root,0)"
   ]
  }
 ],
 "metadata": {
  "kernelspec": {
   "display_name": "Python 3",
   "language": "python",
   "name": "python3"
  },
  "language_info": {
   "codemirror_mode": {
    "name": "ipython",
    "version": 3
   },
   "file_extension": ".py",
   "mimetype": "text/x-python",
   "name": "python",
   "nbconvert_exporter": "python",
   "pygments_lexer": "ipython3",
   "version": "3.8.8"
  }
 },
 "nbformat": 4,
 "nbformat_minor": 5
}
