{
 "cells": [
  {
   "cell_type": "code",
   "execution_count": 3,
   "id": "57c4166f",
   "metadata": {},
   "outputs": [
    {
     "name": "stdout",
     "output_type": "stream",
     "text": [
      "1 0\n",
      "ㅁㄴㅇ\n",
      "0\n"
     ]
    }
   ],
   "source": [
    "n,k=map(int,input().split())\n",
    "words=[input()for _ in range(n)]\n",
    "a=0\n",
    "state=0\n",
    "for c in['a','n','t','c','i']:\n",
    "    state|=1<<(ord(c)-97)\n",
    "def toBinary(word):\n",
    "    result=0\n",
    "    for c in word:\n",
    "        result|=1<<(ord(c)-97)\n",
    "    return result\n",
    "words=list(map(toBinary,words))\n",
    "def dfs(depth,now,start):\n",
    "    if depth==0:\n",
    "        cnt=0\n",
    "        for word in words:\n",
    "            if word&now==word:cnt+=1\n",
    "        global a\n",
    "        a=max(a,cnt)\n",
    "        return\n",
    "    for i in range(start,26):\n",
    "        if now&(1<<i)==0:\n",
    "            dfs(depth-1,now|1<<(i),i)\n",
    "if k==26:a=n\n",
    "elif k>=5:dfs(k-5,state,0)\n",
    "print(a)"
   ]
  },
  {
   "cell_type": "code",
   "execution_count": null,
   "id": "04278c2d",
   "metadata": {},
   "outputs": [],
   "source": []
  }
 ],
 "metadata": {
  "kernelspec": {
   "display_name": "Python 3",
   "language": "python",
   "name": "python3"
  },
  "language_info": {
   "codemirror_mode": {
    "name": "ipython",
    "version": 3
   },
   "file_extension": ".py",
   "mimetype": "text/x-python",
   "name": "python",
   "nbconvert_exporter": "python",
   "pygments_lexer": "ipython3",
   "version": "3.8.8"
  }
 },
 "nbformat": 4,
 "nbformat_minor": 5
}
