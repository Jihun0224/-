{
 "cells": [
  {
   "cell_type": "code",
   "execution_count": null,
   "id": "6dfafd7a",
   "metadata": {},
   "outputs": [],
   "source": [
    "import sys\n",
    "input=sys.stdin.readline\n",
    "from collections import deque\n",
    "n=int(input())\n",
    "s,e=map(int,input().split())\n",
    "graph={}\n",
    "for _ in range(int(input())):\n",
    "    a,b=map(int,input().split())\n",
    "    if a not in graph:graph[a]=[b]\n",
    "    else: graph[a].append(b)\n",
    "    if b not in graph:graph[b]=[a]\n",
    "    else: graph[b].append(a)\n",
    "def bfs():\n",
    "    visited=[0]*(n+1)\n",
    "    q=deque([s])\n",
    "    visited[s]=1\n",
    "    while q:\n",
    "        tmp=q.popleft()\n",
    "        if tmp==e:return visited[tmp]\n",
    "        for i in graph[tmp]:\n",
    "            if visited[i]==0:\n",
    "                q.append(i)\n",
    "                visited[i]=visited[tmp]+1\n",
    "    return 0\n",
    "print(bfs()-1)"
   ]
  }
 ],
 "metadata": {
  "kernelspec": {
   "display_name": "Python 3",
   "language": "python",
   "name": "python3"
  },
  "language_info": {
   "codemirror_mode": {
    "name": "ipython",
    "version": 3
   },
   "file_extension": ".py",
   "mimetype": "text/x-python",
   "name": "python",
   "nbconvert_exporter": "python",
   "pygments_lexer": "ipython3",
   "version": "3.8.8"
  }
 },
 "nbformat": 4,
 "nbformat_minor": 5
}
