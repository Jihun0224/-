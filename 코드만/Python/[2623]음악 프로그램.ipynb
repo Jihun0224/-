{
 "cells": [
  {
   "cell_type": "code",
   "execution_count": 16,
   "id": "15b3f841",
   "metadata": {},
   "outputs": [
    {
     "name": "stdout",
     "output_type": "stream",
     "text": [
      "6 3\n",
      "3 1 4 3\n",
      "4 6 2 5 4\n",
      "2 2 3\n",
      "1\n",
      "6\n",
      "2\n",
      "5\n",
      "4\n",
      "3\n"
     ]
    }
   ],
   "source": [
    "from collections import deque\n",
    "import sys\n",
    "input=sys.stdin.readline\n",
    "n,m=map(int, input().split())\n",
    "result=[1]*(n+1)\n",
    "graph = [[]for i in range(n+1)]\n",
    "indegree=[0]*(n+1)\n",
    "q=deque()\n",
    "for i in range(m):\n",
    "    l=list(map(int, input().split()))\n",
    "    for j in range(1,len(l)-1):\n",
    "        a=l[j]\n",
    "        for k in range(j+1,len(l)):\n",
    "            b=l[k]\n",
    "            graph[a].append(b)\n",
    "            indegree[b]+=1\n",
    "for i in range(1,n+1):\n",
    "    if indegree[i]==0:\n",
    "        q.append(i)\n",
    "index=0\n",
    "while q:\n",
    "    cur=q.popleft()\n",
    "    result[index]=cur\n",
    "    index+=1\n",
    "    for i in graph[cur]:\n",
    "        indegree[i]-=1\n",
    "        if indegree[i]==0:q.append(i)\n",
    "if sum(indegree)==0:\n",
    "    for i in range(n):\n",
    "        print(result[i])\n",
    "else:print(0)"
   ]
  },
  {
   "cell_type": "code",
   "execution_count": 13,
   "id": "828821b9",
   "metadata": {},
   "outputs": [
    {
     "data": {
      "text/plain": [
       "[[], [4, 3], [5, 4, 3], [], [3], [4], [2, 5, 4]]"
      ]
     },
     "execution_count": 13,
     "metadata": {},
     "output_type": "execute_result"
    }
   ],
   "source": [
    "graph"
   ]
  },
  {
   "cell_type": "code",
   "execution_count": 12,
   "id": "31627157",
   "metadata": {},
   "outputs": [
    {
     "data": {
      "text/plain": [
       "[0, 0, 0, 0, 0, 0, 0]"
      ]
     },
     "execution_count": 12,
     "metadata": {},
     "output_type": "execute_result"
    }
   ],
   "source": [
    "indegree"
   ]
  },
  {
   "cell_type": "code",
   "execution_count": null,
   "id": "a9e59c58",
   "metadata": {},
   "outputs": [],
   "source": []
  }
 ],
 "metadata": {
  "kernelspec": {
   "display_name": "Python 3",
   "language": "python",
   "name": "python3"
  },
  "language_info": {
   "codemirror_mode": {
    "name": "ipython",
    "version": 3
   },
   "file_extension": ".py",
   "mimetype": "text/x-python",
   "name": "python",
   "nbconvert_exporter": "python",
   "pygments_lexer": "ipython3",
   "version": "3.8.8"
  }
 },
 "nbformat": 4,
 "nbformat_minor": 5
}
