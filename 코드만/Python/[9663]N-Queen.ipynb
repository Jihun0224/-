{
 "cells": [
  {
   "cell_type": "code",
   "execution_count": 9,
   "id": "1076bdee",
   "metadata": {},
   "outputs": [
    {
     "name": "stdout",
     "output_type": "stream",
     "text": [
      "8\n",
      "92\n"
     ]
    }
   ],
   "source": [
    "def check(depth): \n",
    "    for i in range(depth):\n",
    "        if arr[depth]==arr[i]or abs(arr[depth]-arr[i])==depth-i:\n",
    "            return False\n",
    "    return True\n",
    "def dfs(depth):\n",
    "    global a\n",
    "    if depth==n:\n",
    "        a+=1\n",
    "        return\n",
    "    else:\n",
    "        for i in range(n):\n",
    "            arr[depth]=i\n",
    "            if check(depth):dfs(depth+1)\n",
    "n=int(input())\n",
    "arr=[0]*n\n",
    "a=0\n",
    "dfs(0)\n",
    "print(a)"
   ]
  },
  {
   "cell_type": "code",
   "execution_count": null,
   "id": "e156d58d",
   "metadata": {},
   "outputs": [],
   "source": []
  }
 ],
 "metadata": {
  "kernelspec": {
   "display_name": "Python 3",
   "language": "python",
   "name": "python3"
  },
  "language_info": {
   "codemirror_mode": {
    "name": "ipython",
    "version": 3
   },
   "file_extension": ".py",
   "mimetype": "text/x-python",
   "name": "python",
   "nbconvert_exporter": "python",
   "pygments_lexer": "ipython3",
   "version": "3.8.8"
  }
 },
 "nbformat": 4,
 "nbformat_minor": 5
}
