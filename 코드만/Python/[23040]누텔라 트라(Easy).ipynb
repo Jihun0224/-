{
 "cells": [
  {
   "cell_type": "code",
   "execution_count": 2,
   "id": "9ee369f8",
   "metadata": {},
   "outputs": [
    {
     "name": "stdout",
     "output_type": "stream",
     "text": [
      "6\n",
      "1 3\n",
      "2 4\n",
      "5 3\n",
      "4 6\n",
      "3 4\n",
      "RRBRRB\n",
      "6\n"
     ]
    }
   ],
   "source": [
    "import sys\n",
    "sys.setrecursionlimit(10**6)\n",
    "def find(x):\n",
    "    if x==p[x]:return x\n",
    "    else:\n",
    "        tmp=find(p[x])\n",
    "        p[x]=tmp\n",
    "        return tmp\n",
    "def union(x,y):\n",
    "    x=find(x)\n",
    "    y=find(y)\n",
    "    if x==y:return\n",
    "    p[y]=x\n",
    "    count[x]+=count[y]\n",
    "    count[y]=count[x]\n",
    "N=int(input())\n",
    "answer=0\n",
    "tree={i:[] for i in range(1,N+1)}\n",
    "p=[i for i in range(N+1)]\n",
    "for _ in range(N-1):\n",
    "    x,y=map(int,input().split())\n",
    "    tree[x].append(y)\n",
    "    tree[y].append(x)\n",
    "color=[0]+list(input())\n",
    "count=[1]*(N+1)\n",
    "for i in range(1,N+1):\n",
    "    if color[i]=='B':continue\n",
    "    for n in tree[i]:\n",
    "        if color[n]=='R':\n",
    "            union(i,n)\n",
    "for i in range(1,N+1):\n",
    "    if color[i]=='B':\n",
    "        for n in tree[i]:\n",
    "            if color[n]=='R':\n",
    "                answer+=count[find(n)]\n",
    "print(answer)"
   ]
  }
 ],
 "metadata": {
  "kernelspec": {
   "display_name": "Python 3",
   "language": "python",
   "name": "python3"
  },
  "language_info": {
   "codemirror_mode": {
    "name": "ipython",
    "version": 3
   },
   "file_extension": ".py",
   "mimetype": "text/x-python",
   "name": "python",
   "nbconvert_exporter": "python",
   "pygments_lexer": "ipython3",
   "version": "3.8.8"
  }
 },
 "nbformat": 4,
 "nbformat_minor": 5
}
