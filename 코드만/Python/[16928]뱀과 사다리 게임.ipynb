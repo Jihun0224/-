{
 "cells": [
  {
   "cell_type": "code",
   "execution_count": 8,
   "id": "c8e4fa42",
   "metadata": {},
   "outputs": [
    {
     "name": "stdout",
     "output_type": "stream",
     "text": [
      "2 1\n",
      "7 94\n",
      "8 94\n",
      "55 54\n",
      "2\n"
     ]
    }
   ],
   "source": [
    "import sys\n",
    "I=lambda:map(int,input().split())\n",
    "arr=list(range(106))\n",
    "visited=[False]*106\n",
    "q=[(1,0)]\n",
    "for _ in range(sum(list(I()))):\n",
    "    x,y=I()\n",
    "    arr[x]=y\n",
    "for x,c in q:\n",
    "    if x==100:\n",
    "        print(c)\n",
    "        break\n",
    "    for i in range(1,7):\n",
    "        if not visited[x+i]:\n",
    "            q.append((arr[x+i],c+1))\n",
    "            visited[x+i]=True"
   ]
  },
  {
   "cell_type": "code",
   "execution_count": null,
   "id": "34912bd2",
   "metadata": {},
   "outputs": [],
   "source": []
  }
 ],
 "metadata": {
  "kernelspec": {
   "display_name": "Python 3",
   "language": "python",
   "name": "python3"
  },
  "language_info": {
   "codemirror_mode": {
    "name": "ipython",
    "version": 3
   },
   "file_extension": ".py",
   "mimetype": "text/x-python",
   "name": "python",
   "nbconvert_exporter": "python",
   "pygments_lexer": "ipython3",
   "version": "3.8.8"
  }
 },
 "nbformat": 4,
 "nbformat_minor": 5
}
