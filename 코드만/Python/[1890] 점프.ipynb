{
 "cells": [
  {
   "cell_type": "code",
   "execution_count": 35,
   "id": "f605b026",
   "metadata": {},
   "outputs": [
    {
     "name": "stdout",
     "output_type": "stream",
     "text": [
      "4\n",
      "2 3 3 1\n",
      "1 2 1 3\n",
      "1 2 3 1\n",
      "3 1 1 0\n",
      "3\n"
     ]
    }
   ],
   "source": [
    "N=int(input())\n",
    "arr = [list(map(int,input().split()))for _ in range(N)]\n",
    "dp = [[-1]*N for _ in range(N)]\n",
    "def dfs(x,y):\n",
    "    if x==N-1 and y==N-1:return 1\n",
    "    if dp[x][y]==-1:\n",
    "        dp[x][y]=0\n",
    "        right=y+arr[x][y]\n",
    "        bottom=x+arr[x][y]\n",
    "        if right<N:dp[x][y]+=dfs(x,right)\n",
    "        if bottom<N:dp[x][y]+=dfs(bottom,y)\n",
    "    return dp[x][y]\n",
    "print(dfs(0,0))"
   ]
  }
 ],
 "metadata": {
  "kernelspec": {
   "display_name": "Python 3",
   "language": "python",
   "name": "python3"
  },
  "language_info": {
   "codemirror_mode": {
    "name": "ipython",
    "version": 3
   },
   "file_extension": ".py",
   "mimetype": "text/x-python",
   "name": "python",
   "nbconvert_exporter": "python",
   "pygments_lexer": "ipython3",
   "version": "3.8.8"
  }
 },
 "nbformat": 4,
 "nbformat_minor": 5
}
