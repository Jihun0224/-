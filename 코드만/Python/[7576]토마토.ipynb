{
 "cells": [
  {
   "cell_type": "markdown",
   "id": "8e2f9b96",
   "metadata": {},
   "source": [
    "### test data"
   ]
  },
  {
   "cell_type": "code",
   "execution_count": 39,
   "id": "91fa5da1",
   "metadata": {},
   "outputs": [],
   "source": [
    "m,n=(5,5)\n",
    "data=[[-1, 1 ,0 ,0, 0],[0, -1 ,-1 ,-1, 0],\n",
    "      [0, -1 ,-1 ,-1, 0],[0, -1 ,-1 ,-1, 0],[0,0,0,0,0]]"
   ]
  },
  {
   "cell_type": "markdown",
   "id": "c190335a",
   "metadata": {},
   "source": [
    "### 시간 초과 "
   ]
  },
  {
   "cell_type": "code",
   "execution_count": 40,
   "id": "c79a4f3e",
   "metadata": {},
   "outputs": [
    {
     "name": "stdout",
     "output_type": "stream",
     "text": [
      "-1\n"
     ]
    }
   ],
   "source": [
    "# m,n=map(int,input().split())\n",
    "# data=[list(map(int,input().split()))for _ in range(n)]\n",
    "if sum(data, []).count(0)==0:print(0)\n",
    "else:\n",
    "    d=[[1,0],[0,1],[-1,0],[0,-1]]\n",
    "    day=0\n",
    "    while 1:\n",
    "        memo=[]\n",
    "        for i in range(n):\n",
    "            for j in range(m):\n",
    "                if data[i][j]==1:\n",
    "                    for k in d:\n",
    "                        dx,dy=x+k[0],y+k[1]\n",
    "                        if  0<=dx<n and 0<=dy<m and data[dx][dy]==0: \n",
    "                            memo.append([dx,dy])\n",
    "        for o in memo:\n",
    "            data[o[0]][o[1]]=1\n",
    "            \n",
    "        if len(memo)!=0:\n",
    "            day+=1\n",
    "        temp=sum(data, []).count(0)\n",
    "        if len(memo)==0 and temp==0:\n",
    "            print(day)\n",
    "            break\n",
    "        elif len(memo)==0:\n",
    "            print(-1)    \n",
    "            break"
   ]
  },
  {
   "cell_type": "markdown",
   "id": "0d4ac416",
   "metadata": {},
   "source": [
    "### bfs"
   ]
  },
  {
   "cell_type": "code",
   "execution_count": 41,
   "id": "0d4abd08",
   "metadata": {},
   "outputs": [
    {
     "name": "stdout",
     "output_type": "stream",
     "text": [
      "6\n"
     ]
    }
   ],
   "source": [
    "from collections import deque\n",
    "# m,n=map(int,input().split())\n",
    "# data=[list(map(int,input().split()))for _ in range(n)]\n",
    "queue = deque([])\n",
    "for i in range(n):\n",
    "    for j in range(m): \n",
    "        if data[i][j]==1:\n",
    "            queue.append([i,j])\n",
    "            \n",
    "d=[[1,0],[0,1],[-1,0],[0,-1]]\n",
    "while queue:\n",
    "    x,y=queue.popleft()\n",
    "    for k in d:\n",
    "        dx,dy=x+k[0],y+k[1]\n",
    "        if 0<=dx<n and 0<=dy<m and data[dx][dy]==0:\n",
    "            queue.append([dx,dy])\n",
    "            data[dx][dy] = data[x][y]+1\n",
    "day = 0\n",
    "for i in range(n):\n",
    "    for j in range(m):\n",
    "        if data[i][j]==0:\n",
    "            print(-1)\n",
    "            exit(0)\n",
    "        day = max(day,data[i][j])\n",
    "print(day-1)"
   ]
  },
  {
   "cell_type": "code",
   "execution_count": null,
   "id": "d98fcfb6",
   "metadata": {},
   "outputs": [],
   "source": []
  }
 ],
 "metadata": {
  "kernelspec": {
   "display_name": "Python 3",
   "language": "python",
   "name": "python3"
  },
  "language_info": {
   "codemirror_mode": {
    "name": "ipython",
    "version": 3
   },
   "file_extension": ".py",
   "mimetype": "text/x-python",
   "name": "python",
   "nbconvert_exporter": "python",
   "pygments_lexer": "ipython3",
   "version": "3.8.8"
  }
 },
 "nbformat": 4,
 "nbformat_minor": 5
}
