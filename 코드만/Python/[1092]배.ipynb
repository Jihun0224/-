{
 "cells": [
  {
   "cell_type": "code",
   "execution_count": 46,
   "id": "d03c8723",
   "metadata": {},
   "outputs": [
    {
     "name": "stdout",
     "output_type": "stream",
     "text": [
      "10\n",
      "11 17 5 2 20 7 5 5 20 7\n",
      "5\n",
      "18 18 15 15 17\n",
      "2\n"
     ]
    }
   ],
   "source": [
    "I=lambda:sorted(list(map(int,input().split())),reverse=True)\n",
    "input();crane=I();input();box=I();a=0\n",
    "if crane[0]<box[0]:print(-1)\n",
    "else:\n",
    "    while box:\n",
    "        for c in crane:\n",
    "            for b in box:\n",
    "                if c>=b:\n",
    "                    box.remove(b)\n",
    "                    break\n",
    "        a+=1\n",
    "    print(a)"
   ]
  },
  {
   "cell_type": "code",
   "execution_count": null,
   "id": "54483262",
   "metadata": {},
   "outputs": [],
   "source": []
  }
 ],
 "metadata": {
  "kernelspec": {
   "display_name": "Python 3",
   "language": "python",
   "name": "python3"
  },
  "language_info": {
   "codemirror_mode": {
    "name": "ipython",
    "version": 3
   },
   "file_extension": ".py",
   "mimetype": "text/x-python",
   "name": "python",
   "nbconvert_exporter": "python",
   "pygments_lexer": "ipython3",
   "version": "3.8.8"
  }
 },
 "nbformat": 4,
 "nbformat_minor": 5
}
