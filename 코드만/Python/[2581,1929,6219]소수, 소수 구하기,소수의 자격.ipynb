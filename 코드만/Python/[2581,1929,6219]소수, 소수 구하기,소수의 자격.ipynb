{
 "cells": [
  {
   "cell_type": "code",
   "execution_count": 62,
   "id": "c8a52dec",
   "metadata": {},
   "outputs": [
    {
     "name": "stdout",
     "output_type": "stream",
     "text": [
      "1\n"
     ]
    },
    {
     "name": "stderr",
     "output_type": "stream",
     "text": [
      "IOPub data rate exceeded.\n",
      "The notebook server will temporarily stop sending output\n",
      "to the client in order to avoid crashing it.\n",
      "To change this limit, set the config variable\n",
      "`--NotebookApp.iopub_data_rate_limit`.\n",
      "\n",
      "Current values:\n",
      "NotebookApp.iopub_data_rate_limit=1000000.0 (bytes/sec)\n",
      "NotebookApp.rate_limit_window=3.0 (secs)\n",
      "\n"
     ]
    }
   ],
   "source": [
    "#6219\n",
    "a,b,d = map(int,input().split())\n",
    "numbers = [True] *(b+1)\n",
    "for i in range(2,int(b**0.5)+1):\n",
    "    if numbers[i]:\n",
    "        for j in range(i+i,b+1,i):\n",
    "            numbers[j] = False\n",
    "\n",
    "number = [i for i in range(a,b+1) if numbers[i]==True and str(d) in str(i)]\n",
    "print(len(number))"
   ]
  },
  {
   "cell_type": "code",
   "execution_count": 66,
   "id": "10af0254",
   "metadata": {},
   "outputs": [
    {
     "name": "stdout",
     "output_type": "stream",
     "text": [
      "1\n",
      "2\n"
     ]
    }
   ],
   "source": [
    "##\n",
    "for i in range(2,int(b**0.5)+1):\n",
    "    if numbers[i]:\n",
    "        for j in range(i+i,b+1,i):\n",
    "            numbers[j] = False\n",
    "n = int(input())\n",
    "answer = []\n",
    "i=2\n",
    "while len(answer) != n:\n",
    "    if isPrime(i):\n",
    "        answer.append(i)\n",
    "    i+=1\n",
    "print(answer[n-1])\n"
   ]
  },
  {
   "cell_type": "code",
   "execution_count": 50,
   "id": "d9567b0a",
   "metadata": {},
   "outputs": [
    {
     "name": "stdout",
     "output_type": "stream",
     "text": [
      "64\n",
      "65\n",
      "-1\n"
     ]
    }
   ],
   "source": [
    "def isPrime(num):\n",
    "    if num == 1:return False\n",
    "    else:\n",
    "        for i in range(2, int(num**0.5) + 1):\n",
    "            if num % i == 0:\n",
    "                return False\n",
    "        return True\n",
    "m = int(input())\n",
    "n = int(input())\n",
    "answer = []\n",
    "for i in range(m, n+1):\n",
    "    if isPrime(i):\n",
    "        answer.append(i)\n",
    "if answer:\n",
    "    print(sum(answer))\n",
    "    print(answer[0])\n",
    "else:\n",
    "    print(-1)"
   ]
  }
 ],
 "metadata": {
  "kernelspec": {
   "display_name": "Python 3",
   "language": "python",
   "name": "python3"
  },
  "language_info": {
   "codemirror_mode": {
    "name": "ipython",
    "version": 3
   },
   "file_extension": ".py",
   "mimetype": "text/x-python",
   "name": "python",
   "nbconvert_exporter": "python",
   "pygments_lexer": "ipython3",
   "version": "3.8.8"
  }
 },
 "nbformat": 4,
 "nbformat_minor": 5
}
