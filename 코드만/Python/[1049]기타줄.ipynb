{
 "cells": [
  {
   "cell_type": "code",
   "execution_count": 14,
   "id": "125da22c",
   "metadata": {},
   "outputs": [
    {
     "name": "stdout",
     "output_type": "stream",
     "text": [
      "6 2\n",
      "11 2\n",
      "100 10\n",
      "11\n"
     ]
    }
   ],
   "source": [
    "I=lambda:map(int,input().split())\n",
    "N,M=I()\n",
    "p,s=1000,1000\n",
    "for _ in range(M):\n",
    "    i,j=I()\n",
    "    p=min(p,i)\n",
    "    s=min(s,j)\n",
    "t=N//6\n",
    "if p>s*6:print(s*N)\n",
    "else:print(min(p*(t+1),p*t+s*(N%6)))"
   ]
  },
  {
   "cell_type": "code",
   "execution_count": null,
   "id": "ae1e7881",
   "metadata": {},
   "outputs": [],
   "source": []
  }
 ],
 "metadata": {
  "kernelspec": {
   "display_name": "Python 3",
   "language": "python",
   "name": "python3"
  },
  "language_info": {
   "codemirror_mode": {
    "name": "ipython",
    "version": 3
   },
   "file_extension": ".py",
   "mimetype": "text/x-python",
   "name": "python",
   "nbconvert_exporter": "python",
   "pygments_lexer": "ipython3",
   "version": "3.8.8"
  }
 },
 "nbformat": 4,
 "nbformat_minor": 5
}
