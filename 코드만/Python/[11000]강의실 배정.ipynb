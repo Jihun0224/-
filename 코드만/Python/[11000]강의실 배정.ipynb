{
 "cells": [
  {
   "cell_type": "code",
   "execution_count": 1,
   "id": "88753001",
   "metadata": {},
   "outputs": [
    {
     "name": "stdout",
     "output_type": "stream",
     "text": [
      "3\n",
      "1 5\n",
      "2 4\n",
      "4 6\n",
      "2\n"
     ]
    }
   ],
   "source": [
    "import heapq\n",
    "# import sys\n",
    "# input=sys.stdin.readline\n",
    "arr=sorted([list(map(int,input().split())) for _ in range(int(input()))],key=lambda x:(x[0],x[1]))\n",
    "heap=[arr[0][1]]\n",
    "arr.pop(0)\n",
    "for s,e in arr:\n",
    "    if heap[0]>s:\n",
    "        heapq.heappush(heap,e)\n",
    "    else:\n",
    "        heapq.heappop(heap)\n",
    "        heapq.heappush(heap,e)\n",
    "print(len(heap))"
   ]
  },
  {
   "cell_type": "code",
   "execution_count": null,
   "id": "d3143a5c",
   "metadata": {},
   "outputs": [],
   "source": []
  }
 ],
 "metadata": {
  "kernelspec": {
   "display_name": "Python 3",
   "language": "python",
   "name": "python3"
  },
  "language_info": {
   "codemirror_mode": {
    "name": "ipython",
    "version": 3
   },
   "file_extension": ".py",
   "mimetype": "text/x-python",
   "name": "python",
   "nbconvert_exporter": "python",
   "pygments_lexer": "ipython3",
   "version": "3.8.8"
  }
 },
 "nbformat": 4,
 "nbformat_minor": 5
}
