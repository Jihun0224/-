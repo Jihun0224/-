{
 "cells": [
  {
   "cell_type": "code",
   "execution_count": 7,
   "id": "fad43efb",
   "metadata": {},
   "outputs": [],
   "source": [
    "from collections import deque\n"
   ]
  },
  {
   "cell_type": "code",
   "execution_count": null,
   "id": "89ec9ce8",
   "metadata": {},
   "outputs": [
    {
     "name": "stdout",
     "output_type": "stream",
     "text": [
      "2 2\n",
      "0 1\n",
      "1 0\n",
      "2\n"
     ]
    }
   ],
   "source": [
    "def dfs(i,j,graph,visited):\n",
    "    d= [[1,1],[1,0],[1,-1],[0,1],[0,-1],[-1,1],[-1,0],[-1,-1]]\n",
    "    for i in range(8):\n",
    "        dx=i+d[i][0]\n",
    "        dy=j+d[i][1]\n",
    "        if 0<=dx<h and 0<=dy<w and graph[dx][dy]==1 and visited[dx][dy]==0:\n",
    "            visited[dx][dy]=1\n",
    "            search(dx,dy)\n",
    "while 1:\n",
    "    w,h=map(int,input().split())\n",
    "    if w==0 and h==0:\n",
    "        break\n",
    "    else:\n",
    "        graph=[list(map(int,input().split())) for _ in range(h)]\n",
    "        count=0\n",
    "        visited=[[0]*w for _ in range(h)]\n",
    "        for i in range(h):\n",
    "            for j in range(w):\n",
    "                if graph[i][j]==1 and visited[i][j]==0:\n",
    "                    dfs(i,j,graph,visited)\n",
    "                    count+=1\n",
    "        print(count)\n",
    "\n",
    "    "
   ]
  },
  {
   "cell_type": "code",
   "execution_count": null,
   "id": "612e76c3",
   "metadata": {},
   "outputs": [],
   "source": []
  }
 ],
 "metadata": {
  "kernelspec": {
   "display_name": "Python 3",
   "language": "python",
   "name": "python3"
  },
  "language_info": {
   "codemirror_mode": {
    "name": "ipython",
    "version": 3
   },
   "file_extension": ".py",
   "mimetype": "text/x-python",
   "name": "python",
   "nbconvert_exporter": "python",
   "pygments_lexer": "ipython3",
   "version": "3.8.8"
  }
 },
 "nbformat": 4,
 "nbformat_minor": 5
}
