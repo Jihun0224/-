{
 "cells": [
  {
   "cell_type": "code",
   "execution_count": 45,
   "id": "736b1236",
   "metadata": {},
   "outputs": [
    {
     "name": "stdout",
     "output_type": "stream",
     "text": [
      "5\n",
      "ycpzy\n",
      "cyzzp\n",
      "ccppp\n",
      "ycyzc\n",
      "cppzz\n",
      "4\n"
     ]
    }
   ],
   "source": [
    "import sys\n",
    "input = sys.stdin.readline\n",
    "n=int(input())\n",
    "data=[list(input())for _ in range(n)]\n",
    "answer=0\n",
    "def search():\n",
    "    global answer\n",
    "    for i in range(n):\n",
    "        count_r=1\n",
    "        for j in range(n-1):\n",
    "            if data[i][j]==data[i][j+1]:\n",
    "                count_r+=1\n",
    "                answer=max(answer,count_r)\n",
    "            else:\n",
    "                count_r=1\n",
    "    for i in range(n):\n",
    "        count_c=1\n",
    "        for j in range(n-1):\n",
    "            if data[j][i]==data[j+1][i]:\n",
    "                count_c+=1\n",
    "                answer=max(answer,count_c)\n",
    "            else:\n",
    "                count_c=1\n",
    "        \n",
    "for i in range(n):\n",
    "    for j in range(n-1):\n",
    "        data[i][j],data[i][j+1]=data[i][j+1],data[i][j]\n",
    "        search()\n",
    "        data[i][j+1],data[i][j]=data[i][j],data[i][j+1]\n",
    "        data[j][i],data[j+1][i]=data[j+1][i],data[j][i]\n",
    "        search()\n",
    "        data[j+1][i],data[j][i]=data[j][i],data[j+1][i]\n",
    "print(answer)"
   ]
  },
  {
   "cell_type": "code",
   "execution_count": null,
   "id": "69011412",
   "metadata": {},
   "outputs": [],
   "source": []
  }
 ],
 "metadata": {
  "kernelspec": {
   "display_name": "Python 3",
   "language": "python",
   "name": "python3"
  },
  "language_info": {
   "codemirror_mode": {
    "name": "ipython",
    "version": 3
   },
   "file_extension": ".py",
   "mimetype": "text/x-python",
   "name": "python",
   "nbconvert_exporter": "python",
   "pygments_lexer": "ipython3",
   "version": "3.8.8"
  }
 },
 "nbformat": 4,
 "nbformat_minor": 5
}
