{
 "cells": [
  {
   "cell_type": "code",
   "execution_count": 16,
   "id": "d5101ee8",
   "metadata": {},
   "outputs": [
    {
     "name": "stdout",
     "output_type": "stream",
     "text": [
      "1000000\n",
      "19\n"
     ]
    }
   ],
   "source": [
    "from collections import deque\n",
    "x=int(input())\n",
    "MAX=1000001\n",
    "count=[0]*(MAX)\n",
    "queue=deque([x])\n",
    "while 1:\n",
    "    num=queue.popleft()\n",
    "    if num==1:\n",
    "        print(count[1])\n",
    "        break\n",
    "    if num%3==0 and count[num//3]==0:\n",
    "        queue.append(num//3)\n",
    "        count[num//3]=count[num]+1\n",
    "    if num%2==0 and count[num//2]==0:\n",
    "        queue.append(num//2)\n",
    "        count[num//2]=count[num]+1\n",
    "    if num>2 and count[num-1]==0:\n",
    "        queue.append(num-1)\n",
    "        count[num-1]=count[num]+1"
   ]
  }
 ],
 "metadata": {
  "kernelspec": {
   "display_name": "Python 3",
   "language": "python",
   "name": "python3"
  },
  "language_info": {
   "codemirror_mode": {
    "name": "ipython",
    "version": 3
   },
   "file_extension": ".py",
   "mimetype": "text/x-python",
   "name": "python",
   "nbconvert_exporter": "python",
   "pygments_lexer": "ipython3",
   "version": "3.8.8"
  }
 },
 "nbformat": 4,
 "nbformat_minor": 5
}
