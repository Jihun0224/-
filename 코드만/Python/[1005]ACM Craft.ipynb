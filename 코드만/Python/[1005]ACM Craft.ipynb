{
 "cells": [
  {
   "cell_type": "markdown",
   "id": "bfb57594",
   "metadata": {},
   "source": [
    "## 시간초과"
   ]
  },
  {
   "cell_type": "code",
   "execution_count": null,
   "id": "6c078c52",
   "metadata": {},
   "outputs": [],
   "source": [
    "import sys\n",
    "t = int(sys.stdin.readline())\n",
    "for _ in range(t):\n",
    "    n,k = map(int,sys.stdin.readline().split())\n",
    "    time = list(map(int,sys.stdin.readline().split()))\n",
    "    route = []\n",
    "    for _ in range(k):\n",
    "        route.append(list(map(int,sys.stdin.readline().split())))\n",
    "    w = int(sys.stdin.readline())\n",
    "    answer = [[w]]\n",
    "    tmp = [0]\n",
    "    i = 0\n",
    "    while tmp:\n",
    "        tmp = []\n",
    "        for value in route[:]:\n",
    "            if value[1] in answer[i]:\n",
    "                tmp.append(value[0])\n",
    "                route.remove(value)\n",
    "        if tmp != []:\n",
    "            answer.append(list(set(tmp)))\n",
    "        i += 1\n",
    "    sum_ = 0\n",
    "    for ns in answer:\n",
    "        sum_+=max([time[j-1] for j in ns])\n",
    "    print(sum_)"
   ]
  },
  {
   "cell_type": "markdown",
   "id": "e9124bbc",
   "metadata": {},
   "source": [
    "## 통과\n",
    "### 위상 정렬 + DP"
   ]
  },
  {
   "cell_type": "code",
   "execution_count": 51,
   "id": "64efd1f7",
   "metadata": {},
   "outputs": [
    {
     "name": "stdout",
     "output_type": "stream",
     "text": [
      "2\n",
      "4 4\n",
      "10 1 100 10\n",
      "1 2\n",
      "1 3\n",
      "2 4\n",
      "3 4\n",
      "4\n",
      "120\n",
      "8 8\n",
      "10 20 1 5 8 7 1 43\n",
      "1 2\n",
      "1 3\n",
      "2 4\n",
      "2 5\n",
      "3 6\n",
      "5 7\n",
      "6 7\n",
      "7 8\n",
      "7\n",
      "39\n"
     ]
    }
   ],
   "source": [
    "from collections import deque\n",
    "import sys \n",
    "input = sys.stdin.readline\n",
    "\n",
    "t = int(input())\n",
    "for _ in range(t):\n",
    "    n,k = map(int,input().split())\n",
    "    time = [0]+list(map(int,input().split()))\n",
    "    graph = [[] for i in range(n + 1)]\n",
    "    indegree = [0] * (n + 1)\n",
    "    memo=[0 for i in range(n + 1)]\n",
    "    for _ in range(k):\n",
    "        a, b = map(int,input().split())\n",
    "        graph[a].append(b)\n",
    "        indegree[b] += 1\n",
    "    w = int(input())\n",
    "    queue = deque()\n",
    "    for i in range(1,n+1):\n",
    "        if indegree[i]==0:\n",
    "            queue.append(i)\n",
    "            memo[i]=time[i]\n",
    "    while queue:\n",
    "        cur=queue.popleft()\n",
    "        for i in graph[cur]:\n",
    "            indegree[i]-=1\n",
    "            memo[i]=max(memo[cur]+time[i],memo[i])\n",
    "            if indegree[i]==0:\n",
    "                queue.append(i)\n",
    "    print(memo[w])"
   ]
  }
 ],
 "metadata": {
  "kernelspec": {
   "display_name": "Python 3",
   "language": "python",
   "name": "python3"
  },
  "language_info": {
   "codemirror_mode": {
    "name": "ipython",
    "version": 3
   },
   "file_extension": ".py",
   "mimetype": "text/x-python",
   "name": "python",
   "nbconvert_exporter": "python",
   "pygments_lexer": "ipython3",
   "version": "3.8.8"
  }
 },
 "nbformat": 4,
 "nbformat_minor": 5
}
