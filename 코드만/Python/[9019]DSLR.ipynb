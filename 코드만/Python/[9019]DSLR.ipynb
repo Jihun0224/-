{
 "cells": [
  {
   "cell_type": "code",
   "execution_count": 58,
   "id": "fa7cc136",
   "metadata": {},
   "outputs": [
    {
     "name": "stdout",
     "output_type": "stream",
     "text": [
      "3\n",
      "1234 3412\n",
      "LL\n",
      "1000 1\n",
      "L\n",
      "1 16\n",
      "DDDD\n"
     ]
    }
   ],
   "source": [
    "from collections import deque \n",
    "import sys\n",
    "input=sys.stdin.readline\n",
    "def search(x,y):\n",
    "    q=deque([[x,'']])\n",
    "    visited=[False]*10001\n",
    "    visited[x]=True\n",
    "    while q:\n",
    "        x,s=q.popleft()\n",
    "        if x==y:\n",
    "            return s\n",
    "        tmp=x*2%10000\n",
    "        if not visited[tmp]:\n",
    "            visited[tmp]=True\n",
    "            q.append([tmp,s+'D'])\n",
    "        tmp=(x-1)%10000\n",
    "        if not visited[tmp]:\n",
    "            visited[tmp]=True\n",
    "            q.append([tmp,s+'S'])\n",
    "        tmp=x%1000*10+x//1000\n",
    "        if not visited[tmp]:\n",
    "            visited[tmp]=True\n",
    "            q.append([tmp,s+'L'])\n",
    "        tmp=x%10*1000+x//10\n",
    "        if not visited[tmp]:\n",
    "            visited[tmp]=True\n",
    "            q.append([tmp,s+'R'])\n",
    "for _ in range(int(input())):\n",
    "    x,y=map(int,input().split())\n",
    "    print(search(x,y))"
   ]
  }
 ],
 "metadata": {
  "kernelspec": {
   "display_name": "Python 3",
   "language": "python",
   "name": "python3"
  },
  "language_info": {
   "codemirror_mode": {
    "name": "ipython",
    "version": 3
   },
   "file_extension": ".py",
   "mimetype": "text/x-python",
   "name": "python",
   "nbconvert_exporter": "python",
   "pygments_lexer": "ipython3",
   "version": "3.8.8"
  }
 },
 "nbformat": 4,
 "nbformat_minor": 5
}
