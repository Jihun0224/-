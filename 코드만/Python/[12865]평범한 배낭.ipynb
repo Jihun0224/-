{
 "cells": [
  {
   "cell_type": "code",
   "execution_count": 1,
   "id": "e9cf3261",
   "metadata": {},
   "outputs": [
    {
     "name": "stdout",
     "output_type": "stream",
     "text": [
      "4 7\n",
      "6 13\n",
      "4 8\n",
      "3 6\n",
      "5 12\n"
     ]
    }
   ],
   "source": [
    "n, k = map(int,input().split())\n",
    "w = [[0,0] for _ in range(n)]\n",
    "for i in range(n):\n",
    "   w[i][0], w[i][1] = map(int,input().split())"
   ]
  },
  {
   "cell_type": "code",
   "execution_count": 4,
   "id": "c48c8415",
   "metadata": {},
   "outputs": [],
   "source": [
    "w.sort(key=lambda x:x[1],reverse=True)"
   ]
  },
  {
   "cell_type": "code",
   "execution_count": 6,
   "id": "9f0bb6ad",
   "metadata": {},
   "outputs": [
    {
     "data": {
      "text/plain": [
       "[[6, 13], [5, 12], [4, 8], [3, 6]]"
      ]
     },
     "execution_count": 6,
     "metadata": {},
     "output_type": "execute_result"
    }
   ],
   "source": [
    "w"
   ]
  },
  {
   "cell_type": "code",
   "execution_count": 7,
   "id": "171c5ce3",
   "metadata": {},
   "outputs": [],
   "source": [
    "memo = {}"
   ]
  },
  {
   "cell_type": "code",
   "execution_count": null,
   "id": "251361a3",
   "metadata": {},
   "outputs": [],
   "source": [
    "for "
   ]
  }
 ],
 "metadata": {
  "kernelspec": {
   "display_name": "Python 3",
   "language": "python",
   "name": "python3"
  },
  "language_info": {
   "codemirror_mode": {
    "name": "ipython",
    "version": 3
   },
   "file_extension": ".py",
   "mimetype": "text/x-python",
   "name": "python",
   "nbconvert_exporter": "python",
   "pygments_lexer": "ipython3",
   "version": "3.8.8"
  }
 },
 "nbformat": 4,
 "nbformat_minor": 5
}
