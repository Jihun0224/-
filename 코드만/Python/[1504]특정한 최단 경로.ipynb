{
 "cells": [
  {
   "cell_type": "code",
   "execution_count": 1,
   "id": "c911181a",
   "metadata": {},
   "outputs": [
    {
     "name": "stdout",
     "output_type": "stream",
     "text": [
      "4 6\n",
      "1 2 3\n",
      "2 3 3\n",
      "3 4 1\n",
      "1 3 5\n",
      "2 4 5\n",
      "1 4 4\n",
      "2 3\n",
      "3 5 3 4 1\n",
      "7\n"
     ]
    }
   ],
   "source": [
    "import sys\n",
    "from math import inf\n",
    "import heapq\n",
    "input=sys.stdin.readline\n",
    "I=lambda:map(int,input().split())\n",
    "N,M=I()\n",
    "graph=[[]for i in range(N+1)]\n",
    "distance=[]\n",
    "for _ in range(M):\n",
    "    a,b,c=I()\n",
    "    graph[a].append((b,c))\n",
    "    graph[b].append((a,c))\n",
    "u,v=I()\n",
    "def dijkstra(start):\n",
    "    global N, distance\n",
    "    q=[]\n",
    "    heapq.heappush(q,(0,start))\n",
    "    distance=[inf]*(N+1)\n",
    "    distance[start] = 0\n",
    "    while q:\n",
    "        dist,now=heapq.heappop(q)\n",
    "        if distance[now]<dist:continue\n",
    "        for node in graph[now]:\n",
    "            cost = dist + node[1]\n",
    "            if cost < distance[node[0]]:\n",
    "                distance[node[0]] = cost\n",
    "                heapq.heappush(q, (cost,node[0]))\n",
    "dijkstra(1)\n",
    "sToU = distance[u]\n",
    "sToV = distance[v]\n",
    "dijkstra(u)\n",
    "uToV = distance[v]\n",
    "uToN = distance[N]\n",
    "dijkstra(v)\n",
    "vToN = distance[N]\n",
    "a=min(inf,sToU+uToV+vToN)\n",
    "a=min(a,sToV+uToV+uToN)\n",
    "a=a if uToV!=inf and a!=inf else -1\n",
    "print(a)"
   ]
  }
 ],
 "metadata": {
  "kernelspec": {
   "display_name": "Python 3",
   "language": "python",
   "name": "python3"
  },
  "language_info": {
   "codemirror_mode": {
    "name": "ipython",
    "version": 3
   },
   "file_extension": ".py",
   "mimetype": "text/x-python",
   "name": "python",
   "nbconvert_exporter": "python",
   "pygments_lexer": "ipython3",
   "version": "3.8.8"
  }
 },
 "nbformat": 4,
 "nbformat_minor": 5
}
