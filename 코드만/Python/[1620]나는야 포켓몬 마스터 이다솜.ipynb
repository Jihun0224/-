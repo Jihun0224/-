{
 "cells": [
  {
   "cell_type": "code",
   "execution_count": 2,
   "id": "59a77fc6",
   "metadata": {},
   "outputs": [
    {
     "name": "stdout",
     "output_type": "stream",
     "text": [
      "5 3\n",
      "a\n",
      "b\n",
      "c\n",
      "d\n",
      "e\n",
      "1\n",
      "a\n",
      "a\n",
      "1\n",
      "b\n",
      "2\n"
     ]
    }
   ],
   "source": [
    "import sys\n",
    "input=sys.stdin.readline\n",
    "n,k=map(int,input().split())\n",
    "dic={}\n",
    "for i in range(1,n+1):\n",
    "    name=input().rstrip()\n",
    "    dic[name]=i\n",
    "    dic[str(i)]=name\n",
    "for _ in range(k):\n",
    "    print(dic.get(input().rstrip()))"
   ]
  },
  {
   "cell_type": "code",
   "execution_count": null,
   "id": "96555b4d",
   "metadata": {},
   "outputs": [],
   "source": [
    "for _ in range(k):print(dic.get(input()))"
   ]
  },
  {
   "cell_type": "code",
   "execution_count": null,
   "id": "0f4ebe47",
   "metadata": {},
   "outputs": [],
   "source": [
    "dic"
   ]
  },
  {
   "cell_type": "code",
   "execution_count": null,
   "id": "84439fc2",
   "metadata": {},
   "outputs": [],
   "source": []
  }
 ],
 "metadata": {
  "kernelspec": {
   "display_name": "Python 3",
   "language": "python",
   "name": "python3"
  },
  "language_info": {
   "codemirror_mode": {
    "name": "ipython",
    "version": 3
   },
   "file_extension": ".py",
   "mimetype": "text/x-python",
   "name": "python",
   "nbconvert_exporter": "python",
   "pygments_lexer": "ipython3",
   "version": "3.8.8"
  }
 },
 "nbformat": 4,
 "nbformat_minor": 5
}
