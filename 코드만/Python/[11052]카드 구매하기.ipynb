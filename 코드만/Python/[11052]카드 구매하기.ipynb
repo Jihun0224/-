{
 "cells": [
  {
   "cell_type": "code",
   "execution_count": 38,
   "id": "bdc2d489",
   "metadata": {},
   "outputs": [
    {
     "name": "stdout",
     "output_type": "stream",
     "text": [
      "4\n",
      "3 5 15 16\n",
      "[0, 3, 6, 9, 12]\n",
      "[0, 3, 6, 9, 12]\n",
      "[0, 3, 6, 15, 18]\n",
      "[0, 3, 6, 15, 18]\n",
      "[0, 3, 6, 15, 18]\n"
     ]
    }
   ],
   "source": [
    "n=int(input())\n",
    "dp=[0]*(n+1)\n",
    "for i,v in enumerate(list(map(int,input().split()))):\n",
    "    now=i+1\n",
    "    dp[now]=max(dp[now],v)\n",
    "    for j in range(now,n+1):\n",
    "        dp[j]=max(dp[j],dp[now]+dp[j-i-1])\n",
    "print(dp[n])"
   ]
  },
  {
   "cell_type": "code",
   "execution_count": null,
   "id": "1f5ae58e",
   "metadata": {},
   "outputs": [],
   "source": []
  }
 ],
 "metadata": {
  "kernelspec": {
   "display_name": "Python 3",
   "language": "python",
   "name": "python3"
  },
  "language_info": {
   "codemirror_mode": {
    "name": "ipython",
    "version": 3
   },
   "file_extension": ".py",
   "mimetype": "text/x-python",
   "name": "python",
   "nbconvert_exporter": "python",
   "pygments_lexer": "ipython3",
   "version": "3.8.8"
  }
 },
 "nbformat": 4,
 "nbformat_minor": 5
}
