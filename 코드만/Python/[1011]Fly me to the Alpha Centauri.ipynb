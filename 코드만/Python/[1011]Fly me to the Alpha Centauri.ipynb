{
 "cells": [
  {
   "cell_type": "code",
   "execution_count": 11,
   "id": "94a576da",
   "metadata": {},
   "outputs": [
    {
     "name": "stdout",
     "output_type": "stream",
     "text": [
      "3\n",
      "0 3\n",
      "3\n",
      "45 50\n",
      "4\n",
      "50 60\n",
      "6\n"
     ]
    }
   ],
   "source": [
    "for _ in range(int(input())):\n",
    "    x,y=map(int,input().split())\n",
    "    dis=y-x\n",
    "    n=1\n",
    "    while 1:\n",
    "        if dis<=n*(n+1):\n",
    "            break\n",
    "        n+=1\n",
    "    if dis>n*n:print(n*2)\n",
    "    else:print(n*2-1)"
   ]
  },
  {
   "cell_type": "code",
   "execution_count": null,
   "id": "745bec7c",
   "metadata": {},
   "outputs": [],
   "source": []
  }
 ],
 "metadata": {
  "kernelspec": {
   "display_name": "Python 3",
   "language": "python",
   "name": "python3"
  },
  "language_info": {
   "codemirror_mode": {
    "name": "ipython",
    "version": 3
   },
   "file_extension": ".py",
   "mimetype": "text/x-python",
   "name": "python",
   "nbconvert_exporter": "python",
   "pygments_lexer": "ipython3",
   "version": "3.8.8"
  }
 },
 "nbformat": 4,
 "nbformat_minor": 5
}
