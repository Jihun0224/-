{
 "cells": [
  {
   "cell_type": "code",
   "execution_count": 6,
   "id": "d285db11",
   "metadata": {},
   "outputs": [
    {
     "name": "stdout",
     "output_type": "stream",
     "text": [
      "3\n",
      "cat tree tcraete\n",
      "Data set 1: yes\n",
      "cat tree catrtee\n",
      "Data set 2: yes\n",
      "cat tree cttaree\n",
      "Data set 3: no\n"
     ]
    }
   ],
   "source": [
    "from collections import deque\n",
    "import sys\n",
    "input = sys.stdin.readline\n",
    "for i in range(int(input())):\n",
    "    w1,w2,w3=input().split()\n",
    "    index=0\n",
    "    q=deque([[0, 0]])\n",
    "    visited=[[0]*(len(w2)+1) for i in range(len(w1)+1)]\n",
    "    while q:\n",
    "        for _ in range(len(q)):\n",
    "            a,b=q.popleft()\n",
    "            if a<len(w1) and not visited[a+1][b] and w1[a]==w3[index]:\n",
    "                visited[a+1][b]=1\n",
    "                q.append([a+1,b])\n",
    "            if b<len(w2) and not visited[a][b+1] and w2[b]==w3[index]:\n",
    "                visited[a][b+1]=1\n",
    "                q.append([a,b+1])\n",
    "        index+=1\n",
    "    if index==len(w3)+1:print(f'Data set {i+1}: yes')\n",
    "    else: print(f'Data set {i+1}: no')"
   ]
  },
  {
   "cell_type": "code",
   "execution_count": null,
   "id": "da413620",
   "metadata": {},
   "outputs": [],
   "source": []
  }
 ],
 "metadata": {
  "kernelspec": {
   "display_name": "Python 3",
   "language": "python",
   "name": "python3"
  },
  "language_info": {
   "codemirror_mode": {
    "name": "ipython",
    "version": 3
   },
   "file_extension": ".py",
   "mimetype": "text/x-python",
   "name": "python",
   "nbconvert_exporter": "python",
   "pygments_lexer": "ipython3",
   "version": "3.8.8"
  }
 },
 "nbformat": 4,
 "nbformat_minor": 5
}
