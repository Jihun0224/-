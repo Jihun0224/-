{
 "cells": [
  {
   "cell_type": "code",
   "execution_count": 20,
   "id": "db150f24",
   "metadata": {},
   "outputs": [
    {
     "name": "stdout",
     "output_type": "stream",
     "text": [
      "4 6\n",
      "101111\n",
      "101010\n",
      "101011\n",
      "111011\n",
      "1\n",
      "0 0 1\n",
      "1 0 2\n",
      "2 0 3\n",
      "3 0 4\n",
      "3 1 5\n",
      "3 2 6\n",
      "2 2 7\n",
      "1 2 8\n",
      "0 2 9\n",
      "0 3 10\n",
      "0 4 11\n",
      "1 4 12\n",
      "0 5 12\n",
      "2 4 13\n",
      "3 4 14\n",
      "2 5 14\n",
      "3 5 15\n",
      "15\n"
     ]
    }
   ],
   "source": [
    "from collections import deque\n",
    "\n",
    "n,m=map(int,input().strip().split())\n",
    "maze=[list(map(int,input().strip())) for _ in range(n)]\n",
    "visited = [[0]*m for _ in range(n)]\n",
    "d=[[1,0],[-1,0],[0,1],[0,-1]]\n",
    "queue=deque([[0,0]])\n",
    "visited[0][0]=1\n",
    "while queue:\n",
    "    x,y=queue.popleft()\n",
    "    if x==n-1 and y==m-1:\n",
    "        print(visited[x][y])\n",
    "        break\n",
    "    for k in range(4):\n",
    "        dx=x+d[k][0]\n",
    "        dy=y+d[k][1]\n",
    "        if 0<=dx<n and 0<=dy<m:\n",
    "            if maze[dx][dy]==1 and visited[dx][dy]==0:\n",
    "                visited[dx][dy]=visited[x][y]+1\n",
    "                queue.append([dx,dy])"
   ]
  }
 ],
 "metadata": {
  "kernelspec": {
   "display_name": "Python 3",
   "language": "python",
   "name": "python3"
  },
  "language_info": {
   "codemirror_mode": {
    "name": "ipython",
    "version": 3
   },
   "file_extension": ".py",
   "mimetype": "text/x-python",
   "name": "python",
   "nbconvert_exporter": "python",
   "pygments_lexer": "ipython3",
   "version": "3.8.8"
  }
 },
 "nbformat": 4,
 "nbformat_minor": 5
}
