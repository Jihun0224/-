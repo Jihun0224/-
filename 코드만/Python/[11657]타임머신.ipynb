{
 "cells": [
  {
   "cell_type": "code",
   "execution_count": 5,
   "id": "2d29aa87",
   "metadata": {},
   "outputs": [
    {
     "name": "stdout",
     "output_type": "stream",
     "text": [
      "3 2\n",
      "1 2 4\n",
      "1 2 3\n",
      "3\n",
      "-1\n"
     ]
    }
   ],
   "source": [
    "from math import inf\n",
    "I=lambda:map(int,input().split())\n",
    "N,M=I()\n",
    "bus=[list(I())for _ in range(M)]\n",
    "distance=[inf]*(N+1)\n",
    "\n",
    "def bellman_ford(s):\n",
    "    distance[s]=0\n",
    "    for i in range(N):\n",
    "        for now,next,cost in bus:\n",
    "            if distance[now]!=inf and distance[next]>distance[now]+cost:\n",
    "                distance[next]=distance[now]+cost\n",
    "                if i==N-1:\n",
    "                    return False\n",
    "    return True\n",
    "if not bellman_ford(1):print(-1)\n",
    "else:\n",
    "    for d in distance[2:]:\n",
    "        if d==inf:print(-1)\n",
    "        else:print(d)"
   ]
  },
  {
   "cell_type": "code",
   "execution_count": null,
   "id": "c2f17365",
   "metadata": {},
   "outputs": [],
   "source": []
  }
 ],
 "metadata": {
  "kernelspec": {
   "display_name": "Python 3",
   "language": "python",
   "name": "python3"
  },
  "language_info": {
   "codemirror_mode": {
    "name": "ipython",
    "version": 3
   },
   "file_extension": ".py",
   "mimetype": "text/x-python",
   "name": "python",
   "nbconvert_exporter": "python",
   "pygments_lexer": "ipython3",
   "version": "3.8.8"
  }
 },
 "nbformat": 4,
 "nbformat_minor": 5
}
