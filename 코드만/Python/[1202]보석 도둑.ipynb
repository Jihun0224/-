{
 "cells": [
  {
   "cell_type": "code",
   "execution_count": null,
   "id": "c838499e",
   "metadata": {},
   "outputs": [],
   "source": [
    "import sys\n",
    "input=sys.stdin.readline\n",
    "import heapq\n",
    "n,k=map(int,input().split())\n",
    "heap=[]\n",
    "\n",
    "for _ in range(n):\n",
    "    temp=list(map(int,input().split()))\n",
    "    heapq.heappush(heap,(-temp[1],temp[0]))\n",
    "bag=sorted(int(input()) for _ in range(k))\n",
    "answer=0\n",
    "used=[False]*k\n",
    "for _ in range(n):\n",
    "    v,m=heapq.heappop(heap)\n",
    "    for b in bag:\n",
    "        if m<=b:\n",
    "            answer-=v\n",
    "            bag.remove(b)\n",
    "            break\n",
    "print(answer)"
   ]
  }
 ],
 "metadata": {
  "kernelspec": {
   "display_name": "Python 3",
   "language": "python",
   "name": "python3"
  },
  "language_info": {
   "codemirror_mode": {
    "name": "ipython",
    "version": 3
   },
   "file_extension": ".py",
   "mimetype": "text/x-python",
   "name": "python",
   "nbconvert_exporter": "python",
   "pygments_lexer": "ipython3",
   "version": "3.8.8"
  }
 },
 "nbformat": 4,
 "nbformat_minor": 5
}
