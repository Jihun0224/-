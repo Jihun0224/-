{
 "cells": [
  {
   "cell_type": "code",
   "execution_count": null,
   "id": "c838499e",
   "metadata": {},
   "outputs": [],
   "source": [
    "import sys\n",
    "input=sys.stdin.readline\n",
    "import heapq\n",
    "n,k=map(int,input().split())\n",
    "heap=[]\n",
    "\n",
    "for _ in range(n):\n",
    "    temp=list(map(int,input().split()))\n",
    "    heapq.heappush(heap,(-temp[1],temp[0]))\n",
    "bag=sorted(int(input()) for _ in range(k))\n",
    "answer=0\n",
    "used=[False]*k\n",
    "for _ in range(n):\n",
    "    v,m=heapq.heappop(heap)\n",
    "    for b in bag:\n",
    "        if m<=b:\n",
    "            answer-=v\n",
    "            bag.remove(b)\n",
    "            break\n",
    "print(answer)"
   ]
  },
  {
   "cell_type": "code",
   "execution_count": 2,
   "id": "878c4d85",
   "metadata": {},
   "outputs": [
    {
     "name": "stdout",
     "output_type": "stream",
     "text": [
      "3 2\n",
      "1 65\n",
      "5 23\n",
      "2 99\n",
      "10\n",
      "2\n",
      "[[1, 65], [2, 99], [5, 23]]\n",
      "[]\n",
      "[[2, 99], [5, 23]]\n",
      "[-65]\n",
      "[[5, 23]]\n",
      "[-65]\n",
      "164\n"
     ]
    }
   ],
   "source": [
    "import sys\n",
    "input=sys.stdin.readline\n",
    "import heapq\n",
    "n,k=map(int,input().split())\n",
    "heap=[]\n",
    "arr=sorted(list(map(int,input().split())) for _ in range(n))\n",
    "bag=sorted(int(input()) for _ in range(k))\n",
    "answer=0\n",
    "for b in bag:\n",
    "    while arr and b>=arr[0][0]:\n",
    "        print(arr)\n",
    "        print(heap)\n",
    "        heapq.heappush(heap, -arr[0][1])\n",
    "        heapq.heappop(arr)\n",
    "    if heap:\n",
    "        answer-=heapq.heappop(heap)\n",
    "    elif not arr:\n",
    "        break\n",
    "print(answer)"
   ]
  },
  {
   "cell_type": "code",
   "execution_count": null,
   "id": "0265c455",
   "metadata": {},
   "outputs": [],
   "source": []
  },
  {
   "cell_type": "code",
   "execution_count": null,
   "id": "9d2ed59b",
   "metadata": {},
   "outputs": [],
   "source": [
    "heap"
   ]
  },
  {
   "cell_type": "code",
   "execution_count": null,
   "id": "b88d1607",
   "metadata": {},
   "outputs": [],
   "source": []
  }
 ],
 "metadata": {
  "kernelspec": {
   "display_name": "Python 3",
   "language": "python",
   "name": "python3"
  },
  "language_info": {
   "codemirror_mode": {
    "name": "ipython",
    "version": 3
   },
   "file_extension": ".py",
   "mimetype": "text/x-python",
   "name": "python",
   "nbconvert_exporter": "python",
   "pygments_lexer": "ipython3",
   "version": "3.8.8"
  }
 },
 "nbformat": 4,
 "nbformat_minor": 5
}
