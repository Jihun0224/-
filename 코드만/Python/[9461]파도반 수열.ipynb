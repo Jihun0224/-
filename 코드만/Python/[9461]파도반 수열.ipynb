{
 "cells": [
  {
   "cell_type": "code",
   "execution_count": 3,
   "id": "e9eda664",
   "metadata": {},
   "outputs": [
    {
     "name": "stdout",
     "output_type": "stream",
     "text": [
      "2\n",
      "6\n",
      "3\n",
      "12\n",
      "16\n"
     ]
    }
   ],
   "source": [
    "case = int(input())\n",
    "memo = [0 for _ in range(101)]\n",
    "values = [1,1,1,2,3]\n",
    "for i in range(5):\n",
    "    memo[i+1] = values[i]\n",
    "for i in range(case):\n",
    "    n = int(input())\n",
    "    if memo[n] !=0:\n",
    "        print(memo[n])W\n",
    "        continue\n",
    "    cur = memo.index(max(memo))\n",
    "    while memo[n]==0:\n",
    "        memo[cur] = memo[cur-1]+memo[cur-5]\n",
    "        cur += 1\n",
    "    print(memo[n])\n",
    "    "
   ]
  }
 ],
 "metadata": {
  "kernelspec": {
   "display_name": "Python 3",
   "language": "python",
   "name": "python3"
  },
  "language_info": {
   "codemirror_mode": {
    "name": "ipython",
    "version": 3
   },
   "file_extension": ".py",
   "mimetype": "text/x-python",
   "name": "python",
   "nbconvert_exporter": "python",
   "pygments_lexer": "ipython3",
   "version": "3.8.8"
  }
 },
 "nbformat": 4,
 "nbformat_minor": 5
}
