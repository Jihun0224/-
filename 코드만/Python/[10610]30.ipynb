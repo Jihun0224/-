{
 "cells": [
  {
   "cell_type": "code",
   "execution_count": 8,
   "id": "bb565bbc",
   "metadata": {},
   "outputs": [
    {
     "name": "stdout",
     "output_type": "stream",
     "text": [
      "80875542\n",
      "88755420\n"
     ]
    }
   ],
   "source": [
    "arr=sorted(list(input()),reverse=True)\n",
    "if arr[-1]!='0' or sum(map(int,arr))%3!=0:print(-1)\n",
    "else:print(\"\".join(arr))"
   ]
  },
  {
   "cell_type": "code",
   "execution_count": null,
   "id": "cbd22a5f",
   "metadata": {},
   "outputs": [],
   "source": []
  }
 ],
 "metadata": {
  "kernelspec": {
   "display_name": "Python 3",
   "language": "python",
   "name": "python3"
  },
  "language_info": {
   "codemirror_mode": {
    "name": "ipython",
    "version": 3
   },
   "file_extension": ".py",
   "mimetype": "text/x-python",
   "name": "python",
   "nbconvert_exporter": "python",
   "pygments_lexer": "ipython3",
   "version": "3.8.8"
  }
 },
 "nbformat": 4,
 "nbformat_minor": 5
}
