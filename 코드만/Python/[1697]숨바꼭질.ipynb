{
 "cells": [
  {
   "cell_type": "code",
   "execution_count": 22,
   "id": "b190dd2f",
   "metadata": {},
   "outputs": [
    {
     "name": "stdout",
     "output_type": "stream",
     "text": [
      "5 17\n",
      "4\n"
     ]
    }
   ],
   "source": [
    "from collections import deque\n",
    "n,m=map(int,input().split())\n",
    "MAX=100000\n",
    "count=[0]*(MAX+1)\n",
    "queue=deque([n])\n",
    "while 1:\n",
    "    num=queue.popleft()\n",
    "    if num==m:\n",
    "        print(count[num])\n",
    "        break\n",
    "    for i in [num+1,num-1,num*2]:\n",
    "        if 0<=i<=MAX and count[i]==0:\n",
    "            queue.append(i)\n",
    "            count[i]=count[num]+1"
   ]
  }
 ],
 "metadata": {
  "kernelspec": {
   "display_name": "Python 3",
   "language": "python",
   "name": "python3"
  },
  "language_info": {
   "codemirror_mode": {
    "name": "ipython",
    "version": 3
   },
   "file_extension": ".py",
   "mimetype": "text/x-python",
   "name": "python",
   "nbconvert_exporter": "python",
   "pygments_lexer": "ipython3",
   "version": "3.8.8"
  }
 },
 "nbformat": 4,
 "nbformat_minor": 5
}
