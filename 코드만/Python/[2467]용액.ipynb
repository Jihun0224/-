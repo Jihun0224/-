{
 "cells": [
  {
   "cell_type": "code",
   "execution_count": 15,
   "id": "90816a2c",
   "metadata": {},
   "outputs": [
    {
     "name": "stdout",
     "output_type": "stream",
     "text": [
      "10\n",
      "-5 -5 -5 1 1 10 10 10 10 10\n",
      "1 1\n"
     ]
    }
   ],
   "source": [
    "from math import inf\n",
    "input()\n",
    "arr=list(map(int,input().split()))\n",
    "s=0;e=len(arr)-1\n",
    "a=[0,0];m=inf\n",
    "while s<e:\n",
    "    now=arr[s]+arr[e]\n",
    "    if abs(now)<m:\n",
    "        a[0]=arr[s];a[1]=arr[e]\n",
    "        m=abs(now)\n",
    "    if now>0:e-=1\n",
    "    elif now<0:s+=1\n",
    "    else: break\n",
    "print(*a)"
   ]
  }
 ],
 "metadata": {
  "kernelspec": {
   "display_name": "Python 3",
   "language": "python",
   "name": "python3"
  },
  "language_info": {
   "codemirror_mode": {
    "name": "ipython",
    "version": 3
   },
   "file_extension": ".py",
   "mimetype": "text/x-python",
   "name": "python",
   "nbconvert_exporter": "python",
   "pygments_lexer": "ipython3",
   "version": "3.8.8"
  }
 },
 "nbformat": 4,
 "nbformat_minor": 5
}
