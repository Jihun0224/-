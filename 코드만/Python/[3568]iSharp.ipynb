{
 "cells": [
  {
   "cell_type": "code",
   "execution_count": 25,
   "id": "7c2b5c07",
   "metadata": {},
   "outputs": [
    {
     "name": "stdout",
     "output_type": "stream",
     "text": [
      "int& a*[]&, b, c*;\n",
      "int&&[]* a;\n",
      "int& b;\n",
      "int&* c;\n"
     ]
    }
   ],
   "source": [
    "s=input().replace(\",\",\"\").replace(\";\",\"\").split()\n",
    "for v in s[1:]:\n",
    "    a=\"\"\n",
    "    tmp=\"\"\n",
    "    for i in v:\n",
    "        if i.isalpha():a+=i\n",
    "        else:tmp+=i\n",
    "    print(s[0]+tmp[::-1].replace(\"][\",\"[]\")+\" \"+a+\";\")"
   ]
  }
 ],
 "metadata": {
  "kernelspec": {
   "display_name": "Python 3",
   "language": "python",
   "name": "python3"
  },
  "language_info": {
   "codemirror_mode": {
    "name": "ipython",
    "version": 3
   },
   "file_extension": ".py",
   "mimetype": "text/x-python",
   "name": "python",
   "nbconvert_exporter": "python",
   "pygments_lexer": "ipython3",
   "version": "3.8.8"
  }
 },
 "nbformat": 4,
 "nbformat_minor": 5
}
