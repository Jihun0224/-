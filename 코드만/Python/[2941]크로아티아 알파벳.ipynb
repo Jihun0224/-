{
 "cells": [
  {
   "cell_type": "code",
   "execution_count": 16,
   "id": "5491079d",
   "metadata": {},
   "outputs": [
    {
     "name": "stdout",
     "output_type": "stream",
     "text": [
      "ljes=njak\n",
      "6\n"
     ]
    }
   ],
   "source": [
    "sentence = input()\n",
    "dic = ['c=','c-','dz=','d-','lj','nj','s=','z=']\n",
    "count = 0\n",
    "for c in dic:\n",
    "    count+=sentence.count(c)\n",
    "    sentence = sentence.replace(c,\" \")\n",
    "print(count+len(sentence.replace(\" \",\"\")))"
   ]
  }
 ],
 "metadata": {
  "kernelspec": {
   "display_name": "Python 3",
   "language": "python",
   "name": "python3"
  },
  "language_info": {
   "codemirror_mode": {
    "name": "ipython",
    "version": 3
   },
   "file_extension": ".py",
   "mimetype": "text/x-python",
   "name": "python",
   "nbconvert_exporter": "python",
   "pygments_lexer": "ipython3",
   "version": "3.8.8"
  }
 },
 "nbformat": 4,
 "nbformat_minor": 5
}
