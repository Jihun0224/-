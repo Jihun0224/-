{
 "cells": [
  {
   "cell_type": "code",
   "execution_count": 94,
   "id": "b190dd2f",
   "metadata": {},
   "outputs": [
    {
     "name": "stdout",
     "output_type": "stream",
     "text": [
      "1 2\n",
      "1\n"
     ]
    }
   ],
   "source": [
    "from collections import deque\n",
    "n,m=map(int,input().split())\n",
    "MAX=100000\n",
    "count=[0]*(MAX+1)\n",
    "queue=deque([n])\n",
    "while 1:\n",
    "    num=queue.popleft()\n",
    "    if num==m:\n",
    "        print(count[num])\n",
    "        break\n",
    "    for i in [num+1,num-1,num*2]:\n",
    "        if 0<=i<=MAX and count[i]==0:\n",
    "            queue.append(i)\n",
    "            count[i]=count[num]+1"
   ]
  },
  {
   "cell_type": "code",
   "execution_count": 82,
   "id": "1574321c",
   "metadata": {},
   "outputs": [
    {
     "name": "stdout",
     "output_type": "stream",
     "text": [
      "5 237\n",
      "10\n",
      "5\n"
     ]
    }
   ],
   "source": [
    "from collections import deque\n",
    "import sys\n",
    "n,m=map(int,input().split())\n",
    "if n==m:\n",
    "    print(0)\n",
    "    print(1)\n",
    "    sys.exit(0)\n",
    "MAX=100000\n",
    "count=[[0,0]for _ in range(MAX+1)]\n",
    "count[n][1]=1\n",
    "queue=deque([n])\n",
    "min_=-1\n",
    "while queue:\n",
    "    num=queue.popleft()\n",
    "    if min_==-1and num==m:\n",
    "        min_=count[m][0]\n",
    "        continue\n",
    "    elif min_!=-1 and count[num][1]>min_:\n",
    "        continue\n",
    "    else:\n",
    "        for i in [num+1,num-1,num*2]:\n",
    "            if 0<=i<=MAX:\n",
    "                if count[i][0]==0:\n",
    "                    queue.append(i)\n",
    "                    count[i][0]=count[num][0]+1\n",
    "                    count[i][1]+=count[num][1]\n",
    "                elif count[i][0]==count[num][0]+1:\n",
    "                    count[i][1]+=count[num][1]\n",
    "print(count[m][0])\n",
    "print(count[m][1])"
   ]
  },
  {
   "cell_type": "code",
   "execution_count": 106,
   "id": "9600719f",
   "metadata": {},
   "outputs": [
    {
     "name": "stdout",
     "output_type": "stream",
     "text": [
      "9 10\n",
      "1\n"
     ]
    }
   ],
   "source": [
    "from collections import deque\n",
    "n,m=map(int,input().split())\n",
    "MAX=100000\n",
    "count=[0]*(MAX+1)\n",
    "visited=[0]*(MAX+1)\n",
    "visited[n]=1\n",
    "queue=deque([n])\n",
    "while 1:\n",
    "    num=queue.popleft()\n",
    "    if num==m:\n",
    "        print(count[num])\n",
    "        break\n",
    "    for i,n in enumerate([num*2,num-1,num+1]):\n",
    "        if 0<=n<=MAX and visited[n]==0:\n",
    "            if i==0:\n",
    "                count[n]=count[num]\n",
    "                queue.appendleft(n)\n",
    "            else:\n",
    "                count[n]=count[num]+1\n",
    "                queue.append(n)\n",
    "            visited[n]=1"
   ]
  },
  {
   "cell_type": "code",
   "execution_count": 124,
   "id": "75b3bd86",
   "metadata": {},
   "outputs": [
    {
     "name": "stdout",
     "output_type": "stream",
     "text": [
      "5 17\n",
      "4\n",
      "5 4 8 16 17\n"
     ]
    }
   ],
   "source": [
    "from collections import deque\n",
    "n,m=map(int,input().split())\n",
    "MAX=100000\n",
    "count=[0]*(MAX+1)\n",
    "route={}\n",
    "route[n]=n\n",
    "queue=deque([n])\n",
    "while 1:\n",
    "    num=queue.popleft()\n",
    "    if num==m:\n",
    "        print(count[num])\n",
    "        break\n",
    "    for i in [num+1,num-1,num*2]:\n",
    "        if 0<=i<=MAX and count[i]==0:\n",
    "            queue.append(i)\n",
    "            count[i]=count[num]+1\n",
    "            route[i]=num\n",
    "answer=[m]\n",
    "temp=m\n",
    "while len(answer)!=count[num]+1:\n",
    "    answer.append(route[temp])\n",
    "    temp=route[temp]\n",
    "\n",
    "print(\" \".join(str(i) for i in answer[::-1]))"
   ]
  },
  {
   "cell_type": "code",
   "execution_count": null,
   "id": "dcce0919",
   "metadata": {},
   "outputs": [],
   "source": []
  }
 ],
 "metadata": {
  "kernelspec": {
   "display_name": "Python 3",
   "language": "python",
   "name": "python3"
  },
  "language_info": {
   "codemirror_mode": {
    "name": "ipython",
    "version": 3
   },
   "file_extension": ".py",
   "mimetype": "text/x-python",
   "name": "python",
   "nbconvert_exporter": "python",
   "pygments_lexer": "ipython3",
   "version": "3.8.8"
  }
 },
 "nbformat": 4,
 "nbformat_minor": 5
}
