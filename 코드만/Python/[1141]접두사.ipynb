{
 "cells": [
  {
   "cell_type": "code",
   "execution_count": 18,
   "id": "b0bf3ab7",
   "metadata": {},
   "outputs": [
    {
     "name": "stdout",
     "output_type": "stream",
     "text": [
      "3\n",
      "topcoder\n",
      "topcoder\n",
      "topcoding\n",
      "2\n"
     ]
    }
   ],
   "source": [
    "w=[input()for _ in range(int(input()))]\n",
    "w.sort(key=lambda x:len(x))\n",
    "a=0\n",
    "for i,s in enumerate(w):\n",
    "    for j in range(i+1,len(w)):\n",
    "        if s==w[j][:len(s)]:\n",
    "            a+=1\n",
    "            break\n",
    "print(len(w)-a)"
   ]
  }
 ],
 "metadata": {
  "kernelspec": {
   "display_name": "Python 3",
   "language": "python",
   "name": "python3"
  },
  "language_info": {
   "codemirror_mode": {
    "name": "ipython",
    "version": 3
   },
   "file_extension": ".py",
   "mimetype": "text/x-python",
   "name": "python",
   "nbconvert_exporter": "python",
   "pygments_lexer": "ipython3",
   "version": "3.8.8"
  }
 },
 "nbformat": 4,
 "nbformat_minor": 5
}
