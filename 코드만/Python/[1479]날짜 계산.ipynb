{
 "cells": [
  {
   "cell_type": "code",
   "execution_count": 4,
   "id": "9d24f6fd",
   "metadata": {},
   "outputs": [
    {
     "name": "stdout",
     "output_type": "stream",
     "text": [
      "1 1 1\n",
      "1\n"
     ]
    }
   ],
   "source": [
    "target=list(map(int,input().split()))\n",
    "a=1\n",
    "now=[1,1,1]\n",
    "while 1:\n",
    "    if target==now:\n",
    "        break\n",
    "    a+=1\n",
    "    for i in range(3):now[i]+=1\n",
    "    if now[0]==16:now[0]=1\n",
    "    if now[1]==29:now[1]=1\n",
    "    if now[2]==20:now[2]=1\n",
    "print(a)"
   ]
  },
  {
   "cell_type": "code",
   "execution_count": null,
   "id": "b7842aea",
   "metadata": {},
   "outputs": [],
   "source": []
  }
 ],
 "metadata": {
  "kernelspec": {
   "display_name": "Python 3",
   "language": "python",
   "name": "python3"
  },
  "language_info": {
   "codemirror_mode": {
    "name": "ipython",
    "version": 3
   },
   "file_extension": ".py",
   "mimetype": "text/x-python",
   "name": "python",
   "nbconvert_exporter": "python",
   "pygments_lexer": "ipython3",
   "version": "3.8.8"
  }
 },
 "nbformat": 4,
 "nbformat_minor": 5
}
