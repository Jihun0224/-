{
 "cells": [
  {
   "cell_type": "code",
   "execution_count": 1,
   "id": "951288fb",
   "metadata": {},
   "outputs": [
    {
     "name": "stdout",
     "output_type": "stream",
     "text": [
      "11 10\n",
      "7 4 0\n",
      "1 1 1 1 1 1 1 1 1 1\n",
      "1 0 0 0 0 0 0 0 0 1\n",
      "1 0 0 0 1 1 1 1 0 1\n",
      "1 0 0 1 1 0 0 0 0 1\n",
      "1 0 1 1 0 0 0 0 0 1\n",
      "1 0 0 0 0 0 0 0 0 1\n",
      "1 0 0 0 0 0 0 1 0 1\n",
      "1 0 0 0 0 0 1 1 0 1\n",
      "1 0 0 0 0 0 1 1 0 1\n",
      "1 0 0 0 0 0 0 0 0 1\n",
      "1 1 1 1 1 1 1 1 1 1\n",
      "57\n"
     ]
    }
   ],
   "source": [
    "# import sys\n",
    "# input=sys.stdin.readline\n",
    "n,m=map(int,input().split())\n",
    "x,y,d=map(int,input().split())\n",
    "arr=[list(map(int,input().split()))for _ in range(n)]\n",
    "dx=[-1,0,1,0]\n",
    "dy=[0,1,0,-1]\n",
    "answer=1\n",
    "arr[x][y]=-1\n",
    "cnt=0\n",
    "while 1:\n",
    "    d-=1\n",
    "    if d==-1:d=3\n",
    "    nx=x+dx[d]\n",
    "    ny=y+dy[d]\n",
    "    if arr[nx][ny]==0:\n",
    "        arr[nx][ny]=-1\n",
    "        x=nx\n",
    "        y=ny\n",
    "        answer+=1\n",
    "        cnt=0\n",
    "    else:cnt+=1\n",
    "    if cnt==4:\n",
    "        nx=x-dx[d]\n",
    "        ny=y-dy[d]\n",
    "        if arr[nx][ny]==1:break\n",
    "        else: \n",
    "            x=nx\n",
    "            y=ny\n",
    "        cnt=0\n",
    "print(answer)"
   ]
  }
 ],
 "metadata": {
  "kernelspec": {
   "display_name": "Python 3",
   "language": "python",
   "name": "python3"
  },
  "language_info": {
   "codemirror_mode": {
    "name": "ipython",
    "version": 3
   },
   "file_extension": ".py",
   "mimetype": "text/x-python",
   "name": "python",
   "nbconvert_exporter": "python",
   "pygments_lexer": "ipython3",
   "version": "3.8.8"
  }
 },
 "nbformat": 4,
 "nbformat_minor": 5
}
