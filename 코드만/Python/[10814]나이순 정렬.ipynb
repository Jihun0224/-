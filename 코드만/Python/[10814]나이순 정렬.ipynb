{
 "cells": [
  {
   "cell_type": "code",
   "execution_count": 18,
   "id": "faa9d854",
   "metadata": {},
   "outputs": [
    {
     "name": "stdout",
     "output_type": "stream",
     "text": [
      "3\n",
      "100 a\n",
      "20 b\n",
      "10 c\n",
      "10 c\n",
      "20 b\n",
      "100 a\n"
     ]
    }
   ],
   "source": [
    "arr=[input().split()+[i] for i in range(int(input()))]\n",
    "arr.sort(key=lambda x:(int(x[0]),x[2]))\n",
    "for x in arr:print(x[0],x[1])"
   ]
  }
 ],
 "metadata": {
  "kernelspec": {
   "display_name": "Python 3",
   "language": "python",
   "name": "python3"
  },
  "language_info": {
   "codemirror_mode": {
    "name": "ipython",
    "version": 3
   },
   "file_extension": ".py",
   "mimetype": "text/x-python",
   "name": "python",
   "nbconvert_exporter": "python",
   "pygments_lexer": "ipython3",
   "version": "3.8.8"
  }
 },
 "nbformat": 4,
 "nbformat_minor": 5
}
