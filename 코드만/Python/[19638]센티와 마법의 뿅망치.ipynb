{
 "cells": [
  {
   "cell_type": "code",
   "execution_count": 15,
   "id": "e3f03641",
   "metadata": {},
   "outputs": [
    {
     "name": "stdout",
     "output_type": "stream",
     "text": [
      "2 10 3\n",
      "127\n",
      "8\n",
      "NO\n",
      "15\n"
     ]
    }
   ],
   "source": [
    "import heapq\n",
    "n,h,t=map(int,input().split())\n",
    "a=0\n",
    "heap=[]\n",
    "for _ in range(n):heapq.heappush(heap,-int(input()))\n",
    "for i in range(t):\n",
    "    tmp=-heapq.heappop(heap)\n",
    "    if tmp<h or tmp==1:\n",
    "        heapq.heappush(heap,-tmp)\n",
    "        break\n",
    "    else:\n",
    "        tmp//=2\n",
    "        heapq.heappush(heap,-tmp)\n",
    "        a+=1\n",
    "if abs(min(heap))<h:\n",
    "    print(*[\"YES\",a],sep=\"\\n\")\n",
    "else:print(*[\"NO\",abs(heapq.heappop(heap))],sep=\"\\n\")"
   ]
  },
  {
   "cell_type": "code",
   "execution_count": null,
   "id": "f8b3d340",
   "metadata": {},
   "outputs": [],
   "source": []
  }
 ],
 "metadata": {
  "kernelspec": {
   "display_name": "Python 3",
   "language": "python",
   "name": "python3"
  },
  "language_info": {
   "codemirror_mode": {
    "name": "ipython",
    "version": 3
   },
   "file_extension": ".py",
   "mimetype": "text/x-python",
   "name": "python",
   "nbconvert_exporter": "python",
   "pygments_lexer": "ipython3",
   "version": "3.8.8"
  }
 },
 "nbformat": 4,
 "nbformat_minor": 5
}
