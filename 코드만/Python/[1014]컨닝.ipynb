{
 "cells": [
  {
   "cell_type": "code",
   "execution_count": 1,
   "id": "245cb0d3",
   "metadata": {},
   "outputs": [
    {
     "name": "stdout",
     "output_type": "stream",
     "text": [
      "4\n",
      "2 3\n",
      "...\n",
      "...\n",
      "4\n",
      "2 3\n",
      "x.x\n",
      "xxx\n",
      "1\n",
      "2 3\n",
      "x.x\n",
      "x.x\n",
      "2\n",
      "10 10\n",
      "....x.....\n",
      "..........\n",
      "..........\n",
      "..x.......\n",
      "..........\n",
      "x...x.x...\n",
      ".........x\n",
      "...x......\n",
      "........x.\n",
      ".x...x....\n",
      "46\n"
     ]
    }
   ],
   "source": [
    "case = int(input())\n",
    "for _ in range(case):\n",
    "    n,m = map(int,input().split())\n",
    "    array = [list(input()) for _ in range(n)]\n",
    "    div, mod = divmod(m,2)\n",
    "    count1 = 0\n",
    "    count2 = 0\n",
    "    array1 = [0 for _ in range(n)]\n",
    "    \n",
    "    for i in range(n):\n",
    "        for j in range(div):\n",
    "            if array[i][j*2] == '.':\n",
    "                count1+=1\n",
    "            if array[i][(j*2)+1] == '.':\n",
    "                count2+=1\n",
    "        array1.append(count1)\n",
    "        array1.append(count2)\n",
    "        \n",
    "    if mod == 1:\n",
    "        for i in range(n):\n",
    "            if array[i][m-1] == '.':\n",
    "                count2+=1\n",
    "        array1.append(count2)\n",
    "\n",
    "    \n",
    "    print(max(count1,count2))"
   ]
  },
  {
   "cell_type": "code",
   "execution_count": 2,
   "id": "857ca594",
   "metadata": {},
   "outputs": [
    {
     "data": {
      "text/plain": [
       "[0,\n",
       " 0,\n",
       " 0,\n",
       " 0,\n",
       " 0,\n",
       " 0,\n",
       " 0,\n",
       " 0,\n",
       " 0,\n",
       " 0,\n",
       " 4,\n",
       " 5,\n",
       " 9,\n",
       " 10,\n",
       " 14,\n",
       " 15,\n",
       " 18,\n",
       " 20,\n",
       " 23,\n",
       " 25,\n",
       " 25,\n",
       " 30,\n",
       " 30,\n",
       " 34,\n",
       " 35,\n",
       " 38,\n",
       " 39,\n",
       " 43,\n",
       " 44,\n",
       " 46]"
      ]
     },
     "execution_count": 2,
     "metadata": {},
     "output_type": "execute_result"
    }
   ],
   "source": []
  },
  {
   "cell_type": "code",
   "execution_count": null,
   "id": "f304a993",
   "metadata": {},
   "outputs": [],
   "source": []
  }
 ],
 "metadata": {
  "kernelspec": {
   "display_name": "Python 3",
   "language": "python",
   "name": "python3"
  },
  "language_info": {
   "codemirror_mode": {
    "name": "ipython",
    "version": 3
   },
   "file_extension": ".py",
   "mimetype": "text/x-python",
   "name": "python",
   "nbconvert_exporter": "python",
   "pygments_lexer": "ipython3",
   "version": "3.8.8"
  }
 },
 "nbformat": 4,
 "nbformat_minor": 5
}
