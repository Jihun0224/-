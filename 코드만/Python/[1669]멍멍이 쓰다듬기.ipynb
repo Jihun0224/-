{
 "cells": [
  {
   "cell_type": "code",
   "execution_count": 50,
   "id": "21fe5c02",
   "metadata": {},
   "outputs": [
    {
     "name": "stdout",
     "output_type": "stream",
     "text": [
      "10 10\n",
      "0\n"
     ]
    }
   ],
   "source": [
    "x,y=map(int,input().split())\n",
    "a,d=0,y-x\n",
    "while 1:\n",
    "    if d<=a*(a+1):break\n",
    "    a+=1\n",
    "if d==0:a=0\n",
    "elif d>a*a:a*=2\n",
    "else:a=a*2-1\n",
    "print(a)"
   ]
  },
  {
   "cell_type": "code",
   "execution_count": null,
   "id": "c3cc1d6f",
   "metadata": {},
   "outputs": [],
   "source": []
  }
 ],
 "metadata": {
  "kernelspec": {
   "display_name": "Python 3",
   "language": "python",
   "name": "python3"
  },
  "language_info": {
   "codemirror_mode": {
    "name": "ipython",
    "version": 3
   },
   "file_extension": ".py",
   "mimetype": "text/x-python",
   "name": "python",
   "nbconvert_exporter": "python",
   "pygments_lexer": "ipython3",
   "version": "3.8.8"
  }
 },
 "nbformat": 4,
 "nbformat_minor": 5
}
