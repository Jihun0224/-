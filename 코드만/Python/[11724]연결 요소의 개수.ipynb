{
 "cells": [
  {
   "cell_type": "code",
   "execution_count": 8,
   "id": "a21bec13",
   "metadata": {},
   "outputs": [
    {
     "name": "stdout",
     "output_type": "stream",
     "text": [
      "6 5\n",
      "1 2\n",
      "2 5\n",
      "5 1\n",
      "3 4\n",
      "4 6\n",
      "2\n"
     ]
    }
   ],
   "source": [
    "\n",
    "n,v=map(int,input().split())\n",
    "graph={}\n",
    "visited=[1]+[0]*n\n",
    "answer=0\n",
    "for _ in range(v):\n",
    "    n1,n2=map(int,input().split())\n",
    "    if n1 not in graph:\n",
    "        graph[n1]=[n2]\n",
    "    else:\n",
    "        graph[n1].append(n2)\n",
    "    if n2 not in graph:\n",
    "        graph[n2]=[n1]\n",
    "    else:\n",
    "        graph[n2].append(n1)\n",
    "def dfs(graph,i):\n",
    "    stack=[i]\n",
    "    while stack:\n",
    "        n=stack.pop()\n",
    "        if visited[n]==0:\n",
    "            visited[n]=1\n",
    "            if n in graph:\n",
    "                n=list(set(graph[n])-set(visited))\n",
    "                stack+=n\n",
    "for i in range(1,n+1):\n",
    "    if visited[i]==0:\n",
    "        dfs(graph,i)\n",
    "        answer+=1\n",
    "print(answer)"
   ]
  },
  {
   "cell_type": "code",
   "execution_count": 7,
   "id": "7c35d154",
   "metadata": {},
   "outputs": [
    {
     "data": {
      "text/plain": [
       "{1: [2, 5], 2: [1, 5, 4, 3], 5: [2, 1, 4], 3: [4, 2], 4: [3, 6, 5, 2], 6: [4]}"
      ]
     },
     "execution_count": 7,
     "metadata": {},
     "output_type": "execute_result"
    }
   ],
   "source": [
    "graph"
   ]
  },
  {
   "cell_type": "code",
   "execution_count": null,
   "id": "23c5cf1a",
   "metadata": {},
   "outputs": [],
   "source": [
    "visited"
   ]
  },
  {
   "cell_type": "code",
   "execution_count": null,
   "id": "706ec8b4",
   "metadata": {},
   "outputs": [],
   "source": [
    "stack"
   ]
  },
  {
   "cell_type": "code",
   "execution_count": null,
   "id": "61012cbe",
   "metadata": {},
   "outputs": [],
   "source": []
  }
 ],
 "metadata": {
  "kernelspec": {
   "display_name": "Python 3",
   "language": "python",
   "name": "python3"
  },
  "language_info": {
   "codemirror_mode": {
    "name": "ipython",
    "version": 3
   },
   "file_extension": ".py",
   "mimetype": "text/x-python",
   "name": "python",
   "nbconvert_exporter": "python",
   "pygments_lexer": "ipython3",
   "version": "3.8.8"
  }
 },
 "nbformat": 4,
 "nbformat_minor": 5
}
