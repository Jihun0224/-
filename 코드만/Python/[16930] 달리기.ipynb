{
 "cells": [
  {
   "cell_type": "code",
   "execution_count": 4,
   "id": "8e0cfb90",
   "metadata": {},
   "outputs": [
    {
     "name": "stdout",
     "output_type": "stream",
     "text": [
      "3 4 1\n",
      "....\n",
      "###.\n",
      "....\n",
      "1 1 3 1\n",
      "8\n"
     ]
    }
   ],
   "source": [
    "from collections import deque\n",
    "import sys\n",
    "# input=sys.stdin.readline\n",
    "n,m,k=map(int,input().split())\n",
    "arr=['.']+[['.']+list(input())for _ in range(n)]\n",
    "start=[0]*2\n",
    "end=[0]*2\n",
    "start[0],start[1],end[0],end[1]=map(int,input().split())\n",
    "dx=[1,-1,0,0]\n",
    "dy=[0,0,1,-1]\n",
    "visited=[[-1]*(m+1) for _ in range(n+1)]\n",
    "q=deque([start])\n",
    "visited[start[0]][start[1]]=0\n",
    "while q:\n",
    "    x,y=q.popleft()\n",
    "    for i in range(4):\n",
    "        for j in range(1,k+1):\n",
    "            nx=x+dx[i]*j\n",
    "            ny=y+dy[i]*j\n",
    "            if not(1<=nx<=n and 1<=ny<=m) or arr[nx][ny]=='#':break\n",
    "            if -1!=visited[nx][ny]<=visited[x][y]:break\n",
    "            if visited[nx][ny]!=-1:continue\n",
    "            visited[nx][ny]=visited[x][y]+1\n",
    "            q.append([nx,ny])\n",
    "print(visited[end[0]][end[1]])"
   ]
  }
 ],
 "metadata": {
  "kernelspec": {
   "display_name": "Python 3",
   "language": "python",
   "name": "python3"
  },
  "language_info": {
   "codemirror_mode": {
    "name": "ipython",
    "version": 3
   },
   "file_extension": ".py",
   "mimetype": "text/x-python",
   "name": "python",
   "nbconvert_exporter": "python",
   "pygments_lexer": "ipython3",
   "version": "3.8.8"
  }
 },
 "nbformat": 4,
 "nbformat_minor": 5
}
