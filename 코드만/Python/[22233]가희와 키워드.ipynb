{
 "cells": [
  {
   "cell_type": "code",
   "execution_count": 8,
   "id": "db15b1ea",
   "metadata": {},
   "outputs": [
    {
     "name": "stdout",
     "output_type": "stream",
     "text": [
      "5 2\n",
      "a\n",
      "b\n",
      "c\n",
      "d\n",
      "e\n",
      "a,b\n",
      "3\n",
      "b,c\n",
      "2\n"
     ]
    }
   ],
   "source": [
    "import sys\n",
    "input=sys.stdin.readline\n",
    "N,M=map(int,input().split())\n",
    "dic=dict()\n",
    "for _ in range(N):dic[input().rstrip()]=1\n",
    "for _ in range(M):\n",
    "    for word in input().rstrip().split(\",\"):\n",
    "        if word in dic.keys() and dic[word]==1:\n",
    "            dic[word]-=1\n",
    "            N-=1\n",
    "    print(N)"
   ]
  }
 ],
 "metadata": {
  "kernelspec": {
   "display_name": "Python 3",
   "language": "python",
   "name": "python3"
  },
  "language_info": {
   "codemirror_mode": {
    "name": "ipython",
    "version": 3
   },
   "file_extension": ".py",
   "mimetype": "text/x-python",
   "name": "python",
   "nbconvert_exporter": "python",
   "pygments_lexer": "ipython3",
   "version": "3.8.8"
  }
 },
 "nbformat": 4,
 "nbformat_minor": 5
}
