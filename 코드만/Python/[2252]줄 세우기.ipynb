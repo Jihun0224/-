{
 "cells": [
  {
   "cell_type": "code",
   "execution_count": 1,
   "id": "664eee22",
   "metadata": {},
   "outputs": [
    {
     "name": "stdout",
     "output_type": "stream",
     "text": [
      "6 4\n",
      "1 2\n",
      "1 3\n",
      "2 5\n",
      "4 5\n",
      "1 2 2 1 3 1\n"
     ]
    }
   ],
   "source": [
    "from collections import deque\n",
    "# import sys\n",
    "# input=sys.stdin.readline\n",
    "n,m=map(int, input().split())\n",
    "result=[1]*(n+1)\n",
    "graph = [[]for i in range(n+1)]\n",
    "indegree=[0]*(n+1)\n",
    "q=deque()\n",
    "\n",
    "for i in range(m):\n",
    "    a,b=map(int,input().split())\n",
    "    graph[a].append(b)\n",
    "    indegree[b]+=1\n",
    "\n",
    "for i in range(1,n+1):\n",
    "    if indegree[i]==0:\n",
    "        q.append(i)\n",
    "while q:\n",
    "    cur=q.popleft()\n",
    "    for i in graph[cur]:\n",
    "        indegree[i]-=1\n",
    "        if indegree[i]==0:\n",
    "            q.append(i)\n",
    "            result[i]=result[cur]+1\n",
    "print(*result[1:])"
   ]
  },
  {
   "cell_type": "code",
   "execution_count": null,
   "id": "337978d9",
   "metadata": {},
   "outputs": [],
   "source": []
  }
 ],
 "metadata": {
  "kernelspec": {
   "display_name": "Python 3",
   "language": "python",
   "name": "python3"
  },
  "language_info": {
   "codemirror_mode": {
    "name": "ipython",
    "version": 3
   },
   "file_extension": ".py",
   "mimetype": "text/x-python",
   "name": "python",
   "nbconvert_exporter": "python",
   "pygments_lexer": "ipython3",
   "version": "3.8.8"
  }
 },
 "nbformat": 4,
 "nbformat_minor": 5
}
