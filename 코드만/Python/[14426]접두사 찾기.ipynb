{
 "cells": [
  {
   "cell_type": "code",
   "execution_count": 3,
   "id": "09eec948",
   "metadata": {},
   "outputs": [
    {
     "name": "stdout",
     "output_type": "stream",
     "text": [
      "5 10\n",
      "baekjoononlinejudge\n",
      "startlink\n",
      "codeplus\n",
      "sundaycoding\n",
      "codingsh\n",
      "baekjoon\n",
      "star\n",
      "start\n",
      "code\n",
      "sunday\n",
      "coding\n",
      "cod\n",
      "online\n",
      "judge\n",
      "plus\n",
      "7\n"
     ]
    }
   ],
   "source": [
    "import sys\n",
    "input=sys.stdin.readline\n",
    "n,m=map(int,input().split())\n",
    "arr=[input().rstrip()for _ in range(n)]\n",
    "a=0\n",
    "for _ in range(m):\n",
    "    target=input().rstrip()\n",
    "    l=len(target)\n",
    "    for word in arr:\n",
    "        if target==word[:l]:\n",
    "            a+=1\n",
    "            break\n",
    "print(a)"
   ]
  },
  {
   "cell_type": "code",
   "execution_count": null,
   "id": "4e05081e",
   "metadata": {},
   "outputs": [],
   "source": []
  }
 ],
 "metadata": {
  "kernelspec": {
   "display_name": "Python 3",
   "language": "python",
   "name": "python3"
  },
  "language_info": {
   "codemirror_mode": {
    "name": "ipython",
    "version": 3
   },
   "file_extension": ".py",
   "mimetype": "text/x-python",
   "name": "python",
   "nbconvert_exporter": "python",
   "pygments_lexer": "ipython3",
   "version": "3.8.8"
  }
 },
 "nbformat": 4,
 "nbformat_minor": 5
}
