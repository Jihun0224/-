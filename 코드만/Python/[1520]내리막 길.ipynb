{
 "cells": [
  {
   "cell_type": "code",
   "execution_count": null,
   "id": "ffc3e43e",
   "metadata": {},
   "outputs": [],
   "source": [
    "import sys\n",
    "input=sys.stdin.readline\n",
    "sys.setrecursionlimit(10**8)\n",
    "n,m=map(int,input().split())\n",
    "arr=[list(map(int,input().split())) for _ in range(n)]\n",
    "dx=[1,-1,0,0]\n",
    "dy=[0,0,1,-1]\n",
    "dp=[[-1]*m for _ in range(n)]\n",
    "def dfs(x,y):\n",
    "    if x==n-1and y==m-1:return 1\n",
    "    if dp[x][y]==-1:\n",
    "        dp[x][y]=0\n",
    "        for i in range(4):\n",
    "            nx=x+dx[i]\n",
    "            ny=y+dy[i]\n",
    "            if 0<=nx<n and 0<=ny<m and dp[nx][ny] and arr[x][y]>arr[nx][ny]:\n",
    "                dp[x][y]+=dfs(nx,ny)\n",
    "    return dp[x][y]\n",
    "print(dfs(0,0))"
   ]
  }
 ],
 "metadata": {
  "kernelspec": {
   "display_name": "Python 3",
   "language": "python",
   "name": "python3"
  },
  "language_info": {
   "codemirror_mode": {
    "name": "ipython",
    "version": 3
   },
   "file_extension": ".py",
   "mimetype": "text/x-python",
   "name": "python",
   "nbconvert_exporter": "python",
   "pygments_lexer": "ipython3",
   "version": "3.8.8"
  }
 },
 "nbformat": 4,
 "nbformat_minor": 5
}
