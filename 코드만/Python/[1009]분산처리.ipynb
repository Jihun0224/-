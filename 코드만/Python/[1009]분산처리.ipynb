{
 "cells": [
  {
   "cell_type": "code",
   "execution_count": 17,
   "id": "bf4c2bc4",
   "metadata": {},
   "outputs": [
    {
     "name": "stdout",
     "output_type": "stream",
     "text": [
      "5\n",
      "1 6\n",
      "1\n",
      "3 7\n",
      "7\n",
      "6 2\n",
      "6\n",
      "7 100\n",
      "1\n",
      "9 635\n",
      "9\n"
     ]
    }
   ],
   "source": [
    "n = int(input())\n",
    "for _ in range(n):\n",
    "    a,b = map(int,input().split())\n",
    "    a = a % 10\n",
    "    b = b%4 if b%4 !=0 else 4\n",
    "    answer = a**b%10\n",
    "    print(answer if answer!=0 else 10)"
   ]
  }
 ],
 "metadata": {
  "kernelspec": {
   "display_name": "Python 3",
   "language": "python",
   "name": "python3"
  },
  "language_info": {
   "codemirror_mode": {
    "name": "ipython",
    "version": 3
   },
   "file_extension": ".py",
   "mimetype": "text/x-python",
   "name": "python",
   "nbconvert_exporter": "python",
   "pygments_lexer": "ipython3",
   "version": "3.8.8"
  }
 },
 "nbformat": 4,
 "nbformat_minor": 5
}
