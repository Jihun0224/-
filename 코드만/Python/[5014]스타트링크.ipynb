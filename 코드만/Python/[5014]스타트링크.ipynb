{
 "cells": [
  {
   "cell_type": "code",
   "execution_count": 16,
   "id": "53ab9474",
   "metadata": {},
   "outputs": [
    {
     "name": "stdout",
     "output_type": "stream",
     "text": [
      "2 2 1 0 1\n",
      "1\n"
     ]
    }
   ],
   "source": [
    "from collections import deque\n",
    "F,S,G,U,D=map(int,input().split())\n",
    "def bfs():\n",
    "    visited=[0]*(F+1)\n",
    "    q=deque([S])\n",
    "    visited[S]=1\n",
    "    while q:\n",
    "        tmp=q.popleft()\n",
    "        if tmp==G:return visited[tmp]\n",
    "        for i in [tmp-D,tmp+U]:\n",
    "            if 0<i<=F and visited[i]==0:\n",
    "                visited[i]=visited[tmp]+1\n",
    "                q.append(i)\n",
    "    return -1\n",
    "a=bfs()\n",
    "if a==-1:print(\"use the stairs\")\n",
    "else:print(a-1)"
   ]
  }
 ],
 "metadata": {
  "kernelspec": {
   "display_name": "Python 3",
   "language": "python",
   "name": "python3"
  },
  "language_info": {
   "codemirror_mode": {
    "name": "ipython",
    "version": 3
   },
   "file_extension": ".py",
   "mimetype": "text/x-python",
   "name": "python",
   "nbconvert_exporter": "python",
   "pygments_lexer": "ipython3",
   "version": "3.8.8"
  }
 },
 "nbformat": 4,
 "nbformat_minor": 5
}
