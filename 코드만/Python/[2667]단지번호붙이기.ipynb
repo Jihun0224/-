{
 "cells": [
  {
   "cell_type": "code",
   "execution_count": 43,
   "id": "262f2afd",
   "metadata": {},
   "outputs": [
    {
     "name": "stdout",
     "output_type": "stream",
     "text": [
      "7\n",
      "0110100\n",
      "0110101\n",
      "1110101\n",
      "0000111\n",
      "0100000\n",
      "0111110\n",
      "0111000\n",
      "3\n",
      "7\n",
      "8\n",
      "9\n"
     ]
    }
   ],
   "source": [
    "import sys \n",
    "sys.setrecursionlimit(10**6)\n",
    "n=int(input())\n",
    "data=[list(map(int,(input())))for _ in range(n)]\n",
    "count=0\n",
    "def search(x,y):\n",
    "    if 0<=x<n and 0<=y<n and data[x][y]==1:\n",
    "        d=[[1,0],[-1,0],[0,1],[0,-1]]\n",
    "        global count\n",
    "        count+=1\n",
    "        data[x][y]=0\n",
    "        for i in range(4):\n",
    "            dx=x+d[i][0]\n",
    "            dy=y+d[i][1]\n",
    "            search(dx,dy)\n",
    "        return True\n",
    "    return False\n",
    "\n",
    "answer=0\n",
    "nums=[]\n",
    "for i in range(n):\n",
    "    for j in range(n):\n",
    "        if search(i,j):\n",
    "            nums.append(count)\n",
    "            count=0\n",
    "            answer+=1\n",
    "print(answer)\n",
    "nums.sort()\n",
    "for i in nums:\n",
    "    print(i)"
   ]
  }
 ],
 "metadata": {
  "kernelspec": {
   "display_name": "Python 3",
   "language": "python",
   "name": "python3"
  },
  "language_info": {
   "codemirror_mode": {
    "name": "ipython",
    "version": 3
   },
   "file_extension": ".py",
   "mimetype": "text/x-python",
   "name": "python",
   "nbconvert_exporter": "python",
   "pygments_lexer": "ipython3",
   "version": "3.8.8"
  }
 },
 "nbformat": 4,
 "nbformat_minor": 5
}
