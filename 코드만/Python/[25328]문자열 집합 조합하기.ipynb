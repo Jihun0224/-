{
 "cells": [
  {
   "cell_type": "code",
   "execution_count": 30,
   "id": "4ee0382f",
   "metadata": {},
   "outputs": [
    {
     "name": "stdout",
     "output_type": "stream",
     "text": [
      "a\n",
      "b\n",
      "cde\n",
      "1\n",
      "-1\n"
     ]
    }
   ],
   "source": [
    "import itertools\n",
    "from collections import Counter\n",
    "arr=[input()for _ in range(3)]\n",
    "k=int(input())\n",
    "combi=[]\n",
    "for v in arr:combi.append([\"\".join(i) for i in list(itertools.combinations(v,k))])\n",
    "counter=Counter(sum(combi,[])).items()\n",
    "a=[]\n",
    "for v,c in counter:\n",
    "    if c>=2:a.append(v)\n",
    "if len(a)==0:print(-1)\n",
    "else:\n",
    "    for i in sorted(a):print(i)"
   ]
  },
  {
   "cell_type": "code",
   "execution_count": null,
   "id": "f296d4e0",
   "metadata": {},
   "outputs": [],
   "source": []
  }
 ],
 "metadata": {
  "kernelspec": {
   "display_name": "Python 3",
   "language": "python",
   "name": "python3"
  },
  "language_info": {
   "codemirror_mode": {
    "name": "ipython",
    "version": 3
   },
   "file_extension": ".py",
   "mimetype": "text/x-python",
   "name": "python",
   "nbconvert_exporter": "python",
   "pygments_lexer": "ipython3",
   "version": "3.8.8"
  }
 },
 "nbformat": 4,
 "nbformat_minor": 5
}
