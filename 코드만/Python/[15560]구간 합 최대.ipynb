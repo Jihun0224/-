{
 "cells": [
  {
   "cell_type": "code",
   "execution_count": null,
   "id": "57ba99e9",
   "metadata": {},
   "outputs": [],
   "source": [
    "I=lambda:map(int,input().split())\n",
    "N,Q,U,V=I()\n",
    "arr=[0]\n",
    "for d in list(I()):arr.append(arr[-1]+d)\n",
    "for _ in range(Q):\n",
    "    C,A,B=I()\n",
    "    if C==0:\n",
    "        \n",
    "    else:\n",
    "        "
   ]
  }
 ],
 "metadata": {
  "kernelspec": {
   "display_name": "Python 3",
   "language": "python",
   "name": "python3"
  },
  "language_info": {
   "codemirror_mode": {
    "name": "ipython",
    "version": 3
   },
   "file_extension": ".py",
   "mimetype": "text/x-python",
   "name": "python",
   "nbconvert_exporter": "python",
   "pygments_lexer": "ipython3",
   "version": "3.8.8"
  }
 },
 "nbformat": 4,
 "nbformat_minor": 5
}
