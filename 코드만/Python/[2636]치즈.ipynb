{
 "cells": [
  {
   "cell_type": "code",
   "execution_count": null,
   "id": "61d266b4",
   "metadata": {},
   "outputs": [],
   "source": [
    "from collections import deque\n",
    "import sys \n",
    "input=sys.stdin.readline\n",
    "n,m=map(int,input().split())\n",
    "arr=[list(map(int,input().split())) for _ in range(n)]\n",
    "d=[(1,0),(-1,0),(0,1),(0,-1)]\n",
    "def bfs():\n",
    "    count=0\n",
    "    visited=[[0]*m for _ in range(n)]\n",
    "    queue=deque([[0,0]])\n",
    "    visited[0][0]=1\n",
    "    for i in range(n):\n",
    "        for j in range(m):\n",
    "            if arr[i][j]==1:count+=1\n",
    "    while queue:\n",
    "        x,y=queue.popleft()\n",
    "        for k in range(4):\n",
    "            dx=x+d[k][0]\n",
    "            dy=y+d[k][1]\n",
    "            if 0<=dx<n and 0<=dy<m and not visited[dx][dy]:\n",
    "                visited[dx][dy]=1\n",
    "                if arr[dx][dy]==0:queue.append([dx,dy])\n",
    "                elif arr[dx][dy]==1:\n",
    "                    arr[dx][dy]=-1\n",
    "    for i in range(n):\n",
    "        for j in range(m):\n",
    "            if arr[i][j]==-1:arr[i][j]=0\n",
    "    return count\n",
    "if sum(sum(arr,[]))==0:\n",
    "    print(0)\n",
    "    print(0)\n",
    "else:\n",
    "    hour=0\n",
    "    pre=0\n",
    "    count=-1\n",
    "    while count!=0:\n",
    "        count=bfs()\n",
    "        if count!=0:\n",
    "            pre=count\n",
    "            hour+=1\n",
    "    print(hour)\n",
    "    print(pre)"
   ]
  }
 ],
 "metadata": {
  "kernelspec": {
   "display_name": "Python 3",
   "language": "python",
   "name": "python3"
  },
  "language_info": {
   "codemirror_mode": {
    "name": "ipython",
    "version": 3
   },
   "file_extension": ".py",
   "mimetype": "text/x-python",
   "name": "python",
   "nbconvert_exporter": "python",
   "pygments_lexer": "ipython3",
   "version": "3.8.8"
  }
 },
 "nbformat": 4,
 "nbformat_minor": 5
}
