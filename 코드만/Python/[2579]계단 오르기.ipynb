{
 "cells": [
  {
   "cell_type": "code",
   "execution_count": 1,
   "id": "62c24c12",
   "metadata": {},
   "outputs": [
    {
     "name": "stdout",
     "output_type": "stream",
     "text": [
      "3\n",
      "10\n",
      "20\n",
      "30\n",
      "50\n"
     ]
    }
   ],
   "source": [
    "import sys\n",
    "input = sys.stdin.readline\n",
    "n=int(input())\n",
    "stair=[int(input()) for _ in range(n)]\n",
    "if n<3:\n",
    "    if n==1:print(stair[0])\n",
    "    elif n==2:print(stair[1]+stair[0])\n",
    "    elif n==3:print(max(stair[0]+stair[2],stair[1]+stair[2]))\n",
    "else:\n",
    "    memo=[0 for i in range(n)]\n",
    "    memo[0] = stair[0]\n",
    "    memo[1] = stair[1]+stair[0]\n",
    "    memo[2] = max(stair[0]+stair[2],stair[1]+stair[2])\n",
    "\n",
    "    for i in range(3,n):\n",
    "        memo[i] = max(memo[i-2]+stair[i], stair[i-1]+stair[i]+memo[i-3])\n",
    "    print(memo[n-1])"
   ]
  }
 ],
 "metadata": {
  "kernelspec": {
   "display_name": "Python 3",
   "language": "python",
   "name": "python3"
  },
  "language_info": {
   "codemirror_mode": {
    "name": "ipython",
    "version": 3
   },
   "file_extension": ".py",
   "mimetype": "text/x-python",
   "name": "python",
   "nbconvert_exporter": "python",
   "pygments_lexer": "ipython3",
   "version": "3.8.8"
  }
 },
 "nbformat": 4,
 "nbformat_minor": 5
}
