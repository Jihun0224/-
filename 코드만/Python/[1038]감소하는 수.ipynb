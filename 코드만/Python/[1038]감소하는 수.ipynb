{
 "cells": [
  {
   "cell_type": "code",
   "execution_count": 7,
   "id": "7f46e0c7",
   "metadata": {},
   "outputs": [
    {
     "name": "stdout",
     "output_type": "stream",
     "text": [
      "500000\n",
      "-1\n"
     ]
    }
   ],
   "source": [
    "from itertools import combinations\n",
    "nums=range(10)\n",
    "n=int(input())\n",
    "answer=[]\n",
    "for i in range(1, 11):\n",
    "    temp=list(map(list,combinations(nums,i)))\n",
    "    for j in range(len(temp)):\n",
    "        temp[j]=sorted(temp[j],reverse=True)\n",
    "        answer.append(int(''.join(map(str, temp[j]))))\n",
    "answer.sort()\n",
    "if n>=len(answer):print(-1)\n",
    "else:print(answer[n])"
   ]
  },
  {
   "cell_type": "code",
   "execution_count": null,
   "id": "7c09f5ed",
   "metadata": {},
   "outputs": [],
   "source": []
  }
 ],
 "metadata": {
  "kernelspec": {
   "display_name": "Python 3",
   "language": "python",
   "name": "python3"
  },
  "language_info": {
   "codemirror_mode": {
    "name": "ipython",
    "version": 3
   },
   "file_extension": ".py",
   "mimetype": "text/x-python",
   "name": "python",
   "nbconvert_exporter": "python",
   "pygments_lexer": "ipython3",
   "version": "3.8.8"
  }
 },
 "nbformat": 4,
 "nbformat_minor": 5
}
