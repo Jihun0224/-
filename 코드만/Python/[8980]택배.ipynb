{
 "cells": [
  {
   "cell_type": "code",
   "execution_count": 33,
   "id": "0e6c30e6",
   "metadata": {},
   "outputs": [
    {
     "name": "stdout",
     "output_type": "stream",
     "text": [
      "6 60\n",
      "5\n",
      "1 2 30\n",
      "2 5 70\n",
      "5 6 60\n",
      "3 4 40\n",
      "1 6 40\n",
      "150\n"
     ]
    }
   ],
   "source": [
    "import sys\n",
    "input=sys.stdin.readline\n",
    "n,c=map(int,input().split())\n",
    "arr=[list(map(int,input().split())) for _ in range(int(input()))]\n",
    "arr.sort(key=lambda x:x[1])\n",
    "a=0\n",
    "truck=[c]*(n+1)\n",
    "for s,e,cnt in arr:\n",
    "    v=c\n",
    "    for i in range(s,e):\n",
    "        v=min(v,truck[i])\n",
    "    v=min(v,cnt)\n",
    "    for i in range(s,e):\n",
    "        truck[i]-=v\n",
    "    a+=v\n",
    "print(a)"
   ]
  }
 ],
 "metadata": {
  "kernelspec": {
   "display_name": "Python 3",
   "language": "python",
   "name": "python3"
  },
  "language_info": {
   "codemirror_mode": {
    "name": "ipython",
    "version": 3
   },
   "file_extension": ".py",
   "mimetype": "text/x-python",
   "name": "python",
   "nbconvert_exporter": "python",
   "pygments_lexer": "ipython3",
   "version": "3.8.8"
  }
 },
 "nbformat": 4,
 "nbformat_minor": 5
}
