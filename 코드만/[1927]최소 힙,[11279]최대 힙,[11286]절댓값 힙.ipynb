{
 "cells": [
  {
   "cell_type": "markdown",
   "id": "5e904302",
   "metadata": {},
   "source": [
    "## 1927 최소 힙"
   ]
  },
  {
   "cell_type": "code",
   "execution_count": null,
   "id": "e755d635",
   "metadata": {},
   "outputs": [],
   "source": [
    "import heapq\n",
    "import sys \n",
    "input = sys.stdin.readline\n",
    "heap = []\n",
    "for _ in range(int(input())):\n",
    "    n=int(input())\n",
    "    if n==0:\n",
    "        if len(heap)==0:\n",
    "            print(0)\n",
    "        else:\n",
    "            tmp = heapq.heappop(heap)\n",
    "            print(tmp)\n",
    "    else:\n",
    "        heapq.heappush(heap,n)"
   ]
  },
  {
   "cell_type": "markdown",
   "id": "7a36e432",
   "metadata": {},
   "source": [
    "## 11279 최대 힙"
   ]
  },
  {
   "cell_type": "code",
   "execution_count": 1,
   "id": "e85ac7e1",
   "metadata": {},
   "outputs": [
    {
     "name": "stdout",
     "output_type": "stream",
     "text": [
      "13\n",
      "0\n",
      "0\n",
      "1\n",
      "2\n",
      "0\n",
      "2\n",
      "0\n",
      "1\n",
      "2\n",
      "0\n",
      "2\n",
      "0\n",
      "0\n",
      "0\n",
      "0\n",
      "0\n",
      "0\n",
      "0\n",
      "0\n",
      "5\n",
      "6\n"
     ]
    }
   ],
   "source": [
    "import heapq\n",
    "import sys \n",
    "input = sys.stdin.readline\n",
    "heap = []\n",
    "for _ in range(int(input())):\n",
    "    n=int(input())\n",
    "    if n==0:\n",
    "        if len(heap)==0:\n",
    "            print(0)\n",
    "        else:\n",
    "            tmp = heapq.heappop(heap)\n",
    "            print(-tmp)\n",
    "    else:\n",
    "        heapq.heappush(heap,-n)"
   ]
  },
  {
   "cell_type": "markdown",
   "id": "94441f8f",
   "metadata": {},
   "source": [
    "## 11286절댓값 힙"
   ]
  },
  {
   "cell_type": "code",
   "execution_count": 3,
   "id": "f2afb22c",
   "metadata": {},
   "outputs": [
    {
     "name": "stdout",
     "output_type": "stream",
     "text": [
      "18\n",
      "1\n",
      "-1\n",
      "0\n",
      "-1\n",
      "0\n",
      "1\n",
      "0\n",
      "0\n",
      "1\n",
      "1\n",
      "-1\n",
      "-1\n",
      "2\n",
      "-2\n",
      "0\n",
      "-1\n",
      "0\n",
      "-1\n",
      "0\n",
      "1\n",
      "0\n",
      "1\n",
      "0\n",
      "-2\n",
      "0\n",
      "2\n",
      "0\n",
      "0\n"
     ]
    }
   ],
   "source": [
    "import heapq\n",
    "import sys\n",
    "input = sys.stdin.readline\n",
    "heap = []\n",
    "for _ in range(int(input())):\n",
    "    n=int(input())\n",
    "    if n==0:\n",
    "        if len(heap)==0:\n",
    "            print(0)\n",
    "        else:\n",
    "            print(heapq.heappop(heap)[1])\n",
    "    else:\n",
    "        heapq.heappush(heap,(abs(n),n))\n",
    "        "
   ]
  },
  {
   "cell_type": "code",
   "execution_count": null,
   "id": "118e8377",
   "metadata": {},
   "outputs": [],
   "source": []
  }
 ],
 "metadata": {
  "kernelspec": {
   "display_name": "Python 3",
   "language": "python",
   "name": "python3"
  },
  "language_info": {
   "codemirror_mode": {
    "name": "ipython",
    "version": 3
   },
   "file_extension": ".py",
   "mimetype": "text/x-python",
   "name": "python",
   "nbconvert_exporter": "python",
   "pygments_lexer": "ipython3",
   "version": "3.8.8"
  }
 },
 "nbformat": 4,
 "nbformat_minor": 5
}
