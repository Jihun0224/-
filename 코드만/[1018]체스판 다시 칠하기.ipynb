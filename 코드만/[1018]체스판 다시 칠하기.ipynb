{
 "cells": [
  {
   "cell_type": "code",
   "execution_count": null,
   "id": "99913abd",
   "metadata": {},
   "outputs": [],
   "source": [
    "def b_start(board):\n",
    "    count = 0\n",
    "    even = 2\n",
    "    for i in range(8):\n",
    "        for j in range(4):\n",
    "            if i % 2 == 0:\n",
    "                if board[i][even*j] != 'B':\n",
    "                        count +=1\n",
    "                if board[i][even*j+1] != 'W':\n",
    "                        count +=1\n",
    "            else:\n",
    "                if board[i][even*j] != 'W':\n",
    "                        count +=1\n",
    "                if board[i][even*j+1] != 'B':\n",
    "                        count +=1                \n",
    "    return count\n",
    "def w_start(board):\n",
    "    count = 0\n",
    "    even = 2\n",
    "    for i in range(8):\n",
    "        for j in range(4):\n",
    "            if i % 2 == 0:\n",
    "                if board[i][even*j] != 'W':\n",
    "                        count +=1\n",
    "                if board[i][even*j+1] != 'B':\n",
    "                        count +=1\n",
    "            else:\n",
    "                if board[i][even*j] != 'B':\n",
    "                        count +=1\n",
    "                if board[i][even*j+1] != 'W':\n",
    "                        count +=1    \n",
    "    return count\n",
    "a = map(int, input().split())\n",
    "m, n = a\n",
    "min = 100\n",
    "board = []\n",
    "for index in range(m):\n",
    "    line = input()\n",
    "    board.append(line)\n",
    "    \n",
    "for i in range(m - 7):\n",
    "    case = [[0] * 8 for _ in range(8)]\n",
    "    for j in range(n - 7):\n",
    "        for k in range(8):\n",
    "            for l in range(8):\n",
    "                case[k][l] = board[i+k][j+l]\n",
    "        temp = w_start(case) if b_start(case) > w_start(case) else b_start(case)\n",
    "        if min > temp:\n",
    "            min = temp\n",
    "print(min)"
   ]
  }
 ],
 "metadata": {
  "kernelspec": {
   "display_name": "Python 3",
   "language": "python",
   "name": "python3"
  },
  "language_info": {
   "codemirror_mode": {
    "name": "ipython",
    "version": 3
   },
   "file_extension": ".py",
   "mimetype": "text/x-python",
   "name": "python",
   "nbconvert_exporter": "python",
   "pygments_lexer": "ipython3",
   "version": "3.8.8"
  }
 },
 "nbformat": 4,
 "nbformat_minor": 5
}
