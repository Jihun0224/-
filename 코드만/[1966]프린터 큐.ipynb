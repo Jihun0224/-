{
 "cells": [
  {
   "cell_type": "code",
   "execution_count": 9,
   "id": "697a52e7",
   "metadata": {},
   "outputs": [
    {
     "name": "stdout",
     "output_type": "stream",
     "text": [
      "3\n",
      "1 0\n",
      "5\n",
      "1\n",
      "4 2\n",
      "1 2 3 4\n",
      "2\n",
      "6 0\n",
      "1 1 9 1 1 1\n",
      "5\n"
     ]
    }
   ],
   "source": [
    "from collections import deque\n",
    "for _ in range(int(input())):\n",
    "    n,m=map(int,input().split())\n",
    "    queue=deque(list(map(int,input().split())))\n",
    "    i=0\n",
    "    while 1:\n",
    "        temp=queue.popleft()\n",
    "        if m==0:\n",
    "            if len(queue)==0 or temp>=max(queue):\n",
    "                i+=1\n",
    "                print(i)\n",
    "                break\n",
    "            else:\n",
    "                queue.append(temp)\n",
    "                m=len(queue)-1\n",
    "        else:\n",
    "            if temp>=max(queue):\n",
    "                i+=1\n",
    "            else:\n",
    "                queue.append(temp)\n",
    "            m-=1"
   ]
  },
  {
   "cell_type": "code",
   "execution_count": null,
   "id": "2fb3e872",
   "metadata": {},
   "outputs": [],
   "source": []
  }
 ],
 "metadata": {
  "kernelspec": {
   "display_name": "Python 3",
   "language": "python",
   "name": "python3"
  },
  "language_info": {
   "codemirror_mode": {
    "name": "ipython",
    "version": 3
   },
   "file_extension": ".py",
   "mimetype": "text/x-python",
   "name": "python",
   "nbconvert_exporter": "python",
   "pygments_lexer": "ipython3",
   "version": "3.8.8"
  }
 },
 "nbformat": 4,
 "nbformat_minor": 5
}
