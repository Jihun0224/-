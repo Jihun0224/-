{
 "cells": [
  {
   "cell_type": "code",
   "execution_count": 31,
   "id": "86d7de07",
   "metadata": {},
   "outputs": [
    {
     "name": "stdout",
     "output_type": "stream",
     "text": [
      "5 5 3\n",
      "5 4\n",
      "5 2\n",
      "1 2\n",
      "3 4\n",
      "3 1\n",
      "3 1 2 5 4\n",
      "3 1 4 2 5\n"
     ]
    }
   ],
   "source": [
    "from collections import deque\n",
    "\n",
    "graph={}\n",
    "node,edge,start = map(int,input().split())\n",
    "for i in range(edge):\n",
    "    n1, n2 = map(int,input().split())\n",
    "    if n1 not in graph:\n",
    "        graph[n1] = [n2]\n",
    "    elif n2 not in graph[n1]:\n",
    "        graph[n1].append(n2)\n",
    "    if n2 not in graph:\n",
    "        graph[n2] = [n1]\n",
    "    elif n1 not in graph[n2]:\n",
    "        graph[n2].append(n1)\n",
    "def bfs(graph, root):\n",
    "    visited=[]\n",
    "    queue = deque([root])\n",
    "    while queue:\n",
    "        n = queue.popleft()\n",
    "        if n not in visited:\n",
    "            visited.append(n)\n",
    "            if n in graph:\n",
    "                temp = list(set(graph[n]) - set(visited))\n",
    "                temp.sort()\n",
    "                queue += temp\n",
    "                \n",
    "    return \" \".join(str(n) for n in visited)\n",
    "def dfs(graph, root):\n",
    "    visited = []\n",
    "    stack = [root]\n",
    "    while stack:\n",
    "        n = stack.pop()\n",
    "        if n not in visited:\n",
    "            visited.append(n)\n",
    "            if n in graph:\n",
    "                temp = list(set(graph[n]) - set(visited))\n",
    "                temp.sort(reverse=True)\n",
    "                stack += temp\n",
    "    return \" \".join(str(n) for n in visited)\n",
    "print(dfs(graph, start))\n",
    "print(bfs(graph, start))"
   ]
  },
  {
   "cell_type": "code",
   "execution_count": 35,
   "id": "bea91ff3",
   "metadata": {},
   "outputs": [
    {
     "name": "stdout",
     "output_type": "stream",
     "text": [
      "7\n",
      "6\n",
      "1 2\n",
      "2 3\n",
      "1 5\n",
      "5 2\n",
      "5 6\n",
      "4 7\n",
      "4\n"
     ]
    }
   ],
   "source": [
    "graph={}\n",
    "n=int(input())\n",
    "for i in range(int(input())):\n",
    "    n1, n2 = map(int,input().split())\n",
    "    if n1 not in graph:\n",
    "        graph[n1] = [n2]\n",
    "    elif n2 not in graph[n1]:\n",
    "        graph[n1].append(n2)\n",
    "    if n2 not in graph:\n",
    "        graph[n2] = [n1]\n",
    "    elif n1 not in graph[n2]:\n",
    "        graph[n2].append(n1)\n",
    "def dfs(graph, root):\n",
    "    visited = []\n",
    "    stack = [root]\n",
    "    while stack:\n",
    "        n = stack.pop()\n",
    "        if n not in visited:\n",
    "            visited.append(n)\n",
    "            if n in graph:\n",
    "                temp = list(set(graph[n]) - set(visited))\n",
    "                temp.sort(reverse=True)\n",
    "                stack += temp\n",
    "    return len(visited)\n",
    "print(dfs(graph,1)-1)"
   ]
  },
  {
   "cell_type": "code",
   "execution_count": null,
   "id": "4c96fceb",
   "metadata": {},
   "outputs": [],
   "source": [
    "def bfs(graph, root):\n",
    "    count=0\n",
    "    visited=[]\n",
    "    queue = deque([root])\n",
    "    while queue:\n",
    "        n = queue.popleft()\n",
    "        if n not in visited:\n",
    "            visited.append(n)\n",
    "            if n in graph:\n",
    "                temp = list(set(graph[n]) - set(visited))\n",
    "                temp.sort()\n",
    "                queue += temp"
   ]
  }
 ],
 "metadata": {
  "kernelspec": {
   "display_name": "Python 3",
   "language": "python",
   "name": "python3"
  },
  "language_info": {
   "codemirror_mode": {
    "name": "ipython",
    "version": 3
   },
   "file_extension": ".py",
   "mimetype": "text/x-python",
   "name": "python",
   "nbconvert_exporter": "python",
   "pygments_lexer": "ipython3",
   "version": "3.8.8"
  }
 },
 "nbformat": 4,
 "nbformat_minor": 5
}
