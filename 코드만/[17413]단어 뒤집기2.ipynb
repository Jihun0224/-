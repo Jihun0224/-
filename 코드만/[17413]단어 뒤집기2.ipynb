{
 "cells": [
  {
   "cell_type": "code",
   "execution_count": 133,
   "id": "d000532b",
   "metadata": {},
   "outputs": [
    {
     "name": "stdout",
     "output_type": "stream",
     "text": [
      "<ab cd>ef gh<ij kl>\n",
      "<ab cd>fe hg<ij kl>\n"
     ]
    }
   ],
   "source": [
    "tag=False\n",
    "answer=\"\"\n",
    "temp=\"\"\n",
    "for c in input():\n",
    "    if tag==False:\n",
    "        if c==\"<\" or c==\" \":\n",
    "            answer+=temp[::-1]\n",
    "            answer+=c \n",
    "            temp=\"\"\n",
    "            if c==\"<\":\n",
    "                tag=True\n",
    "        else:\n",
    "            temp+=c\n",
    "    else:\n",
    "        if c==\">\":\n",
    "            tag=False\n",
    "        answer+=c \n",
    "print(answer+temp[::-1])"
   ]
  },
  {
   "cell_type": "code",
   "execution_count": null,
   "id": "2987fc2e",
   "metadata": {},
   "outputs": [],
   "source": []
  }
 ],
 "metadata": {
  "kernelspec": {
   "display_name": "Python 3",
   "language": "python",
   "name": "python3"
  },
  "language_info": {
   "codemirror_mode": {
    "name": "ipython",
    "version": 3
   },
   "file_extension": ".py",
   "mimetype": "text/x-python",
   "name": "python",
   "nbconvert_exporter": "python",
   "pygments_lexer": "ipython3",
   "version": "3.8.8"
  }
 },
 "nbformat": 4,
 "nbformat_minor": 5
}
