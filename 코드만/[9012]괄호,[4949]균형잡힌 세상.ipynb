{
 "cells": [
  {
   "cell_type": "code",
   "execution_count": 7,
   "id": "0ab315d7",
   "metadata": {},
   "outputs": [
    {
     "name": "stdout",
     "output_type": "stream",
     "text": [
      "3\n",
      "((\n",
      "NO\n",
      "))\n",
      "NO\n",
      "())(()\n",
      "NO\n"
     ]
    }
   ],
   "source": [
    "for _ in range(int(input())):\n",
    "    ps=input()\n",
    "    stack=[]\n",
    "    for c in ps:\n",
    "        if c==\"(\":\n",
    "            stack.append(c)\n",
    "        elif len(stack)!=0:\n",
    "            stack.pop()\n",
    "        else:\n",
    "            stack.append(c)\n",
    "            break\n",
    "    if len(stack)==0:print(\"YES\")\n",
    "    else: print(\"NO\")"
   ]
  },
  {
   "cell_type": "code",
   "execution_count": 14,
   "id": "c0c6ea64",
   "metadata": {},
   "outputs": [
    {
     "name": "stdout",
     "output_type": "stream",
     "text": [
      "strip()\n",
      "yes\n",
      "import sys  input = sys.stdin.readline while 1:     ps=input().strip()     if ps==\".\":break     stack=[]     for c in ps:         if c==\"(\"or c==\"[\":             stack.append(c)         elif (c==\")\"or c==\"]\"):             if len(stack)==0:                 stack.append(c)                 break             else:                 temp=stack.pop()                 if (c==\")\" and temp!=\"(\")or(c==\"]\" and temp!=\"[\"):                     stack.append(c)                     break     if len(stack)==0:print(\"yes\")     else: print(\"no\")\n",
      "no\n",
      "import sys  input = sys.stdin.readline while 1:     ps=input().strip()     if ps==\".\":break     stack=[]     for c in ps:         if c==\"(\"or c==\"[\":             stack.append(c)         elif (c==\")\"or c==\"]\"):             if len(stack)==0:                 stack.append(c)                 break             else:                 temp=stack.pop()                 if (c==\")\" and temp!=\"(\")or(c==\"]\" and temp!=\"[\"):                     stack.append(c)                     break     if len(stack)==0:print(\"yes\")     else: print(\"no\")\n",
      "no\n",
      "import sys  input = sys.stdin.readline while 1:     ps=input().strip()     if ps==\".\":break     stack=[]     for c in ps:         if c==\"(\"or c==\"[\":             stack.append(c)         elif (c==\")\"or c==\"]\"):             if len(stack)==0:                 stack.append(c)                 break             else:                 temp=stack.pop()                 if (c==\")\" and temp!=\"(\")or(c==\"]\" and temp!=\"[\"):                     stack.append(c)                     break     if len(stack)==0:print(\"yes\")     else: print(\"no\")\n",
      "no\n",
      "import sys  input = sys.stdin.readline while 1:     ps=input().strip()     if ps==\".\":break     stack=[]     for c in ps:         if c==\"(\"or c==\"[\":             stack.append(c)         elif (c==\")\"or c==\"]\"):             if len(stack)==0:                 stack.append(c)                 break             else:                 temp=stack.pop()                 if (c==\")\" and temp!=\"(\")or(c==\"]\" and temp!=\"[\"):                     stack.append(c)                     break     if len(stack)==0:print(\"yes\")     else: print(\"no\")\n",
      "no\n",
      "\n",
      "yes\n",
      ".\n"
     ]
    }
   ],
   "source": [
    "while 1:\n",
    "    ps=input()\n",
    "    if ps==\".\":break\n",
    "    stack=[]\n",
    "    for c in ps:\n",
    "        if c==\"(\"or c==\"[\":\n",
    "            stack.append(c)\n",
    "        elif (c==\")\"or c==\"]\"):\n",
    "            if len(stack)==0:\n",
    "                stack.append(c)\n",
    "                break\n",
    "            else:\n",
    "                temp=stack.pop()\n",
    "                if (c==\")\" and temp!=\"(\")or(c==\"]\" and temp!=\"[\"):\n",
    "                    stack.append(c)\n",
    "                    break\n",
    "    if len(stack)==0:print(\"yes\")\n",
    "    else: print(\"no\")"
   ]
  },
  {
   "cell_type": "code",
   "execution_count": null,
   "id": "600b012b",
   "metadata": {},
   "outputs": [],
   "source": []
  }
 ],
 "metadata": {
  "kernelspec": {
   "display_name": "Python 3",
   "language": "python",
   "name": "python3"
  },
  "language_info": {
   "codemirror_mode": {
    "name": "ipython",
    "version": 3
   },
   "file_extension": ".py",
   "mimetype": "text/x-python",
   "name": "python",
   "nbconvert_exporter": "python",
   "pygments_lexer": "ipython3",
   "version": "3.8.8"
  }
 },
 "nbformat": 4,
 "nbformat_minor": 5
}
