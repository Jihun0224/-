{
 "cells": [
  {
   "cell_type": "code",
   "execution_count": 14,
   "id": "70da52fb",
   "metadata": {},
   "outputs": [
    {
     "name": "stdout",
     "output_type": "stream",
     "text": [
      "5\n",
      "55 185\n",
      "58 183\n",
      "88 186\n",
      "60 175\n",
      "46 155\n",
      "2 2 1 2 5\n"
     ]
    }
   ],
   "source": [
    "n = int(input())\n",
    "people = [list(map(int,input().split())) for _ in range(n)]\n",
    "answer= [0 for _ in range(5)]\n",
    "for i,person in enumerate(people):\n",
    "    count = 0\n",
    "    for target in people:\n",
    "        if person == target: pass\n",
    "        else:\n",
    "            if person[0] < target[0] and person[1] < target[1]:\n",
    "                count+=1\n",
    "    answer[i] = str(count+1)\n",
    "print(' '.join(answer))"
   ]
  },
  {
   "cell_type": "code",
   "execution_count": null,
   "id": "2a5b3945",
   "metadata": {},
   "outputs": [],
   "source": []
  }
 ],
 "metadata": {
  "kernelspec": {
   "display_name": "Python 3",
   "language": "python",
   "name": "python3"
  },
  "language_info": {
   "codemirror_mode": {
    "name": "ipython",
    "version": 3
   },
   "file_extension": ".py",
   "mimetype": "text/x-python",
   "name": "python",
   "nbconvert_exporter": "python",
   "pygments_lexer": "ipython3",
   "version": "3.8.8"
  }
 },
 "nbformat": 4,
 "nbformat_minor": 5
}
