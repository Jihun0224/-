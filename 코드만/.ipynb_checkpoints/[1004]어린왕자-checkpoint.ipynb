{
 "cells": [
  {
   "cell_type": "code",
   "execution_count": 24,
   "id": "5f81feac",
   "metadata": {},
   "outputs": [
    {
     "name": "stdout",
     "output_type": "stream",
     "text": [
      "1\n",
      "-5 1 12 1\n",
      "7\n",
      "1 1 8\n",
      "-3 -1 1\n",
      "2 2 2\n",
      "5 5 1\n",
      "-4 5 1\n",
      "12 1 1\n",
      "12 1 2\n",
      "3\n"
     ]
    }
   ],
   "source": [
    "n = int(input())\n",
    "for i in range(n):\n",
    "    x1,y1,x2,y2 = list(map(int,(input().split(\" \"))))\n",
    "    case = int(input())\n",
    "    count = 0\n",
    "    for _ in range(case):\n",
    "        cx,cy,r = list(map(int,(input().split(\" \"))))\n",
    "        dis1 = (x1-cx)**2 + (y1-cy)**2\n",
    "        out1 = True if dis1 > r*r else False\n",
    "        dis2 = (x2-cx)**2 + (y2-cy)**2\n",
    "        out2 = True if dis2 > r*r else False\n",
    "        if out1 != out2:\n",
    "            count+=1\n",
    "    print(count)\n",
    "    "
   ]
  },
  {
   "cell_type": "code",
   "execution_count": null,
   "id": "30ff27d5",
   "metadata": {},
   "outputs": [],
   "source": []
  }
 ],
 "metadata": {
  "kernelspec": {
   "display_name": "Python 3",
   "language": "python",
   "name": "python3"
  },
  "language_info": {
   "codemirror_mode": {
    "name": "ipython",
    "version": 3
   },
   "file_extension": ".py",
   "mimetype": "text/x-python",
   "name": "python",
   "nbconvert_exporter": "python",
   "pygments_lexer": "ipython3",
   "version": "3.8.8"
  }
 },
 "nbformat": 4,
 "nbformat_minor": 5
}
