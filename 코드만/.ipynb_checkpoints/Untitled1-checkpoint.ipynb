{
 "cells": [
  {
   "cell_type": "code",
   "execution_count": 2,
   "id": "3aef6934",
   "metadata": {},
   "outputs": [
    {
     "name": "stdout",
     "output_type": "stream",
     "text": [
      "5\n",
      "10 20 35 30 7\n",
      "7 35\n"
     ]
    }
   ],
   "source": [
    "import sys\n",
    "input = sys.stdin.readline\n",
    "input()\n",
    "list_ = list(map(int,input().split()))\n",
    "print(min(list_), max(list_))"
   ]
  },
  {
   "cell_type": "code",
   "execution_count": 2,
   "id": "f9ab1f88",
   "metadata": {},
   "outputs": [
    {
     "name": "stdout",
     "output_type": "stream",
     "text": [
      "3\n",
      "4\n",
      "5\n",
      "8\n",
      "9\n",
      "6\n",
      "8\n",
      "7\n",
      "8\n",
      "9\n",
      "4\n"
     ]
    }
   ],
   "source": [
    "list_ = [int(input())for _ in range(9)]\n",
    "print(max(list_))\n",
    "print(list_.index(max(list_))+1)"
   ]
  },
  {
   "cell_type": "code",
   "execution_count": 14,
   "id": "856238be",
   "metadata": {},
   "outputs": [
    {
     "name": "stdout",
     "output_type": "stream",
     "text": [
      "150\n",
      "266\n",
      "427\n",
      "3\n",
      "1\n",
      "0\n",
      "2\n",
      "0\n",
      "0\n",
      "0\n",
      "2\n",
      "0\n",
      "0\n"
     ]
    }
   ],
   "source": [
    "from functools import reduce\n",
    "value = str(reduce(lambda x, y: x * y, list(int(input()) for _ in range(3))))\n",
    "for i in range(10):\n",
    "    print(value.count(str(i)))"
   ]
  },
  {
   "cell_type": "code",
   "execution_count": 17,
   "id": "5138c98b",
   "metadata": {},
   "outputs": [
    {
     "name": "stdout",
     "output_type": "stream",
     "text": [
      "42\n",
      "84\n",
      "252\n",
      "420\n",
      "840\n",
      "126\n",
      "42\n",
      "84\n",
      "420\n",
      "126\n",
      "1\n"
     ]
    }
   ],
   "source": [
    "answer=[]\n",
    "for _ in range(10):\n",
    "    x = int(input())%42\n",
    "    if x not in answer:\n",
    "        answer.append(x)\n",
    "print(len([answer]))"
   ]
  },
  {
   "cell_type": "code",
   "execution_count": 18,
   "id": "2fae588a",
   "metadata": {},
   "outputs": [
    {
     "name": "stdout",
     "output_type": "stream",
     "text": [
      "3\n",
      "40 80 60\n",
      "75.0\n"
     ]
    }
   ],
   "source": [
    "n=int(input())\n",
    "list_=list(map(int,input().split()))\n",
    "max_=max(list_)\n",
    "for i in range(n):\n",
    "    list_[i] = list_[i]/max_*100\n",
    "print(sum(list_)/n)"
   ]
  },
  {
   "cell_type": "code",
   "execution_count": 24,
   "id": "06d60c31",
   "metadata": {},
   "outputs": [
    {
     "name": "stdout",
     "output_type": "stream",
     "text": [
      "1\n",
      "OXOXOXOXOXOXOX\n",
      "7\n"
     ]
    }
   ],
   "source": [
    "for _ in range(int(input())):\n",
    "    ox=input()\n",
    "    start=0\n",
    "    score=0\n",
    "    for i in range(len(ox)):\n",
    "        if ox[i]==\"O\":score+=i-start+1\n",
    "        else:start=i+1\n",
    "    print(score)"
   ]
  },
  {
   "cell_type": "code",
   "execution_count": 28,
   "id": "1ac1d1cb",
   "metadata": {},
   "outputs": [
    {
     "name": "stdout",
     "output_type": "stream",
     "text": [
      "1 5\n",
      "6\n",
      "d\n"
     ]
    }
   ],
   "source": [
    "while 1:\n",
    "    try:print(sum(map(int,input().split())))\n",
    "    except:break"
   ]
  },
  {
   "cell_type": "code",
   "execution_count": null,
   "id": "59a77fc6",
   "metadata": {},
   "outputs": [],
   "source": []
  }
 ],
 "metadata": {
  "kernelspec": {
   "display_name": "Python 3",
   "language": "python",
   "name": "python3"
  },
  "language_info": {
   "codemirror_mode": {
    "name": "ipython",
    "version": 3
   },
   "file_extension": ".py",
   "mimetype": "text/x-python",
   "name": "python",
   "nbconvert_exporter": "python",
   "pygments_lexer": "ipython3",
   "version": "3.8.8"
  }
 },
 "nbformat": 4,
 "nbformat_minor": 5
}
