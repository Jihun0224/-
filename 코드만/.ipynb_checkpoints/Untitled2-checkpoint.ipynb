{
 "cells": [
  {
   "cell_type": "code",
   "execution_count": 15,
   "id": "264ca788",
   "metadata": {},
   "outputs": [
    {
     "name": "stdout",
     "output_type": "stream",
     "text": [
      "7\n",
      "321 -1 88 777 105 456 88\n",
      "409\n"
     ]
    }
   ],
   "source": [
    "input()\n",
    "ice=list(map(int,input().split()))\n",
    "p=ice.index(-1)\n",
    "print(min(ice[:p])+min(ice[p+1:]))"
   ]
  },
  {
   "cell_type": "code",
   "execution_count": null,
   "id": "c776bdcd",
   "metadata": {},
   "outputs": [],
   "source": []
  }
 ],
 "metadata": {
  "kernelspec": {
   "display_name": "Python 3",
   "language": "python",
   "name": "python3"
  },
  "language_info": {
   "codemirror_mode": {
    "name": "ipython",
    "version": 3
   },
   "file_extension": ".py",
   "mimetype": "text/x-python",
   "name": "python",
   "nbconvert_exporter": "python",
   "pygments_lexer": "ipython3",
   "version": "3.8.8"
  }
 },
 "nbformat": 4,
 "nbformat_minor": 5
}
