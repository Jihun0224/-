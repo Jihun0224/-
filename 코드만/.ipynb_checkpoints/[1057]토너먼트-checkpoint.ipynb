{
 "cells": [
  {
   "cell_type": "code",
   "execution_count": 22,
   "id": "b1e551fa",
   "metadata": {},
   "outputs": [
    {
     "name": "stdout",
     "output_type": "stream",
     "text": [
      "60000 101 891\n",
      "10\n"
     ]
    }
   ],
   "source": [
    "total,n,m = map(int,input().split())\n",
    "for i in range(int(total**0.5)):\n",
    "    if (n+1)//2==(m+1)//2:\n",
    "        print(i+1)\n",
    "        break\n",
    "    n=(n+1)//2\n",
    "    m=(m+1)//2"
   ]
  }
 ],
 "metadata": {
  "kernelspec": {
   "display_name": "Python 3",
   "language": "python",
   "name": "python3"
  },
  "language_info": {
   "codemirror_mode": {
    "name": "ipython",
    "version": 3
   },
   "file_extension": ".py",
   "mimetype": "text/x-python",
   "name": "python",
   "nbconvert_exporter": "python",
   "pygments_lexer": "ipython3",
   "version": "3.8.8"
  }
 },
 "nbformat": 4,
 "nbformat_minor": 5
}
