{
 "cells": [
  {
   "cell_type": "code",
   "execution_count": 40,
   "id": "76c526bf",
   "metadata": {},
   "outputs": [
    {
     "name": "stdout",
     "output_type": "stream",
     "text": [
      "6\n",
      "10 20 10 30 20 50\n",
      "4\n"
     ]
    }
   ],
   "source": [
    "import sys\n",
    "input = sys.stdin.readline\n",
    "n = int(input())\n",
    "arr = list(map(int,input().split()))\n",
    "length = [1 for _ in range(n)]\n",
    "for k in range(n):\n",
    "    for i in range(k):\n",
    "        if(arr[i] < arr[k]):\n",
    "            length[k] = max(length[k], length[i] + 1)\n",
    "print(max(length))"
   ]
  },
  {
   "cell_type": "code",
   "execution_count": 41,
   "id": "e35d0aaa",
   "metadata": {},
   "outputs": [
    {
     "name": "stdout",
     "output_type": "stream",
     "text": [
      "6\n",
      "10 20 10 30 20 50\n",
      "2\n"
     ]
    }
   ],
   "source": [
    "n = int(input())\n",
    "arr = list(map(int,input().split()))\n",
    "length = [1 for _ in range(n)]\n",
    "for k in range(n):\n",
    "    for i in range(k):\n",
    "        if(arr[i] > arr[k]):\n",
    "            length[k] = max(length[k], length[i] + 1)\n",
    "print(max(length))"
   ]
  },
  {
   "cell_type": "code",
   "execution_count": null,
   "id": "c2b172e7",
   "metadata": {},
   "outputs": [],
   "source": []
  }
 ],
 "metadata": {
  "kernelspec": {
   "display_name": "Python 3",
   "language": "python",
   "name": "python3"
  },
  "language_info": {
   "codemirror_mode": {
    "name": "ipython",
    "version": 3
   },
   "file_extension": ".py",
   "mimetype": "text/x-python",
   "name": "python",
   "nbconvert_exporter": "python",
   "pygments_lexer": "ipython3",
   "version": "3.8.8"
  }
 },
 "nbformat": 4,
 "nbformat_minor": 5
}
