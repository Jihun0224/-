{
 "cells": [
  {
   "cell_type": "code",
   "execution_count": 11,
   "id": "f87a4b11",
   "metadata": {},
   "outputs": [
    {
     "name": "stdout",
     "output_type": "stream",
     "text": [
      "142\n",
      "73\n"
     ]
    }
   ],
   "source": [
    "n=int(input())\n",
    "s=\"\"\n",
    "for i in range(1,n+1):\n",
    "    s+=str(i)\n",
    "    answer=s.find(str(n))\n",
    "    if answer!=-1:\n",
    "        print(answer+1)\n",
    "        break"
   ]
  },
  {
   "cell_type": "code",
   "execution_count": 16,
   "id": "f496f187",
   "metadata": {},
   "outputs": [
    {
     "name": "stdout",
     "output_type": "stream",
     "text": [
      "10\n",
      "10\n",
      "9\n",
      "8\n",
      "7\n",
      "6\n",
      "5\n",
      "4\n",
      "3\n",
      "2\n",
      "1\n"
     ]
    }
   ],
   "source": [
    "for i in reversed(range(1,int(input())+1)):print(i)"
   ]
  },
  {
   "cell_type": "code",
   "execution_count": 17,
   "id": "8c2cc3c5",
   "metadata": {},
   "outputs": [
    {
     "name": "stdout",
     "output_type": "stream",
     "text": [
      "10\n",
      "11 10 9 8 7 6 5 4 3 2 1\n"
     ]
    }
   ],
   "source": [
    "print(*range(int(input())+1,0,-1))"
   ]
  },
  {
   "cell_type": "code",
   "execution_count": null,
   "id": "bc3e9e2a",
   "metadata": {},
   "outputs": [],
   "source": []
  }
 ],
 "metadata": {
  "kernelspec": {
   "display_name": "Python 3",
   "language": "python",
   "name": "python3"
  },
  "language_info": {
   "codemirror_mode": {
    "name": "ipython",
    "version": 3
   },
   "file_extension": ".py",
   "mimetype": "text/x-python",
   "name": "python",
   "nbconvert_exporter": "python",
   "pygments_lexer": "ipython3",
   "version": "3.8.8"
  }
 },
 "nbformat": 4,
 "nbformat_minor": 5
}
