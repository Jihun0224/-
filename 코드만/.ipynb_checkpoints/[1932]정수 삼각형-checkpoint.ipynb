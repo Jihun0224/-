{
 "cells": [
  {
   "cell_type": "code",
   "execution_count": 4,
   "id": "f35e61c1",
   "metadata": {},
   "outputs": [
    {
     "name": "stdout",
     "output_type": "stream",
     "text": [
      "5\n",
      "7\n",
      "3 8\n",
      "8 1 0\n",
      "2 7 4 4\n",
      "4 5 2 6 5\n"
     ]
    }
   ],
   "source": [
    "import sys\n",
    "input = sys.stdin.readline\n",
    "layer = int(input())\n",
    "triangle = [list(map(int,input().split())) for _ in range(layer)]\n",
    "for i in reversed(range(layer-1)):\n",
    "    for j in range(len(triangle[i])):\n",
    "        c1, c2 = (triangle[i+1][j],triangle[i+1][j+1])\n",
    "        if c1 > c2:\n",
    "            triangle[i][j] += c1\n",
    "        else:\n",
    "            triangle[i][j] += c2\n",
    "print(triangle[0][0])"
   ]
  }
 ],
 "metadata": {
  "kernelspec": {
   "display_name": "Python 3",
   "language": "python",
   "name": "python3"
  },
  "language_info": {
   "codemirror_mode": {
    "name": "ipython",
    "version": 3
   },
   "file_extension": ".py",
   "mimetype": "text/x-python",
   "name": "python",
   "nbconvert_exporter": "python",
   "pygments_lexer": "ipython3",
   "version": "3.8.8"
  }
 },
 "nbformat": 4,
 "nbformat_minor": 5
}
