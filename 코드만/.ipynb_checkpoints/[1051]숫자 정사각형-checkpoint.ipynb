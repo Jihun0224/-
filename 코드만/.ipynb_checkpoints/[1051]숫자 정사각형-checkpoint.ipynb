{
 "cells": [
  {
   "cell_type": "code",
   "execution_count": 3,
   "id": "59dcfdab",
   "metadata": {},
   "outputs": [
    {
     "name": "stdout",
     "output_type": "stream",
     "text": [
      "3 5\n",
      "22101\n",
      "22101\n",
      "22101\n"
     ]
    }
   ],
   "source": [
    "n,m = map(int,input().split())\n",
    "square = [list(map(int,(input())))for _ in range(n)]"
   ]
  },
  {
   "cell_type": "code",
   "execution_count": 4,
   "id": "39ebfb1a",
   "metadata": {},
   "outputs": [
    {
     "data": {
      "text/plain": [
       "[[2, 2, 1, 0, 1], [2, 2, 1, 0, 1], [2, 2, 1, 0, 1]]"
      ]
     },
     "execution_count": 4,
     "metadata": {},
     "output_type": "execute_result"
    }
   ],
   "source": [
    "square"
   ]
  },
  {
   "cell_type": "code",
   "execution_count": 5,
   "id": "05b412fc",
   "metadata": {},
   "outputs": [
    {
     "name": "stdout",
     "output_type": "stream",
     "text": [
      "1\n"
     ]
    }
   ],
   "source": [
    "if square[0][0] == square[0][0] == square[0][0] ==square[0][0]:\n",
    "    print(\"1\")"
   ]
  },
  {
   "cell_type": "code",
   "execution_count": null,
   "id": "51f149c4",
   "metadata": {},
   "outputs": [],
   "source": [
    "answer = 1\n",
    "max_ = min(n,m)-1\n",
    "\n",
    "for i in range(n-1):\n",
    "    for j in range(m-max_):\n",
    "        if square[i][j] == square[i][j+max_] == square[i][j+max_] ==square[i][j+max_]:\n",
    "            "
   ]
  }
 ],
 "metadata": {
  "kernelspec": {
   "display_name": "Python 3",
   "language": "python",
   "name": "python3"
  },
  "language_info": {
   "codemirror_mode": {
    "name": "ipython",
    "version": 3
   },
   "file_extension": ".py",
   "mimetype": "text/x-python",
   "name": "python",
   "nbconvert_exporter": "python",
   "pygments_lexer": "ipython3",
   "version": "3.8.8"
  }
 },
 "nbformat": 4,
 "nbformat_minor": 5
}
