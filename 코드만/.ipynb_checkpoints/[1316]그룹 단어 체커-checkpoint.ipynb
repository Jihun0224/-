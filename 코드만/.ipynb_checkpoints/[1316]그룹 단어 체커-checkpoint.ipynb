{
 "cells": [
  {
   "cell_type": "code",
   "execution_count": 40,
   "id": "a6b239f9",
   "metadata": {},
   "outputs": [
    {
     "name": "stdout",
     "output_type": "stream",
     "text": [
      "3\n",
      "good\n",
      "new\n",
      "ddasdasddddad\n",
      "2\n"
     ]
    }
   ],
   "source": [
    "n = int(input())\n",
    "answer = n\n",
    "for _ in range(n):\n",
    "    word = input()\n",
    "    set_ = set(list(word))\n",
    "    for c in set_:\n",
    "        if word.count(c) == 1:\n",
    "            continue\n",
    "        start = word.find(c)\n",
    "        end = len(word) - word[::-1].find(c) -1\n",
    "        if end != start and word[end-1] != c:\n",
    "            answer -= 1\n",
    "            break;\n",
    "print(answer)"
   ]
  },
  {
   "cell_type": "code",
   "execution_count": 44,
   "id": "2a0869df",
   "metadata": {},
   "outputs": [
    {
     "name": "stdout",
     "output_type": "stream",
     "text": [
      "3\n",
      "fooooooood\n",
      "goooasd\n",
      "asda\n",
      "0\n",
      "2\n"
     ]
    }
   ],
   "source": [
    "n = int(input())\n",
    "result = n\n",
    "for _ in range(n):\n",
    "    word=input()\n",
    "    for j in range(len(word)-1):\n",
    "        if word[j]==word[j+1]:\n",
    "            pass\n",
    "        elif word[j] in word[j+1:]:\n",
    "            result-=1\n",
    "            break\n",
    "print(result)"
   ]
  },
  {
   "cell_type": "code",
   "execution_count": null,
   "id": "f323755b",
   "metadata": {},
   "outputs": [],
   "source": []
  }
 ],
 "metadata": {
  "kernelspec": {
   "display_name": "Python 3",
   "language": "python",
   "name": "python3"
  },
  "language_info": {
   "codemirror_mode": {
    "name": "ipython",
    "version": 3
   },
   "file_extension": ".py",
   "mimetype": "text/x-python",
   "name": "python",
   "nbconvert_exporter": "python",
   "pygments_lexer": "ipython3",
   "version": "3.8.8"
  }
 },
 "nbformat": 4,
 "nbformat_minor": 5
}
