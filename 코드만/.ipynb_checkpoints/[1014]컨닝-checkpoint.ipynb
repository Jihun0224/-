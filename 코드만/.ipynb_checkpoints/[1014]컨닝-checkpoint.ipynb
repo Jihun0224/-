{
 "cells": [
  {
   "cell_type": "code",
   "execution_count": 22,
   "id": "245cb0d3",
   "metadata": {},
   "outputs": [
    {
     "name": "stdout",
     "output_type": "stream",
     "text": [
      "1\n",
      "2 3\n",
      "...\n",
      "...\n",
      "4\n"
     ]
    }
   ],
   "source": [
    "case = int(input())\n",
    "for _ in range(case):\n",
    "    n,m = map(int,input().split())\n",
    "    array = [list(input()) for _ in range(n)]\n",
    "    div, mod = divmod(m,2)\n",
    "    count1 = 0\n",
    "    count2 = 0\n",
    "    for i in range(n):\n",
    "        for j in range(div):\n",
    "            if array[i][j*2] == '.':\n",
    "                count1+=1\n",
    "            if array[i][(j*2)+1] == '.':\n",
    "                count2+=1\n",
    "    if mod == 1:\n",
    "        for i in range(n):\n",
    "            if array[i][m-1] == '.':\n",
    "                count2+=1\n",
    "    print(max(count1,count2))"
   ]
  },
  {
   "cell_type": "code",
   "execution_count": null,
   "id": "857ca594",
   "metadata": {},
   "outputs": [],
   "source": []
  }
 ],
 "metadata": {
  "kernelspec": {
   "display_name": "Python 3",
   "language": "python",
   "name": "python3"
  },
  "language_info": {
   "codemirror_mode": {
    "name": "ipython",
    "version": 3
   },
   "file_extension": ".py",
   "mimetype": "text/x-python",
   "name": "python",
   "nbconvert_exporter": "python",
   "pygments_lexer": "ipython3",
   "version": "3.8.8"
  }
 },
 "nbformat": 4,
 "nbformat_minor": 5
}
