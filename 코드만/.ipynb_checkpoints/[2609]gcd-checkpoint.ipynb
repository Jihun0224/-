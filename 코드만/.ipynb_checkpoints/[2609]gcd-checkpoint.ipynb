{
 "cells": [
  {
   "cell_type": "code",
   "execution_count": 2,
   "id": "a38747bd",
   "metadata": {},
   "outputs": [
    {
     "name": "stdout",
     "output_type": "stream",
     "text": [
      "1\n",
      "3 abc\n",
      "aaabbbccc\n"
     ]
    }
   ],
   "source": [
    "for i in range(int(input())):\n",
    "    n,s=input().split()\n",
    "    print(\"\".join([c*int(n) for c in s]))"
   ]
  },
  {
   "cell_type": "code",
   "execution_count": 6,
   "id": "84199811",
   "metadata": {},
   "outputs": [
    {
     "name": "stdout",
     "output_type": "stream",
     "text": [
      "24 18\n",
      "6\n",
      "72\n"
     ]
    }
   ],
   "source": [
    "import math\n",
    "n,m = map(int,input().split())\n",
    "print(math.gcd(n,m))\n",
    "print(n*m//math.gcd(n,m))"
   ]
  }
 ],
 "metadata": {
  "kernelspec": {
   "display_name": "Python 3",
   "language": "python",
   "name": "python3"
  },
  "language_info": {
   "codemirror_mode": {
    "name": "ipython",
    "version": 3
   },
   "file_extension": ".py",
   "mimetype": "text/x-python",
   "name": "python",
   "nbconvert_exporter": "python",
   "pygments_lexer": "ipython3",
   "version": "3.8.8"
  }
 },
 "nbformat": 4,
 "nbformat_minor": 5
}
