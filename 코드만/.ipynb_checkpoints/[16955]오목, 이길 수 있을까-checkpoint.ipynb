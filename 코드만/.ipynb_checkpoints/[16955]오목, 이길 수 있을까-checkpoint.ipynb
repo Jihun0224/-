{
 "cells": [
  {
   "cell_type": "code",
   "execution_count": 1,
   "id": "3162ff34",
   "metadata": {},
   "outputs": [
    {
     "name": "stdout",
     "output_type": "stream",
     "text": [
      "XX.XX.....\n",
      ".....OOOO.\n",
      "..........\n",
      "..........\n",
      "..........\n",
      "..........\n",
      "..........\n",
      "..........\n",
      "..........\n",
      "..........\n"
     ]
    }
   ],
   "source": [
    "board = [[input()] for _ in range(10)]\n"
   ]
  },
  {
   "cell_type": "code",
   "execution_count": 2,
   "id": "0449307e",
   "metadata": {},
   "outputs": [
    {
     "data": {
      "text/plain": [
       "[['XX.XX.....'],\n",
       " ['.....OOOO.'],\n",
       " ['..........'],\n",
       " ['..........'],\n",
       " ['..........'],\n",
       " ['..........'],\n",
       " ['..........'],\n",
       " ['..........'],\n",
       " ['..........'],\n",
       " ['..........']]"
      ]
     },
     "execution_count": 2,
     "metadata": {},
     "output_type": "execute_result"
    }
   ],
   "source": [
    "board"
   ]
  },
  {
   "cell_type": "code",
   "execution_count": null,
   "id": "b24e9f69",
   "metadata": {},
   "outputs": [],
   "source": [
    "d = [[1,0],[1,1],[1,-,1],[0,1]]\n",
    "for i in range(len(board)):\n",
    "    for i in range(len(board[0])):\n",
    "        if board[i][j]==\"X\":\n",
    "            for k in range(len(d)):\n",
    "                dx=i+d[i][0]\n",
    "                dy=j+d[i][1]\n",
    "                if dx>=0&&dx<len(board)&&dy>=0&&dy<len(board[0]):\n",
    "                    "
   ]
  }
 ],
 "metadata": {
  "kernelspec": {
   "display_name": "Python 3",
   "language": "python",
   "name": "python3"
  },
  "language_info": {
   "codemirror_mode": {
    "name": "ipython",
    "version": 3
   },
   "file_extension": ".py",
   "mimetype": "text/x-python",
   "name": "python",
   "nbconvert_exporter": "python",
   "pygments_lexer": "ipython3",
   "version": "3.8.8"
  }
 },
 "nbformat": 4,
 "nbformat_minor": 5
}
