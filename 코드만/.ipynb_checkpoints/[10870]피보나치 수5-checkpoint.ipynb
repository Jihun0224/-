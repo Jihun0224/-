{
 "cells": [
  {
   "cell_type": "code",
   "execution_count": 13,
   "id": "a3cf7b7a",
   "metadata": {},
   "outputs": [
    {
     "name": "stdout",
     "output_type": "stream",
     "text": [
      "10\n",
      "55\n"
     ]
    }
   ],
   "source": [
    "n = int(input())\n",
    "fibo = [-1 for _ in range(21)]\n",
    "\n",
    "for i in range(21):\n",
    "    if i < 2:\n",
    "        fibo[i] = i\n",
    "    else:\n",
    "        fibo[i] = fibo[i-2]+fibo[i-1]\n",
    "print(fibo[n])"
   ]
  }
 ],
 "metadata": {
  "kernelspec": {
   "display_name": "Python 3",
   "language": "python",
   "name": "python3"
  },
  "language_info": {
   "codemirror_mode": {
    "name": "ipython",
    "version": 3
   },
   "file_extension": ".py",
   "mimetype": "text/x-python",
   "name": "python",
   "nbconvert_exporter": "python",
   "pygments_lexer": "ipython3",
   "version": "3.8.8"
  }
 },
 "nbformat": 4,
 "nbformat_minor": 5
}
