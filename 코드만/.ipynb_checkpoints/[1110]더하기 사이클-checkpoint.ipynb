{
 "cells": [
  {
   "cell_type": "code",
   "execution_count": null,
   "id": "8580adb7",
   "metadata": {},
   "outputs": [],
   "source": [
    "sys.stdin.readline()"
   ]
  },
  {
   "cell_type": "code",
   "execution_count": 43,
   "id": "2e84ca58",
   "metadata": {},
   "outputs": [
    {
     "name": "stdout",
     "output_type": "stream",
     "text": [
      "1\n",
      "60\n"
     ]
    }
   ],
   "source": [
    "def task(n):\n",
    "    _10 = n[-1]\n",
    "    _1 = str(sum(map(int,n)))[-1]\n",
    "    return _10+_1\n",
    "\n",
    "n = input()\n",
    "tmp = task(n)\n",
    "count = 1\n",
    "while int(n) != int(tmp):\n",
    "    tmp = task(tmp)\n",
    "    count+=1\n",
    "print(count)"
   ]
  }
 ],
 "metadata": {
  "kernelspec": {
   "display_name": "Python 3",
   "language": "python",
   "name": "python3"
  },
  "language_info": {
   "codemirror_mode": {
    "name": "ipython",
    "version": 3
   },
   "file_extension": ".py",
   "mimetype": "text/x-python",
   "name": "python",
   "nbconvert_exporter": "python",
   "pygments_lexer": "ipython3",
   "version": "3.8.8"
  }
 },
 "nbformat": 4,
 "nbformat_minor": 5
}
