{
 "cells": [
  {
   "cell_type": "code",
   "execution_count": 8,
   "id": "cf8f84da",
   "metadata": {},
   "outputs": [
    {
     "name": "stdout",
     "output_type": "stream",
     "text": [
      "15\n",
      "push_back 1\n",
      "push_front 2\n",
      "front\n",
      "2\n",
      "back\n",
      "1\n",
      "size\n",
      "2\n",
      "empty\n",
      "0\n",
      "pop_front\n",
      "2\n",
      "pop_back\n",
      "1\n",
      "pop_front\n",
      "-1\n",
      "size\n",
      "0\n",
      "empty\n",
      "1\n",
      "pop_back\n",
      "-1\n",
      "push_front 3\n",
      "empty\n",
      "0\n",
      "front\n",
      "3\n"
     ]
    }
   ],
   "source": [
    "from collections import deque\n",
    "import sys\n",
    "input = sys.stdin.readline\n",
    "deq = deque()\n",
    "n=int(input())\n",
    "def isEmpty():\n",
    "    if len(deq)==0:return True\n",
    "    else:return False\n",
    "for _ in range(n):\n",
    "    command=input().split()\n",
    "    if len(command)==2:\n",
    "        if command[0]==\"push_front\":\n",
    "            deq.appendleft(int(command[1]))\n",
    "        else:\n",
    "            deq.append(int(command[1]))\n",
    "    else:\n",
    "        if command[0]==\"pop_front\":\n",
    "            if isEmpty():print(-1)\n",
    "            else:print(deq.popleft())\n",
    "        elif command[0]==\"pop_back\":\n",
    "            if isEmpty():print(-1)\n",
    "            else:print(deq.pop())\n",
    "        elif command[0]==\"size\":print(len(deq))\n",
    "        elif command[0]==\"empty\":\n",
    "            if isEmpty():print(1)\n",
    "            else:print(0)\n",
    "        elif command[0]==\"front\":\n",
    "            if isEmpty():print(-1)\n",
    "            else:print(deq[0])\n",
    "        else:\n",
    "            if isEmpty():print(-1)\n",
    "            else:print(deq[-1])\n",
    "        "
   ]
  },
  {
   "cell_type": "code",
   "execution_count": null,
   "id": "df2f635f",
   "metadata": {},
   "outputs": [],
   "source": []
  }
 ],
 "metadata": {
  "kernelspec": {
   "display_name": "Python 3",
   "language": "python",
   "name": "python3"
  },
  "language_info": {
   "codemirror_mode": {
    "name": "ipython",
    "version": 3
   },
   "file_extension": ".py",
   "mimetype": "text/x-python",
   "name": "python",
   "nbconvert_exporter": "python",
   "pygments_lexer": "ipython3",
   "version": "3.8.8"
  }
 },
 "nbformat": 4,
 "nbformat_minor": 5
}
