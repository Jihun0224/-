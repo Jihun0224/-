{
 "cells": [
  {
   "cell_type": "code",
   "execution_count": 59,
   "id": "5351a63e",
   "metadata": {},
   "outputs": [
    {
     "name": "stdout",
     "output_type": "stream",
     "text": [
      "5 3 2\n",
      "0 0 0 0 0\n",
      "0 0 0 0 0\n",
      "0 0 0 0 0\n",
      "0 0 0 0 0\n",
      "0 0 1 0 0\n",
      "0 0 0 0 0\n",
      "4\n"
     ]
    }
   ],
   "source": [
    "from collections import deque\n",
    "import sys\n",
    "input=sys.stdin.readline\n",
    "m,n,h=map(int,input().split())\n",
    "data=[[list(map(int,input().split()))for _ in range(n)] for _ in range(h)]\n",
    "queue = deque([])\n",
    "move=[[1,0,0],[-1,0,0],[0,1,0],[0,-1,0],[0,0,1],[0,0,-1]]\n",
    "for i in range(h):\n",
    "    for j in range(n):\n",
    "        for k in range(m): \n",
    "            if data[i][j][k]==1:\n",
    "                queue.append([i,j,k])\n",
    "while queue:\n",
    "    x,y,z=queue.popleft()\n",
    "    for d in move:\n",
    "        nx,ny,nz=x+d[0],y+d[1],z+d[2]\n",
    "        if 0<=nx<h and 0<=ny<n and 0<=nz<m and data[nx][ny][nz]==0:\n",
    "            queue.append([nx,ny,nz])\n",
    "            data[nx][ny][nz]=data[x][y][z]+1\n",
    "day=0\n",
    "for i in range(h):\n",
    "    for j in range(n):\n",
    "        for k in range(m):\n",
    "            if data[i][j][k]==0:\n",
    "                print(-1)\n",
    "                sys.exit(0)\n",
    "            day=max(day,data[i][j][k])\n",
    "print(day-1)"
   ]
  }
 ],
 "metadata": {
  "kernelspec": {
   "display_name": "Python 3",
   "language": "python",
   "name": "python3"
  },
  "language_info": {
   "codemirror_mode": {
    "name": "ipython",
    "version": 3
   },
   "file_extension": ".py",
   "mimetype": "text/x-python",
   "name": "python",
   "nbconvert_exporter": "python",
   "pygments_lexer": "ipython3",
   "version": "3.8.8"
  }
 },
 "nbformat": 4,
 "nbformat_minor": 5
}
