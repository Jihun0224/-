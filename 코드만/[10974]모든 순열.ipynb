{
 "cells": [
  {
   "cell_type": "code",
   "execution_count": 14,
   "id": "6ea58621",
   "metadata": {},
   "outputs": [
    {
     "name": "stdout",
     "output_type": "stream",
     "text": [
      "3\n",
      "1 2 3\n",
      "1 3 2\n",
      "2 1 3\n",
      "2 3 1\n",
      "3 1 2\n",
      "3 2 1\n"
     ]
    }
   ],
   "source": [
    "import sys\n",
    "sys.setrecursionlimit(10**6)\n",
    "n=int(input())\n",
    "visited=[0]*(n+1)\n",
    "def search(cur,depth):\n",
    "    if depth==n:\n",
    "        print(\" \".join(str(i) for i in cur))\n",
    "        return\n",
    "    for i in range(1,n+1):\n",
    "        if visited[i]==0:\n",
    "            visited[i]=1\n",
    "            cur.append(i)\n",
    "            search(cur,depth+1)\n",
    "            cur.remove(i)\n",
    "            visited[i]=0\n",
    "for i in range(1,n+1):\n",
    "    visited[i]=1\n",
    "    search([i],1)\n",
    "    visited[i]=0"
   ]
  },
  {
   "cell_type": "code",
   "execution_count": 15,
   "id": "63e9bbfd",
   "metadata": {},
   "outputs": [
    {
     "name": "stdout",
     "output_type": "stream",
     "text": [
      "3\n",
      "1 2 3 \n",
      "1 3 2 \n",
      "2 1 3 \n",
      "2 3 1 \n",
      "3 1 2 \n",
      "3 2 1 \n"
     ]
    }
   ],
   "source": [
    "from itertools import permutations\n",
    "n=int(input())\n",
    "nums=list(range(1,n+1))\n",
    "for i in list(permutations(nums)):\n",
    "    for num in i:\n",
    "        print(num, end=' ')\n",
    "    print()"
   ]
  },
  {
   "cell_type": "code",
   "execution_count": null,
   "id": "2936ad60",
   "metadata": {},
   "outputs": [],
   "source": []
  }
 ],
 "metadata": {
  "kernelspec": {
   "display_name": "Python 3",
   "language": "python",
   "name": "python3"
  },
  "language_info": {
   "codemirror_mode": {
    "name": "ipython",
    "version": 3
   },
   "file_extension": ".py",
   "mimetype": "text/x-python",
   "name": "python",
   "nbconvert_exporter": "python",
   "pygments_lexer": "ipython3",
   "version": "3.8.8"
  }
 },
 "nbformat": 4,
 "nbformat_minor": 5
}
