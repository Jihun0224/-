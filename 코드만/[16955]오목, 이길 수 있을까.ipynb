{
 "cells": [
  {
   "cell_type": "code",
   "execution_count": 10,
   "id": "2e3c3f07",
   "metadata": {},
   "outputs": [
    {
     "name": "stdout",
     "output_type": "stream",
     "text": [
      "XXOXX.....\n",
      "OO.O......\n",
      "..........\n",
      "..........\n",
      "..........\n",
      "..........\n",
      "..........\n",
      "..........\n",
      "..........\n",
      "..........\n",
      "1\n"
     ]
    }
   ],
   "source": [
    "board = [input() for _ in range(10)]\n",
    "exit=False\n",
    "d = [[1,0],[1,1],[1,-1],[0,1]]\n",
    "for i in range(len(board)):\n",
    "    if exit:break\n",
    "    for j in range(len(board[0])):\n",
    "        if exit:break\n",
    "        if board[i][j]==\"X\":\n",
    "            for k in range(len(d)):\n",
    "                if exit:break\n",
    "                dx=i\n",
    "                dy=j\n",
    "                countX=0\n",
    "                countD=0\n",
    "                for _ in range(4):\n",
    "                    if exit:break\n",
    "                    dx+=d[k][0]\n",
    "                    dy+=d[k][1]\n",
    "                    if dx>=0and dx<len(board)and dy>=0and dy<len(board[0]):\n",
    "                        if board[dx][dy]==\"X\":countX+=1 \n",
    "                        elif board[dx][dy]==\".\":countD+=1\n",
    "                if countX==3and countD==1:\n",
    "                    print(1)\n",
    "                    exit=True\n",
    "if exit==False:\n",
    "    print(0)"
   ]
  },
  {
   "cell_type": "code",
   "execution_count": 2,
   "id": "8dfc9ab3",
   "metadata": {},
   "outputs": [
    {
     "ename": "NameError",
     "evalue": "name 'board' is not defined",
     "output_type": "error",
     "traceback": [
      "\u001b[1;31m---------------------------------------------------------------------------\u001b[0m",
      "\u001b[1;31mNameError\u001b[0m                                 Traceback (most recent call last)",
      "\u001b[1;32m<ipython-input-2-66053c6bbf30>\u001b[0m in \u001b[0;36m<module>\u001b[1;34m\u001b[0m\n\u001b[1;32m----> 1\u001b[1;33m \u001b[0mboard\u001b[0m\u001b[1;33m\u001b[0m\u001b[1;33m\u001b[0m\u001b[0m\n\u001b[0m",
      "\u001b[1;31mNameError\u001b[0m: name 'board' is not defined"
     ]
    }
   ],
   "source": [
    "board....................\n"
   ]
  },
  {
   "cell_type": "code",
   "execution_count": null,
   "id": "8028e955",
   "metadata": {},
   "outputs": [],
   "source": [
    "def check(board,x,y,k):\n",
    "    d = [[1,0],[1,1],[1,-,1],[0,1]]\n",
    "    for k in range(2):\n",
    "        dx=i+d[k][0]\n",
    "        dy=j+d[k][1]\n",
    "        if dx>=0&&dx<len(board)&&dy>=0&&dy<len(board[0]):\n",
    "            "
   ]
  },
  {
   "cell_type": "code",
   "execution_count": 23,
   "id": "d287a9f2",
   "metadata": {},
   "outputs": [
    {
     "name": "stdout",
     "output_type": "stream",
     "text": [
      "XXOXX.....\n",
      "..........\n",
      "XXXXX.....\n",
      "XXOXX.....\n",
      "XXOXX.....\n",
      "XXOXX.....\n",
      "XXOXX.....\n",
      "XXOXX.....\n",
      "XXOXX.....\n",
      "XXOXX.....\n",
      "1\n"
     ]
    }
   ],
   "source": [
    "board = [input() for _ in range(10)]\n",
    "exit=False\n",
    "d = [[1,0],[1,1],[1,-1],[0,1]]\n",
    "for i in range(len(board)):\n",
    "    if exit:break\n",
    "    for j in range(len(board[0])):\n",
    "        if exit:break\n",
    "        if board[i][j]==\"X\":\n",
    "            for k in range(len(d)):\n",
    "                if exit:break\n",
    "                dx=i\n",
    "                dy=j\n",
    "                countX=0\n",
    "                countD=0\n",
    "                for _ in range(4):\n",
    "                    if exit:break\n",
    "                    dx+=d[k][0]\n",
    "                    dy+=d[k][1]\n",
    "                    if dx>=0and dx<len(board)and dy>=0and dy<len(board[0]):\n",
    "                        if board[dx][dy]==\"X\":countX+=1 \n",
    "                        if board[dx][dy]==\".\":countD+=1\n",
    "                if (countX==3and countD==1) or countX==4:\n",
    "                    exit=True\n",
    "if exit:print(1)\n",
    "else:print(0)"
   ]
  },
  {
   "cell_type": "code",
   "execution_count": 18,
   "id": "42cd30d7",
   "metadata": {},
   "outputs": [
    {
     "data": {
      "text/plain": [
       "'XXOXX.....'"
      ]
     },
     "execution_count": 18,
     "metadata": {},
     "output_type": "execute_result"
    }
   ],
   "source": [
    "board[0]"
   ]
  },
  {
   "cell_type": "code",
   "execution_count": null,
   "id": "e1dbddc7",
   "metadata": {},
   "outputs": [],
   "source": []
  }
 ],
 "metadata": {
  "kernelspec": {
   "display_name": "Python 3",
   "language": "python",
   "name": "python3"
  },
  "language_info": {
   "codemirror_mode": {
    "name": "ipython",
    "version": 3
   },
   "file_extension": ".py",
   "mimetype": "text/x-python",
   "name": "python",
   "nbconvert_exporter": "python",
   "pygments_lexer": "ipython3",
   "version": "3.8.8"
  }
 },
 "nbformat": 4,
 "nbformat_minor": 5
}
