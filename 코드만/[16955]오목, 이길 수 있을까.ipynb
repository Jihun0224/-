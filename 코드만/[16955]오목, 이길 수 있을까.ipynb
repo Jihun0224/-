{
 "cells": [
  {
   "cell_type": "code",
   "execution_count": 6,
   "id": "e1dbddc7",
   "metadata": {},
   "outputs": [
    {
     "name": "stdout",
     "output_type": "stream",
     "text": [
      "XX.XX.....\n",
      "..........\n",
      "..........\n",
      "..........\n",
      "..........\n",
      "..........\n",
      "..........\n",
      "..........\n",
      "..........\n",
      "..........\n",
      "1\n"
     ]
    },
    {
     "ename": "SystemExit",
     "evalue": "0",
     "output_type": "error",
     "traceback": [
      "An exception has occurred, use %tb to see the full traceback.\n",
      "\u001b[1;31mSystemExit\u001b[0m\u001b[1;31m:\u001b[0m 0\n"
     ]
    }
   ],
   "source": [
    "import sys\n",
    "board = [input() for _ in range(10)]\n",
    "d = [[1,0],[1,1],[1,-1],[0,1],[-1,-1],[-1,0],[-1,1],[0,-1]]\n",
    "for i in range(10):\n",
    "    for j in range(10):\n",
    "        if board[i][j]==\"X\":\n",
    "            for k in d:\n",
    "                dx=i\n",
    "                dy=j\n",
    "                countX=0\n",
    "                countD=0\n",
    "                for _ in range(4):\n",
    "                    dx+=k[0]\n",
    "                    dy+=k[1]\n",
    "                    if 0<=dx<10and 0<=dy<10:\n",
    "                        if board[dx][dy]==\"X\":countX+=1 \n",
    "                        if board[dx][dy]==\".\":countD+=1\n",
    "                if (countX==3and countD==1) or countX==4:\n",
    "                    print(1)\n",
    "                    sys.exit(0)\n",
    "print(0)"
   ]
  },
  {
   "cell_type": "code",
   "execution_count": null,
   "id": "0f256701",
   "metadata": {},
   "outputs": [],
   "source": []
  }
 ],
 "metadata": {
  "kernelspec": {
   "display_name": "Python 3",
   "language": "python",
   "name": "python3"
  },
  "language_info": {
   "codemirror_mode": {
    "name": "ipython",
    "version": 3
   },
   "file_extension": ".py",
   "mimetype": "text/x-python",
   "name": "python",
   "nbconvert_exporter": "python",
   "pygments_lexer": "ipython3",
   "version": "3.8.8"
  }
 },
 "nbformat": 4,
 "nbformat_minor": 5
}
